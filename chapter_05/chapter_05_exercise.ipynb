{
 "metadata": {
  "language_info": {
   "codemirror_mode": {
    "name": "ipython",
    "version": 3
   },
   "file_extension": ".py",
   "mimetype": "text/x-python",
   "name": "python",
   "nbconvert_exporter": "python",
   "pygments_lexer": "ipython3",
   "version": "3.7.5-final"
  },
  "orig_nbformat": 2,
  "kernelspec": {
   "name": "python3",
   "display_name": "Python 3.7.5 64-bit ('python37': conda)",
   "metadata": {
    "interpreter": {
     "hash": "39186e0ee03719450e25f96b33f5f37448852afa64e693a51906c0790c4cf153"
    }
   }
  }
 },
 "nbformat": 4,
 "nbformat_minor": 2,
 "cells": [
  {
   "source": [
    "# Chapter 5 Computing transformations with matrices"
   ],
   "cell_type": "markdown",
   "metadata": {}
  },
  {
   "source": [
    "Any linear transformation in 3D can be specified by just three vectors or nine numbers total. By correctly selecting these nine numbers, we can achieve rotation by any angle about any axis, reflection across any plane, projection onto any plane, scaling by any factor in any direction, or any other 3D linear transformation."
   ],
   "cell_type": "markdown",
   "metadata": {}
  },
  {
   "source": [
    "The transformation expressed as “a rotation counterclockwise by 90° about the z-axis” can equivalently be described by what it does to the standard basis vectors `e1 = (1, 0, 0)`, `e2 = (0, 1, 0)`, and `e3 = (0, 0, 1)`. Namely, the results are `(0, 1, 0)`, `(-1, 0, 0)`, and `(0, 0, 1)`."
   ],
   "cell_type": "markdown",
   "metadata": {}
  },
  {
   "source": [
    "## 5.1 Representing linear transformations with matrices"
   ],
   "cell_type": "markdown",
   "metadata": {}
  },
  {
   "source": [
    "### 5.1.1 Writing vectors and linear transformations as matrices"
   ],
   "cell_type": "markdown",
   "metadata": {}
  },
  {
   "source": [
    "Matrices are rectangular grids of numbers, and their shapes tell us how to interpret them. For instance, we can interpret a matrix that is a single column of numbers as a vector with its entries being the coordinates, ordered top to bottom. In this form, the vectors are called ***column vectors***. For example, the standard basis for three dimensions can be written as three column vectors like this:  \n",
    "\n",
    "$e1 = \\begin{pmatrix}\n",
    "1 \\\\\n",
    "0 \\\\\n",
    "0 \n",
    "\\end{pmatrix},\\quad \n",
    "e2 = \\begin{pmatrix}\n",
    "0 \\\\\n",
    "1 \\\\\n",
    "0\n",
    "\\end{pmatrix},\\quad \n",
    "e3 = \\begin{pmatrix}\n",
    "0 \\\\\n",
    "0 \\\\\n",
    "1\n",
    "\\end{pmatrix}$\n"
   ],
   "cell_type": "markdown",
   "metadata": {}
  },
  {
   "source": [
    "We can write transform `A(e1) = (1, 1, 1)`, `A(e2) = (1, 0, -1)`, `A(e3) = (0, 1, 1)` as a ***3 column vectors*** :  \n",
    "\n",
    "$Ae1 = \\begin{pmatrix}\n",
    "1 \\\\\n",
    "1 \\\\\n",
    "1 \n",
    "\\end{pmatrix},\\quad \n",
    "Ae2 = \\begin{pmatrix}\n",
    "1 \\\\\n",
    "0 \\\\\n",
    "-1\n",
    "\\end{pmatrix},\\quad \n",
    "Ae3 = \\begin{pmatrix}\n",
    "0 \\\\\n",
    "1 \\\\\n",
    "1\n",
    "\\end{pmatrix}$\n",
    "\n",
    "or as a ***matrix*** where these column vectors are squashed together side by side:  \n",
    "\n",
    "$A = \\begin{pmatrix}\n",
    "1 & 1 & 0 \\\\\n",
    "1 & 0 & 1 \\\\\n",
    "1 & -1 & 1 \\\\\n",
    "\\end{pmatrix}$\n"
   ],
   "cell_type": "markdown",
   "metadata": {}
  },
  {
   "source": [
    "Matrices can come in other shapes and sizes, but we’ll focus on these two shapes for now: **the single column matrices** representing **vectors** and the **square matrices** representing **linear transformations**."
   ],
   "cell_type": "markdown",
   "metadata": {}
  },
  {
   "source": [
    "A linear transformation is defined by its results acting on the standard basis vectors. The way to get a matrix from a linear transformation is to find the vectors it produces from all of the standard basis vectors and combine the results side by side."
   ],
   "cell_type": "markdown",
   "metadata": {}
  },
  {
   "source": [
    "### 5.1.2 Multiplying a matrix with a vector"
   ],
   "cell_type": "markdown",
   "metadata": {}
  },
  {
   "source": [
    "There are two mnemonic recipes for multiplying a matrix by a vector, both of which give the same results.\n",
    "\n",
    "$\\begin{pmatrix}\n",
    "a & b & c \\\\\n",
    "d & e & f \\\\\n",
    "g & h & i \\\\\n",
    "\\end{pmatrix} \\times\n",
    "\\begin{pmatrix}\n",
    "x \\\\\n",
    "y \\\\\n",
    "z\n",
    "\\end{pmatrix}$"
   ],
   "cell_type": "markdown",
   "metadata": {}
  },
  {
   "source": [
    "**1)** The result of this calculation is ***the linear combination of the columns of the matrix with the coordinates x, y, and z as the scalars***:\n",
    "\n",
    "$x \\times \\begin{pmatrix}\n",
    "a \\\\\n",
    "d \\\\\n",
    "g \n",
    "\\end{pmatrix} + \n",
    "y \\times \\begin{pmatrix}\n",
    "b \\\\\n",
    "e \\\\\n",
    "h\n",
    "\\end{pmatrix} +  \n",
    "z \\times \\begin{pmatrix}\n",
    "c \\\\\n",
    "f \\\\\n",
    "i\n",
    "\\end{pmatrix} = \n",
    "\\begin{pmatrix}\n",
    "ax + by + cz \\\\\n",
    "dx + ey + fz \\\\\n",
    "gx + hy + iz \\\\\n",
    "\\end{pmatrix}$\n",
    "\n",
    "The first mnemonic is that each coordinate of the output vector is a function of all the coordinates of the input vector. For instance, the first coordinate of the `3D ` output is a function `f(x, y, z) = ax + by + cz`. Moreover, this is a ***linear function*** (in the sense that you used the word in high school algebra); ***it is a sum of a number times each variable***. We originally introduced the term “linear transformation” because linear transformations preserve lines. Another reason to use that term: a linear transformation is a collection of linear functions on the input coordinates that give the respective output coordinates.\n"
   ],
   "cell_type": "markdown",
   "metadata": {}
  },
  {
   "source": [
    "**2)** The second mnemonic presents the same formula differently: the coordinates of the output vector are ***dot products of the rows of the matrix with the target vector***. For instance, the first row of the 3-by-3 matrix is `(a, b, c)` and the multiplied vector is `(x, y, z)`, so the first coordinate of the output is `(a, b, c) ∙ (x, y, z) = ax + by + cz`.\n",
    "\n",
    "$\\begin{pmatrix}\n",
    "a & b & c \\\\\n",
    "d & e & f \\\\\n",
    "g & h & i \\\\\n",
    "\\end{pmatrix} \\times\n",
    "\\begin{pmatrix}\n",
    "x \\\\\n",
    "y \\\\\n",
    "z\n",
    "\\end{pmatrix} =\n",
    "\\begin{pmatrix}\n",
    "(a,b,c) \\times (x,y,z) \\\\\n",
    "(d,e,f) \\times (x,y,z) \\\\\n",
    "(g,h,i) \\times (x,y,z)\n",
    "\\end{pmatrix} = \n",
    "\\begin{pmatrix}\n",
    "ax + by + cz \\\\\n",
    "dx + ey + fz \\\\\n",
    "gx + hy + iz \\\\\n",
    "\\end{pmatrix}$\n"
   ],
   "cell_type": "markdown",
   "metadata": {}
  },
  {
   "source": [
    "If a linear transformation `B` is represented as a matrix, and a vector `v` is also represented as a matrix (a column vector), we have all of the numbers required to evaluate `B(v)`.\n",
    "\n",
    "$B = \\begin{pmatrix}\n",
    "0 & 2 & 1 \\\\\n",
    "0 & 1 & 0 \\\\\n",
    "1 & 0 & -1 \\\\\n",
    "\\end{pmatrix}, \\quad\n",
    "v = \\begin{pmatrix}\n",
    "3 \\\\\n",
    "-2 \\\\\n",
    "5\n",
    "\\end{pmatrix}$"
   ],
   "cell_type": "markdown",
   "metadata": {}
  },
  {
   "source": [
    "Using #1 menmoic, the vectors `B(e1)`, `B(e2)`, and `B(e3)` can be read off of `B` as the ***columns vectors*** of its matrix. From that point, we use the same procedure as before. Because `v = 3e1 − 2e2 + 5e3`, it follows that `B(v) = 3B(e1) − 2 B(e2) + 5B(e3)`. Expanding this, we get:\n",
    "\n",
    "$B(v) = 3 \\times \\begin{pmatrix}\n",
    "0 \\\\\n",
    "0 \\\\\n",
    "1 \n",
    "\\end{pmatrix} - \n",
    "2 \\times \\begin{pmatrix}\n",
    "2 \\\\\n",
    "1 \\\\\n",
    "0\n",
    "\\end{pmatrix} +  \n",
    "5 \\times \\begin{pmatrix}\n",
    "1 \\\\\n",
    "0 \\\\\n",
    "-1\n",
    "\\end{pmatrix}=\n",
    "\\begin{pmatrix}\n",
    "0 \\\\\n",
    "0 \\\\\n",
    "3\n",
    "\\end{pmatrix} +\n",
    "\\begin{pmatrix}\n",
    "-4 \\\\\n",
    "-2 \\\\\n",
    "0\n",
    "\\end{pmatrix} +\n",
    "\\begin{pmatrix}\n",
    "5 \\\\\n",
    "0 \\\\\n",
    "-5\n",
    "\\end{pmatrix} = \n",
    "\\begin{pmatrix}\n",
    "1 \\\\\n",
    "-2 \\\\\n",
    "-2\n",
    "\\end{pmatrix}$"
   ],
   "cell_type": "markdown",
   "metadata": {}
  },
  {
   "source": [
    "\n",
    "Using #2 menmoic, treating a square matrix as a function that operates on a column vector is a special case of an operation called ***matrix multiplication***.\n",
    "\n",
    "$B(v) = \\begin{pmatrix}\n",
    "0 & 2 & 1 \\\\\n",
    "0 & 1 & 0 \\\\\n",
    "1 & 0 & -1 \\\\\n",
    "\\end{pmatrix} \\times\n",
    "\\begin{pmatrix}\n",
    "3 \\\\\n",
    "-2 \\\\\n",
    "5\n",
    "\\end{pmatrix} = \n",
    "\\begin{pmatrix}\n",
    "(0,2,1) \\times (3,-2,5) \\\\\n",
    "(0,1,0) \\times (3,-2,5) \\\\\n",
    "(1,0,-1) \\times (3,-2,5)\n",
    "\\end{pmatrix} = \n",
    "\\begin{pmatrix}\n",
    "0\\times3 + 2\\times-2 + 1\\times5 \\\\\n",
    "0\\times3 + 1\\times-2 + 0\\times5 \\\\\n",
    "1\\times3 + 0\\times-2 + -1\\times5 \\\\\n",
    "\\end{pmatrix} = \n",
    "\\begin{pmatrix}\n",
    "1 \\\\\n",
    "-2 \\\\\n",
    "-2\n",
    "\\end{pmatrix}$"
   ],
   "cell_type": "markdown",
   "metadata": {}
  },
  {
   "source": [
    "As opposed to multiplying numbers, the order matters when you multiply matrices by vectors. In this case, `Bv` is a valid product but `vB` is not."
   ],
   "cell_type": "markdown",
   "metadata": {}
  },
  {
   "source": [
    "We can write Python code that multiplies a matrix by a vector. Let’s say we encode the matrix B as a tuple-of-tuples and the vector v as a tuple as usual:"
   ],
   "cell_type": "markdown",
   "metadata": {}
  },
  {
   "cell_type": "code",
   "execution_count": 13,
   "metadata": {},
   "outputs": [],
   "source": [
    "B = (\n",
    "    (0,2,1), \n",
    "    (0,1,0), \n",
    "    (1,0,-1)\n",
    "    ) \n",
    "  \n",
    "v = (3,-2,5)"
   ]
  },
  {
   "cell_type": "code",
   "execution_count": 8,
   "metadata": {},
   "outputs": [
    {
     "output_type": "execute_result",
     "data": {
      "text/plain": [
       "[(0, 0, 1), (2, 1, 0), (1, 0, -1)]"
      ]
     },
     "metadata": {},
     "execution_count": 8
    }
   ],
   "source": [
    "list(zip(*B)) "
   ]
  },
  {
   "source": [
    "**Note:** this linear combination function is from the exercise in section 4.2.5"
   ],
   "cell_type": "markdown",
   "metadata": {}
  },
  {
   "cell_type": "code",
   "execution_count": 48,
   "metadata": {},
   "outputs": [],
   "source": [
    "from vectors import *\n",
    "def linear_combination(scalars,*vectors):\n",
    "    scaled = [scale(s,v) for s,v in zip(scalars,vectors)]\n",
    "    return add(*scaled)"
   ]
  },
  {
   "cell_type": "code",
   "execution_count": 10,
   "metadata": {},
   "outputs": [],
   "source": [
    "def multiply_matrix_vector(matrix, vector):\n",
    "    return linear_combination(vector, *zip(*matrix))"
   ]
  },
  {
   "cell_type": "code",
   "execution_count": 18,
   "metadata": {},
   "outputs": [
    {
     "output_type": "execute_result",
     "data": {
      "text/plain": [
       "(1, -2, -2)"
      ]
     },
     "metadata": {},
     "execution_count": 18
    }
   ],
   "source": [
    "multiply_matrix_vector(B,v)"
   ]
  },
  {
   "source": [
    "### 5.1.3 Composing linear transformations by matrix multiplication"
   ],
   "cell_type": "markdown",
   "metadata": {}
  },
  {
   "source": [
    " In math terminology, the ***composition*** of any number of linear transformations is also a linear transformation."
   ],
   "cell_type": "markdown",
   "metadata": {}
  },
  {
   "source": [
    "If we have composition of two linear transformation `A(B(u))`:\n",
    "\n",
    "$A=\\begin{pmatrix}\n",
    "a & b & c \\\\\n",
    "d & e & f \\\\\n",
    "g & h & i \\\\\n",
    "\\end{pmatrix}, \\quad\n",
    "B=\\begin{pmatrix}\n",
    "A & B & C \\\\\n",
    "D & E & F \\\\\n",
    "G & H & I \\\\\n",
    "\\end{pmatrix}, \\quad\n",
    "u=\\begin{pmatrix}\n",
    "x \\\\\n",
    "y \\\\\n",
    "z \n",
    "\\end{pmatrix}$\n",
    "\n",
    "here is how composition should work, first we can find the product of matrix AB\n",
    "\n",
    "$AB = \\begin{pmatrix}\n",
    "a & b & c \\\\\n",
    "d & e & f \\\\\n",
    "g & h & i \\\\\n",
    "\\end{pmatrix} \\times\n",
    "\\begin{pmatrix}\n",
    "A & B & C \\\\\n",
    "D & E & F \\\\\n",
    "G & H & I \\\\\n",
    "\\end{pmatrix}= \n",
    "\\begin{pmatrix}\n",
    "(aA +bD + cG), (aB +bE + cH), ((aC +bF + cI)) \\\\\n",
    "(dA + eD + fG), (dB + eE + fH), (dC + eF + fI) \\\\\n",
    "(gA + hD + iG), (gB + hE + iH), (gC + hF + iI)\n",
    "\\end{pmatrix}= \n",
    "\\begin{pmatrix}\n",
    "? & ? & ? \\\\\n",
    "? & ? & ? \\\\\n",
    "? & ? & ? \n",
    "\\end{pmatrix}$\n",
    "\n",
    "then we can multily our final matrix `AB` with vector `u` as we did in previous chapter.\n"
   ],
   "cell_type": "markdown",
   "metadata": {}
  },
  {
   "source": [
    "### 5.1.4 Implementing matrix multiplication"
   ],
   "cell_type": "markdown",
   "metadata": {}
  },
  {
   "cell_type": "code",
   "execution_count": 1,
   "metadata": {},
   "outputs": [],
   "source": [
    "from vectors import *\n",
    "\n",
    "def matrix_multiply(a,b):\n",
    "    return tuple(tuple(dot(row, col) for col in zip(*b)) for row in a)"
   ]
  },
  {
   "cell_type": "code",
   "execution_count": 94,
   "metadata": {},
   "outputs": [
    {
     "output_type": "execute_result",
     "data": {
      "text/plain": [
       "((0, 3, 1), (1, 2, 0), (1, 1, 0))"
      ]
     },
     "metadata": {},
     "execution_count": 94
    }
   ],
   "source": [
    "a = ((1,1,0),(1,0,1),(1,-1,1)) \n",
    "b = ((0,2,1),(0,1,0),(1,0,-1))\n",
    "\n",
    "matrix_multiply(a,b)"
   ]
  },
  {
   "cell_type": "code",
   "execution_count": 96,
   "metadata": {},
   "outputs": [
    {
     "output_type": "execute_result",
     "data": {
      "text/plain": [
       "((2, -1), (4, -3))"
      ]
     },
     "metadata": {},
     "execution_count": 96
    }
   ],
   "source": [
    "c = ((1,2),(3,4)) \n",
    "d = ((0,-1),(1,0))\n",
    "\n",
    "matrix_multiply(c,d) "
   ]
  },
  {
   "source": [
    "### 5.1.5 3D animation with matrix transformations"
   ],
   "cell_type": "markdown",
   "metadata": {}
  },
  {
   "cell_type": "code",
   "execution_count": 99,
   "metadata": {},
   "outputs": [],
   "source": [
    "from teapot import load_triangles\n",
    "from draw_model import draw_model\n",
    "from math import sin,cos\n",
    " \n",
    "def get_rotation_matrix(t):\n",
    "    seconds = t/1000\n",
    "    return (\n",
    "        (cos(seconds),0,-sin(seconds)),\n",
    "        (0,1,0),\n",
    "        (sin(seconds),0,cos(seconds))\n",
    "    ) \n",
    "#draw_model(load_triangles(), get_matrix=get_rotation_matrix)"
   ]
  },
  {
   "source": [
    "## 5.1.6 Exercises"
   ],
   "cell_type": "markdown",
   "metadata": {}
  },
  {
   "source": [
    "**Exercise:** Write a function `infer_matrix(n, transformation)` that takes a dimension (like 2 or 3) and a function that is a vector transformation assumed to be linear. It should return an $n$-by-$n$ square matrix (an $n$-tuple of $n$-tuples of numbers, which is the matrix representing the linear transformation. Of course, the output will only be meaningful if the input transformation is linear. Otherwise, it represents an entirely different function!"
   ],
   "cell_type": "markdown",
   "metadata": {}
  },
  {
   "cell_type": "code",
   "execution_count": 30,
   "metadata": {},
   "outputs": [],
   "source": [
    "from transforms import *\n",
    "from math import pi\n",
    "\n",
    "def infer_matrix(n, transformation):\n",
    "    # standard basis vector\n",
    "    sbv = (\n",
    "        (1,0,0),\n",
    "        (0,1,0),\n",
    "        (0,0,1)\n",
    "    )\n",
    "    matrix = tuple(transformation(vector) for vector in sbv)\n",
    "    matrix_t = tuple(zip(*matrix))\n",
    "    return matrix_t[:n]"
   ]
  },
  {
   "cell_type": "code",
   "execution_count": 31,
   "metadata": {},
   "outputs": [
    {
     "output_type": "execute_result",
     "data": {
      "text/plain": [
       "((2, 0, 0), (0, 2, 0), (0, 0, 2))"
      ]
     },
     "metadata": {},
     "execution_count": 31
    }
   ],
   "source": [
    "infer_matrix(3, scale_by(2))"
   ]
  },
  {
   "cell_type": "code",
   "execution_count": 141,
   "metadata": {},
   "outputs": [
    {
     "output_type": "execute_result",
     "data": {
      "text/plain": [
       "((6.123233995736766e-17, 1.0, 0), (-1.0, 1.2246467991473532e-16, 0))"
      ]
     },
     "metadata": {},
     "execution_count": 141
    }
   ],
   "source": [
    "infer_matrix(2,rotate_z_by(pi/2))"
   ]
  },
  {
   "cell_type": "code",
   "execution_count": 25,
   "metadata": {},
   "outputs": [],
   "source": [
    "def infer_matrix(n, transformation):\n",
    "    def standard_basis_vector(i):\n",
    "        return tuple(1 if i==j else 0 for j in range(1,n+1)) #1\n",
    "    standard_basis = [standard_basis_vector(i) for i in range(1,n+1)] #2\n",
    "    cols = [transformation(v) for v in standard_basis] #3\n",
    "    return tuple(zip(*cols)) #4"
   ]
  },
  {
   "cell_type": "code",
   "execution_count": 168,
   "metadata": {},
   "outputs": [
    {
     "output_type": "execute_result",
     "data": {
      "text/plain": [
       "((6.123233995736766e-17, -1.0, 0.0),\n",
       " (1.0, 1.2246467991473532e-16, 0.0),\n",
       " (0, 0, 1))"
      ]
     },
     "metadata": {},
     "execution_count": 168
    }
   ],
   "source": [
    "infer_matrix(3,rotate_z_by(pi/2))"
   ]
  },
  {
   "cell_type": "code",
   "execution_count": 176,
   "metadata": {},
   "outputs": [
    {
     "output_type": "execute_result",
     "data": {
      "text/plain": [
       "-16.25"
      ]
     },
     "metadata": {},
     "execution_count": 176
    }
   ],
   "source": [
    "6.5*(-2.5)"
   ]
  },
  {
   "source": [
    "**Mini-project:** Write a random_matrix function that generates matrices of a specified size with random whole number entries. Use the function to generate five pairs of 3-by-3 matrices. Multiply each of the pairs together by hand (for practice), and then check your work with the matrix_multiply function."
   ],
   "cell_type": "markdown",
   "metadata": {}
  },
  {
   "cell_type": "code",
   "execution_count": 27,
   "metadata": {},
   "outputs": [],
   "source": [
    "from random import *\n",
    "\n",
    "def random_matrix(rows, columns, min, max):\n",
    "    return tuple(\n",
    "        tuple(randint(min, max) for column in range(columns)) \n",
    "        for i in range(rows))"
   ]
  },
  {
   "cell_type": "code",
   "execution_count": 28,
   "metadata": {},
   "outputs": [
    {
     "output_type": "execute_result",
     "data": {
      "text/plain": [
       "((9, 1, 7), (4, 8, 1), (5, 7, 8))"
      ]
     },
     "metadata": {},
     "execution_count": 28
    }
   ],
   "source": [
    "random_matrix(3,3,0,9)"
   ]
  },
  {
   "cell_type": "code",
   "execution_count": 270,
   "metadata": {},
   "outputs": [
    {
     "output_type": "execute_result",
     "data": {
      "text/plain": [
       "[(((6, 9, 4), (3, 0, 6), (3, 9, 7)), ((1, 7, 4), (5, 0, 5), (9, 4, 2))),\n",
       " (((9, 7, 4), (2, 3, 4), (0, 8, 8)), ((1, 4, 3), (8, 2, 8), (8, 5, 2))),\n",
       " (((3, 1, 4), (4, 5, 8), (1, 0, 1)), ((0, 4, 7), (8, 9, 1), (5, 4, 9))),\n",
       " (((0, 9, 9), (5, 8, 8), (8, 9, 8)), ((6, 6, 6), (0, 5, 3), (3, 5, 9))),\n",
       " (((3, 4, 9), (9, 4, 6), (9, 0, 4)), ((4, 7, 5), (9, 4, 0), (6, 5, 2)))]"
      ]
     },
     "metadata": {},
     "execution_count": 270
    }
   ],
   "source": [
    "matrices = [tuple(random_matrix(3,3,0,9) for j in range(2)) for i in range(5)]\n",
    "matrices"
   ]
  },
  {
   "cell_type": "code",
   "execution_count": 276,
   "metadata": {},
   "outputs": [
    {
     "output_type": "execute_result",
     "data": {
      "text/plain": [
       "((87, 58, 77), (57, 45, 24), (111, 49, 71))"
      ]
     },
     "metadata": {},
     "execution_count": 276
    }
   ],
   "source": [
    "matrix_multiply(*matrices[0])"
   ]
  },
  {
   "cell_type": "code",
   "execution_count": 282,
   "metadata": {},
   "outputs": [
    {
     "output_type": "execute_result",
     "data": {
      "text/plain": [
       "[((87, 58, 77), (57, 45, 24), (111, 49, 71)),\n",
       " ((97, 70, 91), (58, 34, 38), (128, 56, 80)),\n",
       " ((28, 37, 58), (80, 93, 105), (5, 8, 16)),\n",
       " ((27, 90, 108), (54, 110, 126), (72, 133, 147)),\n",
       " ((102, 82, 33), (108, 109, 57), (60, 83, 53))]"
      ]
     },
     "metadata": {},
     "execution_count": 282
    }
   ],
   "source": [
    "matrices_mult = [matrix_multiply(a,b) for a,b in matrices]\n",
    "matrices_mult"
   ]
  },
  {
   "cell_type": "code",
   "execution_count": 283,
   "metadata": {},
   "outputs": [
    {
     "output_type": "execute_result",
     "data": {
      "text/plain": [
       "[((39, 45, 74), (45, 90, 55), (72, 99, 74)),\n",
       " ((17, 43, 44), (76, 126, 104), (82, 87, 68)),\n",
       " ((23, 20, 39), (61, 53, 105), (40, 25, 61)),\n",
       " ((78, 156, 150), (49, 67, 64), (97, 148, 139)),\n",
       " ((120, 44, 98), (63, 52, 105), (81, 44, 92))]"
      ]
     },
     "metadata": {},
     "execution_count": 283
    }
   ],
   "source": [
    "matrices_reorder_mult = [matrix_multiply(b,a) for a,b in matrices]\n",
    "matrices_reorder_mult"
   ]
  },
  {
   "source": [
    "Operation is ***commutative*** if it gives the same result regardless of the order of inputs. For instance, multiplying numbers is a commutative operation because `xy = yx` for any choice of numbers `x` and `y`. However, matrix multiplication is not commutative because for two square matrices `A` and `B`, `AB` does not always equal `BA`."
   ],
   "cell_type": "markdown",
   "metadata": {}
  },
  {
   "source": [
    "Exercise 5.5: In either 2D or 3D, there is a boring but important vector transformation called the identity transformation that takes in a vector and returns the same vector as output. This transformation is linear because it takes any input vector sum, scalar multiple, or linear combination and returns the same thing as output. What are the matrices representing the identity transformation in 2D and 3D, respectively?\n"
   ],
   "cell_type": "markdown",
   "metadata": {}
  },
  {
   "source": [
    "**Solution:** In 2D or 3D, the identity transformation acts on the standard basis vectors and leaves them unchanged.\n",
    "\n",
    "$I_2=\\begin{pmatrix}\n",
    "1 & 0 \\\\\n",
    "0 & 1 \\\\\n",
    "\\end{pmatrix}, \\quad\n",
    "I_3=\\begin{pmatrix}\n",
    "1 & 0 & 0 \\\\\n",
    "0 & 1 & 0 \\\\\n",
    "0 & 0 & 1 \n",
    "\\end{pmatrix}$"
   ],
   "cell_type": "markdown",
   "metadata": {}
  },
  {
   "source": [
    "Exercise 5.6: Apply the matrix ((2,1,1),(1,2,1),(1,1,2)) to all the vectors defining the teapot. What happens to the teapot and why?"
   ],
   "cell_type": "markdown",
   "metadata": {}
  },
  {
   "cell_type": "code",
   "execution_count": 12,
   "metadata": {},
   "outputs": [],
   "source": [
    "from teapot import load_triangles\n",
    "from draw_model import draw_model\n",
    "from transforms import polygon_map, multiply_matrix_vector\n",
    "\n",
    "def transform(v):\n",
    "    m = ((2,1,1),(1,2,1),(1,1,2))     \n",
    "    return multiply_matrix_vector(m,v)\n",
    "\n",
    "#draw_model(polygon_map(transform, load_triangles()));"
   ]
  },
  {
   "source": [
    "**Exercise:** Implement `multiply_matrix_vector` in a different way by using two nested comprehensions: one traversing the rows of the matrix and one traversing the entries of each row."
   ],
   "cell_type": "markdown",
   "metadata": {}
  },
  {
   "cell_type": "code",
   "execution_count": 21,
   "metadata": {},
   "outputs": [],
   "source": [
    "from vectors import *\n",
    "\n",
    "def linear_combination_2(scalars, vectors):\n",
    "    scaled = [scale(scalar, vector) for scalar,vector in zip(scalars, vectors)]\n",
    "    return add(*scaled)"
   ]
  },
  {
   "cell_type": "code",
   "execution_count": 22,
   "metadata": {},
   "outputs": [
    {
     "output_type": "execute_result",
     "data": {
      "text/plain": [
       "(30, 36, 42)"
      ]
     },
     "metadata": {},
     "execution_count": 22
    }
   ],
   "source": [
    "linear_combination_2([1,2,3], ((1,2,3), (4,5,6), (7,8,9)))"
   ]
  },
  {
   "cell_type": "code",
   "execution_count": 43,
   "metadata": {},
   "outputs": [],
   "source": [
    "def multiply_matrix_vector_2(matrix, vector):\n",
    "    return tuple(dot(row_vector, vector) for row_vector in matrix)"
   ]
  },
  {
   "cell_type": "code",
   "execution_count": 50,
   "metadata": {},
   "outputs": [
    {
     "output_type": "execute_result",
     "data": {
      "text/plain": [
       "(((0, 0, 0), (0, 0, 1), (2, 2, 0)), (3, 4, 7))"
      ]
     },
     "metadata": {},
     "execution_count": 50
    }
   ],
   "source": [
    "m = random_matrix(3,3,0,2)\n",
    "v = (3,4,7)\n",
    "m, v"
   ]
  },
  {
   "cell_type": "code",
   "execution_count": 51,
   "metadata": {},
   "outputs": [
    {
     "output_type": "execute_result",
     "data": {
      "text/plain": [
       "(0, 7, 14)"
      ]
     },
     "metadata": {},
     "execution_count": 51
    }
   ],
   "source": [
    "multiply_matrix_vector_2(m, v)"
   ]
  },
  {
   "cell_type": "code",
   "execution_count": 47,
   "metadata": {},
   "outputs": [],
   "source": [
    "def multiply_matrix_vector_3(matrix, vector):\n",
    "    return tuple(sum(a*b for a,b in zip(row,vector)) for row in matrix)"
   ]
  },
  {
   "cell_type": "code",
   "execution_count": 53,
   "metadata": {},
   "outputs": [
    {
     "output_type": "execute_result",
     "data": {
      "text/plain": [
       "(0, 7, 14)"
      ]
     },
     "metadata": {},
     "execution_count": 53
    }
   ],
   "source": [
    "multiply_matrix_vector_3(m, v)"
   ]
  },
  {
   "cell_type": "code",
   "execution_count": 52,
   "metadata": {},
   "outputs": [
    {
     "output_type": "execute_result",
     "data": {
      "text/plain": [
       "(0, 7, 14)"
      ]
     },
     "metadata": {},
     "execution_count": 52
    }
   ],
   "source": [
    "multiply_matrix_vector(m, v)"
   ]
  },
  {
   "source": [
    "\n",
    "Mini-project 5.9: I first told you what a linear transformation was and then showed you that any linear transformation can be represented by a matrix. Let’s prove the converse fact now: all matrices represent linear transformations. Starting with the explicit formulas for multiplying a 2D vector by a 2-by-2 matrix or multiplying a 3D vector by a 3-by-3 matrix, prove that algebraically. That is, show that matrix multiplication preserves sums and scalar multiples.\n"
   ],
   "cell_type": "markdown",
   "metadata": {}
  },
  {
   "source": [
    "**Solution:** I’ll show the proof for 2D; the 3D proof has the same structure but with a bit more writing. Suppose we have a 2-by-2 matrix called ***A with any four numbers a, b, c, and d as its entries. Let’s see how A operates on two vectors u and v:***\n",
    "\n",
    "$A=\\begin{pmatrix}\n",
    "a & b \\\\\n",
    "c & d\n",
    "\\end{pmatrix},\\quad\n",
    "u=\\begin{pmatrix}\n",
    "u_1  \\\\\n",
    "u_2\n",
    "\\end{pmatrix},\\quad\n",
    "u=\\begin{pmatrix}\n",
    "v_1  \\\\\n",
    "v_2\n",
    "\\end{pmatrix}$\n",
    "\n",
    "You can do the matrix multiplications explicitly to find Au and Av:\n",
    "\n",
    "$A(u)=\\begin{pmatrix}\n",
    "a & b \\\\\n",
    "c & d\n",
    "\\end{pmatrix} \\times\n",
    "\\begin{pmatrix}\n",
    "u_1  \\\\\n",
    "u_2\n",
    "\\end{pmatrix} =\n",
    "\\begin{pmatrix}\n",
    "au_1 + bu_2 \\\\\n",
    "cu_1 + du_2\n",
    "\\end{pmatrix} \n",
    "$\n",
    "\n",
    "$A(v)=\\begin{pmatrix}\n",
    "a & b \\\\\n",
    "c & d\n",
    "\\end{pmatrix} \\times\n",
    "\\begin{pmatrix}\n",
    "v_1  \\\\\n",
    "v_2\n",
    "\\end{pmatrix} =\n",
    "\\begin{pmatrix}\n",
    "av_1 + bv_2 \\\\\n",
    "cv_1 + dv_2\n",
    "\\end{pmatrix} \n",
    "$"
   ],
   "cell_type": "markdown",
   "metadata": {}
  },
  {
   "source": [
    "And then we can compute Au + Av and A(u + v) and see that the results match:\n",
    "\n",
    "$A(u)+A(v)=\n",
    "\\begin{pmatrix}\n",
    "au_1 + bu_2 \\\\\n",
    "cu_1 + du_2\n",
    "\\end{pmatrix} +\n",
    "\\begin{pmatrix}\n",
    "av_1 + bv_2 \\\\\n",
    "cv_1 + dv_2\n",
    "\\end{pmatrix} = \n",
    "\\begin{pmatrix}\n",
    "au_1 + bu_2 + av_1 + bv_2 \\\\\n",
    "cu_1 + du_2 + cv_1 + dv_2\n",
    "\\end{pmatrix} \n",
    "$\n",
    "\n",
    "$A(u + v)=\n",
    "\\begin{pmatrix}\n",
    "a & b \\\\\n",
    "c & d\n",
    "\\end{pmatrix}\n",
    "\\begin{pmatrix}\n",
    "u_1 + v_1 \\\\\n",
    "u_2 + v_2\n",
    "\\end{pmatrix} =\n",
    "\\begin{pmatrix}\n",
    "a(u_1 + v_1) + b(u_2 + v_2) \\\\\n",
    "c(u_1 + v_1) + d(u_2 + v_2)\n",
    "\\end{pmatrix} = \n",
    "\\begin{pmatrix}\n",
    "au_1 + bu_2 + av_1 + bv_2 \\\\\n",
    "cu_1 + du_2 + cv_1 + dv_2\n",
    "\\end{pmatrix} \n",
    "$\n",
    "\n",
    "\n",
    "This tells us that the `2D` vector transformation defined by multiplying any `2-by-2` matrix preserves vector sums."
   ],
   "cell_type": "markdown",
   "metadata": {}
  },
  {
   "source": [
    "Likewise, for any number s, we have:\n",
    "\n",
    "$s(u)=\n",
    "\\begin{pmatrix}\n",
    "su_1 \\\\\n",
    "su_2\n",
    "\\end{pmatrix}$\n",
    "\n",
    "$s(Au)=\n",
    "\\begin{pmatrix}\n",
    "s(au_1 + bu_2) \\\\\n",
    "s(cu_1 + du_2)\n",
    "\\end{pmatrix}= \n",
    "\\begin{pmatrix}\n",
    "sau_1 + sbu_2 \\\\\n",
    "scu_1 + sdu_2\n",
    "\\end{pmatrix} \n",
    "$\n",
    "\n",
    "$A(su)=\n",
    "\\begin{pmatrix}\n",
    "a(su_1) + b(su_2) \\\\\n",
    "c(su_1) + d(su_2)\n",
    "\\end{pmatrix}= \n",
    "\\begin{pmatrix}\n",
    "sau_1 + sbu_2 \\\\\n",
    "scu_1 + sdu_2\n",
    "\\end{pmatrix} \n",
    "$\n",
    "\n",
    "\n",
    "So `s ∙ (Av)` and `A(sv)` give the same results, and we see that multiplying by the matrix `A ` preserves scalar multiples as well. These two facts mean that multiplying by any `2-by-2` matrix is a linear transformation of `2D` vectors."
   ],
   "cell_type": "markdown",
   "metadata": {}
  },
  {
   "source": [
    "**Exercise:** Once again let’s use the two matrices $$A = \\left(\\begin{array}{ccc}1&1&0\\\\1&0&1\\\\1&-1&1\\end{array}\\right) \\quad \\text{and} \\quad B = \\left(\\begin{array}{ccc}0&2&1\\\\0&1&0\\\\1&0&-1\\end{array}\\right)$$\n",
    "\n",
    "from section 5.1.3.  Write a function `compose_a_b` that executes the composition of the linear transformation for $A$ and the linear transformation for $B$. Then use the `infer_matrix` function from a previous exercise in this section to show that `infer_matrix(3, compose_a_b)` is the same as the matrix product $AB$."
   ],
   "cell_type": "markdown",
   "metadata": {}
  },
  {
   "cell_type": "code",
   "execution_count": 20,
   "metadata": {},
   "outputs": [],
   "source": [
    "from transforms import compose\n",
    "a = ((1,1,0),(1,0,1),(1,-1,1))\n",
    "b = ((0,2,1),(0,1,0),(1,0,-1))"
   ]
  },
  {
   "cell_type": "code",
   "execution_count": 33,
   "metadata": {},
   "outputs": [
    {
     "output_type": "execute_result",
     "data": {
      "text/plain": [
       "<function transforms.compose.<locals>.new_function(input)>"
      ]
     },
     "metadata": {},
     "execution_count": 33
    }
   ],
   "source": [
    "def transform_a(v):\n",
    "    return multiply_matrix_vector(a,v)\n",
    "\n",
    "def transform_b(v):\n",
    "    return multiply_matrix_vector(b,v)\n",
    "\n",
    "compose_a_b = compose(transform_a, transform_b)\n",
    "compose_a_b"
   ]
  },
  {
   "cell_type": "code",
   "execution_count": 34,
   "metadata": {},
   "outputs": [
    {
     "output_type": "execute_result",
     "data": {
      "text/plain": [
       "((0, 3, 1), (1, 2, 0), (1, 1, 0))"
      ]
     },
     "metadata": {},
     "execution_count": 34
    }
   ],
   "source": [
    "infer_matrix(3, compose_a_b)"
   ]
  },
  {
   "cell_type": "code",
   "execution_count": 35,
   "metadata": {},
   "outputs": [
    {
     "output_type": "execute_result",
     "data": {
      "text/plain": [
       "((0, 3, 1), (1, 2, 0), (1, 1, 0))"
      ]
     },
     "metadata": {},
     "execution_count": 35
    }
   ],
   "source": [
    "matrix_multiply(a,b)"
   ]
  },
  {
   "source": [
    "Mini-project 5.11: Find two, 2-by-2 matrices, neither of which is the identity matrix I2, but whose product is the identity matrix.\n"
   ],
   "cell_type": "markdown",
   "metadata": {}
  },
  {
   "source": [
    "Solution: One way to do this is to write two matrices and play with their entries until you get the identity matrix as a product. Another way is to think of the problem in terms of linear transformations. If two matrices multiplied together produce the identity matrix, then the composition of their corresponding linear transformations should produce the identity transformation.\n",
    "\n",
    "With that in mind, what are two 2D linear transformations whose composition is the identity transformation? When applied in sequence to a given 2D vector, these linear transformations should return the original vector as output. One such pair of transformations is rotation by 90° clockwise, then rotation by 270° clockwise. Applying both of these executes a 360° rotation that brings any vector back to its original position. The matrices for a 270° rotation and a 90° rotation are as follows, and their product is the identity matrix:\n",
    "\n",
    "$\\begin{pmatrix}\n",
    "0 & 1 \\\\\n",
    "-1 & 0\n",
    "\\end{pmatrix} \\times\n",
    "\\begin{pmatrix}\n",
    "0 & -1 \\\\\n",
    "1 & 0\n",
    "\\end{pmatrix} =\n",
    "\\begin{pmatrix}\n",
    "1 & 0 \\\\\n",
    "0 & 1\n",
    "\\end{pmatrix} \n",
    "$\n"
   ],
   "cell_type": "markdown",
   "metadata": {}
  },
  {
   "source": [
    "**Exercise 5.12:** We can multiply a square matrix by itself any number of times. We can then think of successive matrix multiplications as “raising a matrix to a power.” For a square matrix $A$, $A \\cdot A$ can be written $A^2$; $A \\cdot A \\cdot A$ can be written $A^3$; and so on. Write a `matrix_power(power,matrix)` function that raises a matrix to the specified (whole number) power."
   ],
   "cell_type": "markdown",
   "metadata": {}
  },
  {
   "cell_type": "code",
   "execution_count": 61,
   "metadata": {},
   "outputs": [],
   "source": [
    "def scalar_power(s, p):\n",
    "    t = 1\n",
    "    for i in range(p):\n",
    "        r = s * t\n",
    "        t = r\n",
    "    return r"
   ]
  },
  {
   "cell_type": "code",
   "execution_count": 67,
   "metadata": {},
   "outputs": [
    {
     "output_type": "execute_result",
     "data": {
      "text/plain": [
       "(68719476736, 68719476736)"
      ]
     },
     "metadata": {},
     "execution_count": 67
    }
   ],
   "source": [
    "s_power2(2, 36), pow(2, 36)"
   ]
  },
  {
   "cell_type": "code",
   "execution_count": 81,
   "metadata": {},
   "outputs": [],
   "source": [
    "from vectors import *\n",
    "\n",
    "def matrix_multiply(a,b):\n",
    "    return tuple(tuple(dot(row, col) for col in zip(*b)) for row in a)\n",
    "\n",
    "def matrix_power(matrix, power):\n",
    "    t = (\n",
    "        (1,0,0),\n",
    "        (0,1,0),\n",
    "        (0,0,1)\n",
    "    )\n",
    "    for i in range(power):\n",
    "        r = matrix_multiply(matrix, t)\n",
    "        t = r\n",
    "    return r"
   ]
  },
  {
   "cell_type": "code",
   "execution_count": 82,
   "metadata": {},
   "outputs": [],
   "source": [
    "a = (\n",
    "    (1,0,0),\n",
    "    (0,1,0),\n",
    "    (0,0,1)\n",
    ")"
   ]
  },
  {
   "cell_type": "code",
   "execution_count": 83,
   "metadata": {},
   "outputs": [
    {
     "output_type": "execute_result",
     "data": {
      "text/plain": [
       "((1, 0, 0), (0, 1, 0), (0, 0, 1))"
      ]
     },
     "metadata": {},
     "execution_count": 83
    }
   ],
   "source": [
    "matrix_power(a, 3)"
   ]
  },
  {
   "cell_type": "code",
   "execution_count": 86,
   "metadata": {},
   "outputs": [],
   "source": [
    "a = ((1,1,0),(1,0,1),(1,-1,1))\n",
    "b = ((0,2,1),(0,1,0),(1,0,-1))"
   ]
  },
  {
   "cell_type": "code",
   "execution_count": 87,
   "metadata": {},
   "outputs": [
    {
     "output_type": "execute_result",
     "data": {
      "text/plain": [
       "((4, 1, 2), (3, 1, 1), (1, 1, 0))"
      ]
     },
     "metadata": {},
     "execution_count": 87
    }
   ],
   "source": [
    "matrix_power(a, 3)"
   ]
  },
  {
   "cell_type": "code",
   "execution_count": 88,
   "metadata": {},
   "outputs": [
    {
     "output_type": "execute_result",
     "data": {
      "text/plain": [
       "((4, 1, 2), (3, 1, 1), (1, 1, 0))"
      ]
     },
     "metadata": {},
     "execution_count": 88
    }
   ],
   "source": [
    "matrix_multiply(a,matrix_multiply(a,a))"
   ]
  },
  {
   "cell_type": "code",
   "execution_count": null,
   "metadata": {},
   "outputs": [],
   "source": [
    "## solution from the book, not working when power is 1 or 0\n",
    "def matrix_power(power,matrix):\n",
    "    result = matrix     \n",
    "    for _ in range(1,power):         \n",
    "        result = matrix_multiply(result,matrix)     \n",
    "    return result"
   ]
  },
  {
   "source": [
    "## 5.2 Interpreting matrices of different shapes "
   ],
   "cell_type": "markdown",
   "metadata": {}
  },
  {
   "cell_type": "code",
   "execution_count": 3,
   "metadata": {},
   "outputs": [],
   "source": [
    "a = ((-1, 0, -1, -2, -2), (0, 0, 2, -2, 1), (-2, -1, -2, 0, 1), (0, 2, -2, -1, 0), (1, 1, -1, -1, 0))"
   ]
  },
  {
   "cell_type": "code",
   "execution_count": 4,
   "metadata": {},
   "outputs": [],
   "source": [
    "b = ((-1, 0, -1, -2, -2), (0, 0, 2, -2, 1), (-2, -1, -2, 0, 1), (0, 2, -2, -1, 0), (1, 1, -1, -1, 0))"
   ]
  },
  {
   "cell_type": "code",
   "execution_count": 5,
   "metadata": {},
   "outputs": [
    {
     "output_type": "execute_result",
     "data": {
      "text/plain": [
       "((1, -5, 9, 6, 1),\n",
       " (-3, -5, -1, 1, 2),\n",
       " (7, 3, 3, 5, 1),\n",
       " (4, 0, 10, -3, 0),\n",
       " (1, -1, 5, -3, -2))"
      ]
     },
     "metadata": {},
     "execution_count": 5
    }
   ],
   "source": [
    "matrix_multiply(a,b)"
   ]
  },
  {
   "source": [
    "### 5.2.1 Column vectors as matrices"
   ],
   "cell_type": "markdown",
   "metadata": {}
  },
  {
   "cell_type": "code",
   "execution_count": 6,
   "metadata": {},
   "outputs": [],
   "source": [
    "c = ((-1, -1, 0), (-2, 1, 2), (1, 0, -1))"
   ]
  },
  {
   "cell_type": "code",
   "execution_count": 7,
   "metadata": {},
   "outputs": [],
   "source": [
    "d = ((1,),(1,),(1,))"
   ]
  },
  {
   "cell_type": "code",
   "execution_count": 8,
   "metadata": {},
   "outputs": [
    {
     "output_type": "execute_result",
     "data": {
      "text/plain": [
       "((-2,), (1,), (0,))"
      ]
     },
     "metadata": {},
     "execution_count": 8
    }
   ],
   "source": [
    "matrix_multiply(c,d)"
   ]
  },
  {
   "cell_type": "code",
   "execution_count": 11,
   "metadata": {},
   "outputs": [
    {
     "output_type": "execute_result",
     "data": {
      "text/plain": [
       "(-2, 1, 0)"
      ]
     },
     "metadata": {},
     "execution_count": 11
    }
   ],
   "source": [
    "multiply_matrix_vector(c,(1,1,1))"
   ]
  },
  {
   "source": [
    "### 5.2.2 What pairs of matrices can be multiplied?"
   ],
   "cell_type": "markdown",
   "metadata": {}
  },
  {
   "source": [
    "### 5.2.3 Viewing square and non-square matrices as vector functions"
   ],
   "cell_type": "markdown",
   "metadata": {}
  },
  {
   "source": [
    "### 5.2.4 Projection as a linear map from 3D to 2D"
   ],
   "cell_type": "markdown",
   "metadata": {}
  },
  {
   "source": [
    "### 5.2.5 Composing linear maps"
   ],
   "cell_type": "markdown",
   "metadata": {}
  },
  {
   "source": [
    "### 5.2.6 Exercises"
   ],
   "cell_type": "markdown",
   "metadata": {}
  }
 ]
}