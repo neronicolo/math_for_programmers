{
 "metadata": {
  "language_info": {
   "codemirror_mode": {
    "name": "ipython",
    "version": 3
   },
   "file_extension": ".py",
   "mimetype": "text/x-python",
   "name": "python",
   "nbconvert_exporter": "python",
   "pygments_lexer": "ipython3",
   "version": "3.7.5-final"
  },
  "orig_nbformat": 2,
  "kernelspec": {
   "name": "python3",
   "display_name": "Python 3.7.5 64-bit ('python37': conda)",
   "metadata": {
    "interpreter": {
     "hash": "39186e0ee03719450e25f96b33f5f37448852afa64e693a51906c0790c4cf153"
    }
   }
  }
 },
 "nbformat": 4,
 "nbformat_minor": 2,
 "cells": [
  {
   "source": [
    "# Generalizing our definition of vectors"
   ],
   "cell_type": "markdown",
   "metadata": {}
  },
  {
   "source": [
    "Vector spaces are collections of objects we can treat like vectors.   \n",
    "The key operations in a vector space are vector addition and scalar multiplication."
   ],
   "cell_type": "markdown",
   "metadata": {}
  },
  {
   "source": [
    "## 6.1 Generalizing our definition of vectors"
   ],
   "cell_type": "markdown",
   "metadata": {}
  },
  {
   "source": [
    " In our case, we want to realize the 2D and 3D vectors we’ve already seen as instances of a more general class of objects simply called vectors. Then any other objects that inherit behaviors from the parent class can rightly be called vectors as well."
   ],
   "cell_type": "markdown",
   "metadata": {}
  },
  {
   "source": [
    "###  6.1.1 Creating a class for 2D coordinate vectors"
   ],
   "cell_type": "markdown",
   "metadata": {}
  },
  {
   "cell_type": "code",
   "execution_count": 1,
   "metadata": {},
   "outputs": [],
   "source": [
    "class Vec2():\n",
    "    def __init__(self, x, y):\n",
    "        self.x = x\n",
    "        self.y = y"
   ]
  },
  {
   "cell_type": "code",
   "execution_count": 4,
   "metadata": {},
   "outputs": [
    {
     "output_type": "execute_result",
     "data": {
      "text/plain": [
       "(1.6, 3.8)"
      ]
     },
     "metadata": {},
     "execution_count": 4
    }
   ],
   "source": [
    "v = Vec2(1.6, 3.8)\n",
    "v.x, v.y"
   ]
  },
  {
   "cell_type": "code",
   "execution_count": 5,
   "metadata": {},
   "outputs": [
    {
     "output_type": "execute_result",
     "data": {
      "text/plain": [
       "{'x': 1.6, 'y': 3.8}"
      ]
     },
     "metadata": {},
     "execution_count": 5
    }
   ],
   "source": [
    "v.__dict__"
   ]
  },
  {
   "cell_type": "code",
   "execution_count": 6,
   "metadata": {},
   "outputs": [],
   "source": [
    "# implementing addition\n",
    "class Vec2():\n",
    "    def __init__(self, x, y):\n",
    "        self.x = x\n",
    "        self.y = y\n",
    "\n",
    "    def add(self, other):\n",
    "        return Vec2(self.x + other.x, self.y + other.y)"
   ]
  },
  {
   "cell_type": "code",
   "execution_count": 8,
   "metadata": {},
   "outputs": [
    {
     "output_type": "stream",
     "name": "stdout",
     "text": [
      "1\n10\n"
     ]
    }
   ],
   "source": [
    "v = Vec2(3,4) # <1> \n",
    "w = v.add(Vec2(-2,6)) # <2> \n",
    "print(w.x)\n",
    "print(w.y) # <3>"
   ]
  },
  {
   "source": [
    "Like our original implementation of vector addition, we do not perform the addition “in-place.” That is, the two input vectors are not modified; a new Vec2 object is created to store the sum."
   ],
   "cell_type": "markdown",
   "metadata": {}
  },
  {
   "cell_type": "code",
   "execution_count": 9,
   "metadata": {},
   "outputs": [],
   "source": [
    "# implementing scale\n",
    "class Vec2():\n",
    "    def __init__(self, x, y):\n",
    "        self.x = x\n",
    "        self.y = y\n",
    "\n",
    "    def add(self, other):\n",
    "        return Vec2(self.x + other.x, self.y + other.y)\n",
    "    def scale(self, scalar):\n",
    "        return Vec2(self.x * scalar, self.y * scalar)"
   ]
  },
  {
   "cell_type": "code",
   "execution_count": 14,
   "metadata": {},
   "outputs": [
    {
     "output_type": "execute_result",
     "data": {
      "text/plain": [
       "50"
      ]
     },
     "metadata": {},
     "execution_count": 14
    }
   ],
   "source": [
    "v = Vec2(1,1)\n",
    "s = v.scale(50)\n",
    "s.x"
   ]
  },
  {
   "source": [
    "There’s one more critical detail we need to take care of: currently the output of a comparison like Vec2(3,4) == Vec2(3,4) is False. This is problematic because these instances represent the same vector. By default, Python compares instances by their references (asking whether they are located in the same place in memory) rather than by their values. "
   ],
   "cell_type": "markdown",
   "metadata": {}
  },
  {
   "cell_type": "code",
   "execution_count": 15,
   "metadata": {},
   "outputs": [],
   "source": [
    "# implementing equality\n",
    "class Vec2():\n",
    "    def __init__(self, x, y):\n",
    "        self.x = x\n",
    "        self.y = y\n",
    "\n",
    "    def add(self, other):\n",
    "        return Vec2(self.x + other.x, self.y + other.y)\n",
    "    def scale(self, scalar):\n",
    "        return Vec2(self.x * scalar, self.y * scalar)\n",
    "    def __eq__(self, other):\n",
    "        return self.x == other.x and self.y == other.y"
   ]
  },
  {
   "cell_type": "code",
   "execution_count": 16,
   "metadata": {},
   "outputs": [
    {
     "output_type": "execute_result",
     "data": {
      "text/plain": [
       "True"
      ]
     },
     "metadata": {},
     "execution_count": 16
    }
   ],
   "source": [
    "Vec2(3,4) == Vec2(3,4) "
   ]
  },
  {
   "source": [
    "### 6.1.2 Improving the Vec2 class"
   ],
   "cell_type": "markdown",
   "metadata": {}
  },
  {
   "source": [
    "As we changed the behavior of the == operator, we can also customize the Python operators + and * to mean vector addition and scalar multiplication, respectively. This is called operator overloading, and it is covered in appendix B:\n"
   ],
   "cell_type": "markdown",
   "metadata": {}
  },
  {
   "cell_type": "code",
   "execution_count": 12,
   "metadata": {},
   "outputs": [],
   "source": [
    "# implementing operator overloading and __repr__\n",
    "class Vec2():\n",
    "    def __init__(self, x, y):\n",
    "        self.x = x\n",
    "        self.y = y\n",
    "\n",
    "    def add(self, other):\n",
    "        return Vec2(self.x + other.x, self.y + other.y)\n",
    "    def scale(self, scalar):\n",
    "        return Vec2(self.x * scalar, self.y * scalar)\n",
    "    def __eq__(self, other):\n",
    "        return self.x == other.x and self.y == other.y\n",
    "    def __add__(self, other):\n",
    "        return self.add(other)\n",
    "    def __mul__(self, scalar):\n",
    "        return self.scale(scalar)\n",
    "    def __rmul__(self, scalar):\n",
    "        return self.scale(scalar)\n",
    "    def __repr__(self):\n",
    "        return f'Vec2({self.x}, {self.y})'"
   ]
  },
  {
   "cell_type": "code",
   "execution_count": 13,
   "metadata": {},
   "outputs": [
    {
     "output_type": "execute_result",
     "data": {
      "text/plain": [
       "Vec2(3.0, 4.0)"
      ]
     },
     "metadata": {},
     "execution_count": 13
    }
   ],
   "source": [
    "3.0 * Vec2(1,0) + 4.0 * Vec2(0,1) "
   ]
  },
  {
   "source": [
    "### 6.1.3 Repeating the process with 3D vectors"
   ],
   "cell_type": "markdown",
   "metadata": {}
  },
  {
   "cell_type": "code",
   "execution_count": 14,
   "metadata": {},
   "outputs": [],
   "source": [
    "class Vec3():\n",
    "    def __init__(self,x,y,z): #1\n",
    "        self.x = x\n",
    "        self.y = y\n",
    "        self.z = z\n",
    "    def add(self, other):\n",
    "        return Vec3(self.x + other.x, self.y + other.y, self.z + other.z)\n",
    "    def scale(self, scalar):\n",
    "        return Vec3(scalar * self.x, scalar * self.y, scalar * self.z)\n",
    "    def __eq__(self,other):\n",
    "        return self.x == other.x and self.y == other.y and self.z == other.z\n",
    "    def __add__(self, other):\n",
    "        return self.add(other)\n",
    "    def __mul__(self, scalar):\n",
    "        return self.scale(scalar)\n",
    "    def __rmul__(self,scalar):\n",
    "        return self.scale(scalar)\n",
    "    def __repr__(self):\n",
    "        return \"Vec3({},{},{})\".format(self.x,self.y, self.z)"
   ]
  },
  {
   "cell_type": "code",
   "execution_count": 15,
   "metadata": {},
   "outputs": [
    {
     "output_type": "execute_result",
     "data": {
      "text/plain": [
       "Vec3(2.0,2.0,0.0)"
      ]
     },
     "metadata": {},
     "execution_count": 15
    }
   ],
   "source": [
    "2.0 * (Vec3(1,0,0) + Vec3(0,1,0))"
   ]
  },
  {
   "cell_type": "code",
   "execution_count": 16,
   "metadata": {},
   "outputs": [],
   "source": [
    "def average(v1,v2):\n",
    "    return 0.5 * v1 + 0.5 * v2"
   ]
  },
  {
   "cell_type": "code",
   "execution_count": 17,
   "metadata": {},
   "outputs": [
    {
     "output_type": "execute_result",
     "data": {
      "text/plain": [
       "Vec2(8.5, 3.5)"
      ]
     },
     "metadata": {},
     "execution_count": 17
    }
   ],
   "source": [
    "average(Vec2(9.0, 1.0), Vec2(8.0,6.0))"
   ]
  },
  {
   "cell_type": "code",
   "execution_count": 18,
   "metadata": {},
   "outputs": [
    {
     "output_type": "execute_result",
     "data": {
      "text/plain": [
       "Vec3(2.5,3.5,4.5)"
      ]
     },
     "metadata": {},
     "execution_count": 18
    }
   ],
   "source": [
    "average(Vec3(1,2,3), Vec3(4,5,6))"
   ]
  },
  {
   "cell_type": "code",
   "execution_count": 23,
   "metadata": {},
   "outputs": [],
   "source": [
    "def avg(v1, v2):\n",
    "    return (v1 + v2) * 0.5"
   ]
  },
  {
   "cell_type": "code",
   "execution_count": 24,
   "metadata": {},
   "outputs": [
    {
     "output_type": "execute_result",
     "data": {
      "text/plain": [
       "Vec3(2.5,3.5,4.5)"
      ]
     },
     "metadata": {},
     "execution_count": 24
    }
   ],
   "source": [
    "avg(Vec3(1,2,3), Vec3(4,5,6))"
   ]
  },
  {
   "source": [
    "### 6.1.4 Building a vector base class"
   ],
   "cell_type": "markdown",
   "metadata": {}
  },
  {
   "source": [
    "The abc module contains helper classes, functions, and method decorators that help define an abstract base class, a class that is not intended to be instantiated. Instead, it’s designed to be used as a template for classes that inherit from it. The @abstractmethod decorator means that a method is not implemented in the base class and needs to be implemented for any child class."
   ],
   "cell_type": "markdown",
   "metadata": {}
  },
  {
   "cell_type": "code",
   "execution_count": 2,
   "metadata": {},
   "outputs": [],
   "source": [
    "from abc import ABCMeta, abstractmethod\n",
    "\n",
    "class Vector(metaclass=ABCMeta):\n",
    "    @abstractmethod\n",
    "    def scale(self, scalar):\n",
    "        pass\n",
    "    @abstractmethod\n",
    "    def add(self, other):\n",
    "        pass"
   ]
  },
  {
   "cell_type": "code",
   "execution_count": 3,
   "metadata": {},
   "outputs": [
    {
     "output_type": "error",
     "ename": "TypeError",
     "evalue": "Can't instantiate abstract class Vector with abstract methods add, scale",
     "traceback": [
      "\u001b[0;31m---------------------------------------------------------------------------\u001b[0m",
      "\u001b[0;31mTypeError\u001b[0m                                 Traceback (most recent call last)",
      "\u001b[0;32m<ipython-input-3-4f971672a557>\u001b[0m in \u001b[0;36m<module>\u001b[0;34m\u001b[0m\n\u001b[0;32m----> 1\u001b[0;31m \u001b[0mv\u001b[0m \u001b[0;34m=\u001b[0m \u001b[0mVector\u001b[0m\u001b[0;34m(\u001b[0m\u001b[0;34m)\u001b[0m\u001b[0;34m\u001b[0m\u001b[0;34m\u001b[0m\u001b[0m\n\u001b[0m",
      "\u001b[0;31mTypeError\u001b[0m: Can't instantiate abstract class Vector with abstract methods add, scale"
     ]
    }
   ],
   "source": [
    " v = Vector()"
   ]
  },
  {
   "cell_type": "code",
   "execution_count": 4,
   "metadata": {},
   "outputs": [],
   "source": [
    "from abc import ABCMeta, abstractmethod\n",
    "\n",
    "class Vector(metaclass=ABCMeta):\n",
    "    @abstractmethod\n",
    "    def scale(self, scalar):\n",
    "        pass\n",
    "    @abstractmethod\n",
    "    def add(self, other):\n",
    "        pass"
   ]
  },
  {
   "cell_type": "code",
   "execution_count": 5,
   "metadata": {},
   "outputs": [],
   "source": [
    "class Vector(metaclass=ABCMeta):\n",
    "    @abstractmethod\n",
    "    def scale(self,scalar):\n",
    "        pass\n",
    "    @abstractmethod\n",
    "    def add(self,other):\n",
    "        pass\n",
    "    def __mul__(self, scalar):\n",
    "        return self.scale(scalar)\n",
    "    def __rmul__(self, scalar):\n",
    "        return self.scale(scalar)\n",
    "    def __add__(self,other):\n",
    "        return self.add(other)"
   ]
  },
  {
   "cell_type": "code",
   "execution_count": 6,
   "metadata": {},
   "outputs": [],
   "source": [
    "class Vec2(Vector):\n",
    "    def __init__(self,x,y):\n",
    "        self.x = x\n",
    "        self.y = y\n",
    "    def add(self,other):\n",
    "        return Vec2(self.x + other.x, self.y + other.y)\n",
    "    def scale(self,scalar):\n",
    "        return Vec2(scalar * self.x, scalar * self.y)\n",
    "    def __eq__(self,other):\n",
    "        return self.x == other.x and self.y == other.y\n",
    "    def __repr__(self):\n",
    "        return \"Vec2({},{})\".format(self.x, self.y)"
   ]
  },
  {
   "cell_type": "code",
   "execution_count": 7,
   "metadata": {},
   "outputs": [],
   "source": [
    "# give it a subtract method\n",
    "class Vector(metaclass=ABCMeta):\n",
    "    @abstractmethod\n",
    "    def scale(self,scalar):\n",
    "        pass\n",
    "    @abstractmethod\n",
    "    def add(self,other):\n",
    "        pass\n",
    "    def __mul__(self, scalar):\n",
    "        return self.scale(scalar)\n",
    "    def __rmul__(self, scalar):\n",
    "        return self.scale(scalar)\n",
    "    def __add__(self,other):\n",
    "        return self.add(other)\n",
    "    def subtract(self,other):\n",
    "        return self.add(-1 * other)\n",
    "    def __sub__(self,other):\n",
    "        return self.subtract(other)"
   ]
  },
  {
   "cell_type": "code",
   "execution_count": 8,
   "metadata": {},
   "outputs": [],
   "source": [
    "class Vec2(Vector):\n",
    "    def __init__(self,x,y):\n",
    "        self.x = x\n",
    "        self.y = y\n",
    "    def add(self,other):\n",
    "        return Vec2(self.x + other.x, self.y + other.y)\n",
    "    def scale(self,scalar):\n",
    "        return Vec2(scalar * self.x, scalar * self.y)\n",
    "    def __eq__(self,other):\n",
    "        return self.x == other.x and self.y == other.y\n",
    "    def __repr__(self):\n",
    "        return \"Vec2({},{})\".format(self.x, self.y)"
   ]
  },
  {
   "cell_type": "code",
   "execution_count": 9,
   "metadata": {},
   "outputs": [
    {
     "output_type": "execute_result",
     "data": {
      "text/plain": [
       "Vec2(-4,2)"
      ]
     },
     "metadata": {},
     "execution_count": 9
    }
   ],
   "source": [
    "Vec2(1,3) - Vec2(5,1)"
   ]
  },
  {
   "source": [
    "### 6.1.5 Defining vector spaces"
   ],
   "cell_type": "markdown",
   "metadata": {}
  },
  {
   "source": [
    "Take a look in the book."
   ],
   "cell_type": "markdown",
   "metadata": {}
  },
  {
   "source": [
    "### 6.1.6 Unit testing vector space classes"
   ],
   "cell_type": "markdown",
   "metadata": {}
  },
  {
   "cell_type": "code",
   "execution_count": 10,
   "metadata": {},
   "outputs": [
    {
     "output_type": "execute_result",
     "data": {
      "text/plain": [
       "True"
      ]
     },
     "metadata": {},
     "execution_count": 10
    }
   ],
   "source": [
    "s = -3\n",
    "u, v = Vec2(42, -10), Vec2(1.5, 8)\n",
    "s * (u + v) == s * u + s * v"
   ]
  },
  {
   "cell_type": "code",
   "execution_count": 14,
   "metadata": {},
   "outputs": [
    {
     "output_type": "error",
     "ename": "AssertionError",
     "evalue": "",
     "traceback": [
      "\u001b[0;31m---------------------------------------------------------------------------\u001b[0m",
      "\u001b[0;31mAssertionError\u001b[0m                            Traceback (most recent call last)",
      "\u001b[0;32m<ipython-input-14-36cc7311e0bf>\u001b[0m in \u001b[0;36m<module>\u001b[0;34m\u001b[0m\n\u001b[1;32m     10\u001b[0m \u001b[0mu\u001b[0m\u001b[0;34m,\u001b[0m \u001b[0mv\u001b[0m \u001b[0;34m=\u001b[0m \u001b[0mrandom_vec2\u001b[0m\u001b[0;34m(\u001b[0m\u001b[0;34m)\u001b[0m\u001b[0;34m,\u001b[0m \u001b[0mrandom_vec2\u001b[0m\u001b[0;34m(\u001b[0m\u001b[0;34m)\u001b[0m\u001b[0;34m\u001b[0m\u001b[0;34m\u001b[0m\u001b[0m\n\u001b[1;32m     11\u001b[0m \u001b[0;34m\u001b[0m\u001b[0m\n\u001b[0;32m---> 12\u001b[0;31m \u001b[0;32massert\u001b[0m \u001b[0ms\u001b[0m \u001b[0;34m*\u001b[0m \u001b[0;34m(\u001b[0m\u001b[0mu\u001b[0m \u001b[0;34m+\u001b[0m \u001b[0mv\u001b[0m\u001b[0;34m)\u001b[0m \u001b[0;34m==\u001b[0m \u001b[0ms\u001b[0m \u001b[0;34m*\u001b[0m \u001b[0mu\u001b[0m \u001b[0;34m+\u001b[0m \u001b[0ms\u001b[0m \u001b[0;34m*\u001b[0m \u001b[0mv\u001b[0m\u001b[0;34m\u001b[0m\u001b[0;34m\u001b[0m\u001b[0m\n\u001b[0m",
      "\u001b[0;31mAssertionError\u001b[0m: "
     ]
    }
   ],
   "source": [
    "from random import uniform\n",
    "\n",
    "def random_scalar():\n",
    "    return uniform(-10, 10)\n",
    "\n",
    "def random_vec2():\n",
    "    return Vec2(random_scalar(), random_scalar())\n",
    "\n",
    "s = random_scalar()\n",
    "u, v = random_vec2(), random_vec2()\n",
    "\n",
    "assert s * (u + v) == s * u + s * v"
   ]
  },
  {
   "cell_type": "code",
   "execution_count": 15,
   "metadata": {},
   "outputs": [
    {
     "output_type": "execute_result",
     "data": {
      "text/plain": [
       "(-0.7746947964501327,\n",
       " Vec2(-3.375799783927606,7.973946103090238),\n",
       " Vec2(2.4260502186044004,-9.990076764671372))"
      ]
     },
     "metadata": {},
     "execution_count": 15
    }
   ],
   "source": [
    "s, u, v"
   ]
  },
  {
   "cell_type": "code",
   "execution_count": 16,
   "metadata": {},
   "outputs": [
    {
     "output_type": "execute_result",
     "data": {
      "text/plain": [
       "(Vec2(0.735766046186663,1.5618859324904675),\n",
       " Vec2(0.7357660461866631,1.5618859324904673))"
      ]
     },
     "metadata": {},
     "execution_count": 16
    }
   ],
   "source": [
    "s * (u + v), s * u + s * v"
   ]
  },
  {
   "source": [
    "These are two different vectors, but only because their components differ by a few quadrillionths (very, very small numbers). This doesn’t mean that the math is wrong, just that floating-point arithmetic is approximate rather than exact."
   ],
   "cell_type": "markdown",
   "metadata": {}
  },
  {
   "cell_type": "code",
   "execution_count": 21,
   "metadata": {},
   "outputs": [],
   "source": [
    "from math import isclose\n",
    "\n",
    "def approx_equal_vec2(v, w):\n",
    "    return isclose(v.x, w.x) and isclose(v.y, w.y)\n",
    "\n",
    "for _ in range(1, 100):\n",
    "    s = random_scalar()\n",
    "    u, v = random_vec2(), random_vec2()\n",
    "    #print(s, u, v)\n",
    "    assert approx_equal_vec2(s * (u + v), s * u + s * v)"
   ]
  },
  {
   "cell_type": "code",
   "execution_count": 22,
   "metadata": {},
   "outputs": [],
   "source": [
    "def test(eq, a, b, u, v, w): #<1>\n",
    "    assert eq(u + v, v + u)\n",
    "    assert eq(u + (v + w), (u + v) + w)\n",
    "    assert eq(a * (b * v), (a * b) * v)\n",
    "    assert eq(1 * v, v)\n",
    "    assert eq((a + b) * v, a * v + b * v)\n",
    "    assert eq(a * v + a * w, a * (v + w))"
   ]
  },
  {
   "cell_type": "code",
   "execution_count": 23,
   "metadata": {},
   "outputs": [],
   "source": [
    "for i in range(0,100):\n",
    "    a,b = random_scalar(), random_scalar()\n",
    "    u,v,w = random_vec2(), random_vec2(), random_vec2()\n",
    "    test(approx_equal_vec2, a,b,u,v,w)"
   ]
  },
  {
   "source": [
    "## Exercises"
   ],
   "cell_type": "markdown",
   "metadata": {}
  },
  {
   "source": [
    "**EXERCISE:** Implement a `Vec3` class inheriting from `Vector.`"
   ],
   "cell_type": "markdown",
   "metadata": {}
  },
  {
   "cell_type": "code",
   "execution_count": null,
   "metadata": {},
   "outputs": [],
   "source": []
  },
  {
   "source": [
    "**MINI-PROJECT:** Implement a `CoordinateVector` class inheriting from `Vector`, with an abstract property representing the dimension.  This should save repeated work implementing specific coordinate vector classes; all you should need to do to implement a Vec6 class should be inheriting from `CoordinateVector` and setting the dimension to 6.\n",
    "\n",
    "**Note:** Classes can store values called ***properties*** as well as functions called ***methods***, which relate data and functionality in a program. "
   ],
   "cell_type": "markdown",
   "metadata": {}
  },
  {
   "cell_type": "code",
   "execution_count": null,
   "metadata": {},
   "outputs": [],
   "source": []
  },
  {
   "source": [
    "**EXERCISE:** Add a `zero` abstract method to `Vector`, designed to return the zero vector in a given vector space, as well as an implementation for the negation operator.  These are useful, because we’re required to have a zero vector and negations of any vector in a vector space."
   ],
   "cell_type": "markdown",
   "metadata": {}
  },
  {
   "cell_type": "code",
   "execution_count": null,
   "metadata": {},
   "outputs": [],
   "source": []
  },
  {
   "source": [
    "**EXERCISE:** Write unit tests to show that the addition and scalar multiplication operations for `Vec3` satisfy the vector space properties."
   ],
   "cell_type": "markdown",
   "metadata": {}
  },
  {
   "cell_type": "code",
   "execution_count": null,
   "metadata": {},
   "outputs": [],
   "source": []
  }
 ]
}