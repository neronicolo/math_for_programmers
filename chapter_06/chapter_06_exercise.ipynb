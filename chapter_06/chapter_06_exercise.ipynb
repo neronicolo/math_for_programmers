{
 "metadata": {
  "language_info": {
   "codemirror_mode": {
    "name": "ipython",
    "version": 3
   },
   "file_extension": ".py",
   "mimetype": "text/x-python",
   "name": "python",
   "nbconvert_exporter": "python",
   "pygments_lexer": "ipython3",
   "version": "3.7.5-final"
  },
  "orig_nbformat": 2,
  "kernelspec": {
   "name": "python3",
   "display_name": "Python 3"
  }
 },
 "nbformat": 4,
 "nbformat_minor": 2,
 "cells": [
  {
   "source": [
    "# Generalizing our definition of vectors"
   ],
   "cell_type": "markdown",
   "metadata": {}
  },
  {
   "source": [
    "## 6.1 Generalizing our definition of vectors"
   ],
   "cell_type": "markdown",
   "metadata": {}
  },
  {
   "source": [
    "###  6.1.1 Creating a class for 2D coordinate vectors"
   ],
   "cell_type": "markdown",
   "metadata": {}
  },
  {
   "cell_type": "code",
   "execution_count": 1,
   "metadata": {},
   "outputs": [],
   "source": [
    "class Vec2():\n",
    "    def __init__(self, x, y):\n",
    "        self.x = x\n",
    "        self.y = y"
   ]
  },
  {
   "cell_type": "code",
   "execution_count": 4,
   "metadata": {},
   "outputs": [
    {
     "output_type": "execute_result",
     "data": {
      "text/plain": [
       "(1.6, 3.8)"
      ]
     },
     "metadata": {},
     "execution_count": 4
    }
   ],
   "source": [
    "v = Vec2(1.6, 3.8)\n",
    "v.x, v.y"
   ]
  },
  {
   "cell_type": "code",
   "execution_count": 41,
   "metadata": {},
   "outputs": [],
   "source": [
    "# implementing addition\n",
    "\n",
    "class Vec2():\n",
    "    def __init__(self, x, y):\n",
    "        self.x = x\n",
    "        self.y = y\n",
    "    def add(self, v2):\n",
    "        return Vec2(self.x + v2.x, self.y + v2.y)"
   ]
  },
  {
   "cell_type": "code",
   "execution_count": 42,
   "metadata": {},
   "outputs": [
    {
     "output_type": "stream",
     "name": "stdout",
     "text": [
      "1\n"
     ]
    }
   ],
   "source": [
    "v = Vec2(3,4)\n",
    "w = v.add(Vec2(-2,6))\n",
    "print(w.x)"
   ]
  },
  {
   "cell_type": "code",
   "execution_count": 43,
   "metadata": {},
   "outputs": [
    {
     "output_type": "execute_result",
     "data": {
      "text/plain": [
       "(<__main__.Vec2 at 0x7fd035d8ad10>, <__main__.Vec2 at 0x7fd035d8a6d0>)"
      ]
     },
     "metadata": {},
     "execution_count": 43
    }
   ],
   "source": [
    "v,w"
   ]
  },
  {
   "cell_type": "code",
   "execution_count": 46,
   "metadata": {},
   "outputs": [],
   "source": [
    "# implementing multiplication\n",
    "\n",
    "class Vec2():\n",
    "    def __init__(self, x, y):\n",
    "        self.x = x\n",
    "        self.y = y\n",
    "    def add(self, v2):\n",
    "        return Vec2(self.x + v2.x, self.y + v2.y)\n",
    "    def scale(self, scalar):\n",
    "        return Vec2(scalar * self.x, scalar * self.y)"
   ]
  },
  {
   "cell_type": "code",
   "execution_count": 60,
   "metadata": {},
   "outputs": [
    {
     "output_type": "stream",
     "name": "stdout",
     "text": [
      "1 1\n50 50\n"
     ]
    }
   ],
   "source": [
    "v = Vec2(1,1)\n",
    "print(v.x, v.y)\n",
    "w = v.scale(50)\n",
    "print(w.x, w.y)"
   ]
  },
  {
   "cell_type": "code",
   "execution_count": 61,
   "metadata": {},
   "outputs": [],
   "source": [
    "# implementing equality method\n",
    "\n",
    "class Vec2():\n",
    "    def __init__(self, x, y):\n",
    "        self.x = x\n",
    "        self.y = y\n",
    "    def add(self, v2):\n",
    "        return Vec2(self.x + v2.x, self.y + v2.y)\n",
    "    def scale(self, scalar):\n",
    "        return Vec2(scalar * self.x, scalar * self.y)\n",
    "    def __eq__(self, other):\n",
    "        return self.x == other.x and self.y == other.y"
   ]
  },
  {
   "cell_type": "code",
   "execution_count": 63,
   "metadata": {},
   "outputs": [
    {
     "output_type": "execute_result",
     "data": {
      "text/plain": [
       "True"
      ]
     },
     "metadata": {},
     "execution_count": 63
    }
   ],
   "source": [
    "Vec2(3,4) == Vec2(3,4)"
   ]
  },
  {
   "source": [
    "**Divergin to Appendix B to get recap on OOP**\n"
   ],
   "cell_type": "markdown",
   "metadata": {}
  },
  {
   "source": [
    "## B.5 Object-oriented programming in Python"
   ],
   "cell_type": "markdown",
   "metadata": {}
  },
  {
   "source": [
    "### B.5.1 Defining classes"
   ],
   "cell_type": "markdown",
   "metadata": {}
  },
  {
   "cell_type": "code",
   "execution_count": 67,
   "metadata": {},
   "outputs": [],
   "source": [
    "class Rectangle(): \n",
    "      def __init__(self,w,h): \n",
    "          self.width = w \n",
    "          self.height = h"
   ]
  },
  {
   "cell_type": "code",
   "execution_count": 70,
   "metadata": {},
   "outputs": [
    {
     "output_type": "execute_result",
     "data": {
      "text/plain": [
       "__main__.Rectangle"
      ]
     },
     "metadata": {},
     "execution_count": 70
    }
   ],
   "source": [
    "r = Rectangle(3,4)\n",
    "type(r)"
   ]
  },
  {
   "cell_type": "code",
   "execution_count": 71,
   "metadata": {},
   "outputs": [
    {
     "output_type": "execute_result",
     "data": {
      "text/plain": [
       "3"
      ]
     },
     "metadata": {},
     "execution_count": 71
    }
   ],
   "source": [
    "r.width"
   ]
  },
  {
   "cell_type": "code",
   "execution_count": 72,
   "metadata": {},
   "outputs": [
    {
     "output_type": "execute_result",
     "data": {
      "text/plain": [
       "4"
      ]
     },
     "metadata": {},
     "execution_count": 72
    }
   ],
   "source": [
    "r.height"
   ]
  },
  {
   "source": [
    "### B.5.2 Defining methods"
   ],
   "cell_type": "markdown",
   "metadata": {}
  },
  {
   "cell_type": "code",
   "execution_count": 75,
   "metadata": {},
   "outputs": [],
   "source": [
    "class Rectangle(): \n",
    "    def __init__(self,w,h): \n",
    "        self.width = w \n",
    "        self.height = h \n",
    "       \n",
    "    def area(self): \n",
    "        return self.width * self.height"
   ]
  },
  {
   "cell_type": "code",
   "execution_count": 76,
   "metadata": {},
   "outputs": [
    {
     "output_type": "execute_result",
     "data": {
      "text/plain": [
       "12"
      ]
     },
     "metadata": {},
     "execution_count": 76
    }
   ],
   "source": [
    "Rectangle(3,4).area()"
   ]
  },
  {
   "cell_type": "code",
   "execution_count": 85,
   "metadata": {},
   "outputs": [],
   "source": [
    "class Rectangle(): \n",
    "    def __init__(self,w,h): \n",
    "        self.width = w \n",
    "        self.height = h \n",
    "       \n",
    "    def area(self): \n",
    "        return self.width * self.height\n",
    "    def scale(self, factor): \n",
    "        return Rectangle(factor * self.width, factor * self.height)"
   ]
  },
  {
   "cell_type": "code",
   "execution_count": 86,
   "metadata": {},
   "outputs": [
    {
     "output_type": "execute_result",
     "data": {
      "text/plain": [
       "(6, 3)"
      ]
     },
     "metadata": {},
     "execution_count": 86
    }
   ],
   "source": [
    "r = Rectangle(2,1)\n",
    "s = r.scale(3)\n",
    "s.width, s.height"
   ]
  },
  {
   "source": [
    "### B.5.3 Special methods"
   ],
   "cell_type": "markdown",
   "metadata": {}
  },
  {
   "cell_type": "code",
   "execution_count": 87,
   "metadata": {},
   "outputs": [
    {
     "output_type": "execute_result",
     "data": {
      "text/plain": [
       "{'width': 2, 'height': 1}"
      ]
     },
     "metadata": {},
     "execution_count": 87
    }
   ],
   "source": [
    "Rectangle(2,1).__dict__"
   ]
  },
  {
   "cell_type": "code",
   "execution_count": 88,
   "metadata": {},
   "outputs": [
    {
     "output_type": "execute_result",
     "data": {
      "text/plain": [
       "False"
      ]
     },
     "metadata": {},
     "execution_count": 88
    }
   ],
   "source": [
    "Rectangle(3,4) == Rectangle(3,4) "
   ]
  },
  {
   "cell_type": "code",
   "execution_count": 95,
   "metadata": {},
   "outputs": [],
   "source": [
    "class Rectangle(): \n",
    "    def __init__(self,w,h): \n",
    "        self.width = w \n",
    "        self.height = h \n",
    "       \n",
    "    def area(self): \n",
    "        return self.width * self.height\n",
    "    def scale(self, factor): \n",
    "        return Rectangle(factor * self.width, factor * self.height)\n",
    "    def __eq__(self,other): \n",
    "        return self.width == other.width and self.height == other.height"
   ]
  },
  {
   "cell_type": "code",
   "execution_count": 96,
   "metadata": {},
   "outputs": [
    {
     "output_type": "execute_result",
     "data": {
      "text/plain": [
       "True"
      ]
     },
     "metadata": {},
     "execution_count": 96
    }
   ],
   "source": [
    "Rectangle(3,4) == Rectangle(3,4) \n"
   ]
  },
  {
   "cell_type": "code",
   "execution_count": 97,
   "metadata": {},
   "outputs": [
    {
     "output_type": "execute_result",
     "data": {
      "text/plain": [
       "<__main__.Rectangle at 0x7fd035d677d0>"
      ]
     },
     "metadata": {},
     "execution_count": 97
    }
   ],
   "source": [
    "Rectangle(3,4)"
   ]
  },
  {
   "cell_type": "code",
   "execution_count": 98,
   "metadata": {},
   "outputs": [],
   "source": [
    "class Rectangle(): \n",
    "    def __init__(self,w,h): \n",
    "        self.width = w \n",
    "        self.height = h \n",
    "       \n",
    "    def area(self): \n",
    "        return self.width * self.height\n",
    "    def scale(self, factor): \n",
    "        return Rectangle(factor * self.width, factor * self.height)\n",
    "    def __eq__(self,other): \n",
    "        return self.width == other.width and self.height == other.height\n",
    "    def __repr__(self): \n",
    "          return 'Rectangle (%r by %r)' % (self.width, self.height)"
   ]
  },
  {
   "cell_type": "code",
   "execution_count": 99,
   "metadata": {},
   "outputs": [
    {
     "output_type": "execute_result",
     "data": {
      "text/plain": [
       "Rectangle (3 by 4)"
      ]
     },
     "metadata": {},
     "execution_count": 99
    }
   ],
   "source": [
    "Rectangle(3,4)"
   ]
  },
  {
   "source": [
    "** Back to chapter_06 **"
   ],
   "cell_type": "markdown",
   "metadata": {}
  },
  {
   "source": [
    "### 6.1.2 Improving the Vec2 class"
   ],
   "cell_type": "markdown",
   "metadata": {}
  },
  {
   "cell_type": "code",
   "execution_count": null,
   "metadata": {},
   "outputs": [],
   "source": []
  }
 ]
}