{
 "metadata": {
  "language_info": {
   "codemirror_mode": {
    "name": "ipython",
    "version": 3
   },
   "file_extension": ".py",
   "mimetype": "text/x-python",
   "name": "python",
   "nbconvert_exporter": "python",
   "pygments_lexer": "ipython3",
   "version": "3.7.5-final"
  },
  "orig_nbformat": 2,
  "kernelspec": {
   "name": "Python 3.7.5 64-bit ('python37': conda)",
   "display_name": "Python 3.7.5 64-bit ('python37': conda)",
   "metadata": {
    "interpreter": {
     "hash": "39186e0ee03719450e25f96b33f5f37448852afa64e693a51906c0790c4cf153"
    }
   }
  }
 },
 "nbformat": 4,
 "nbformat_minor": 2,
 "cells": [
  {
   "cell_type": "markdown",
   "metadata": {},
   "source": [
    "# Chapter 4: Transforming vectors and graphics"
   ]
  },
  {
   "cell_type": "markdown",
   "metadata": {},
   "source": [
    "**NOTE** For most of the examples in this chapter, the code is in other .py files in this directory, rather than directly in this Notebook.  You can run the other files in the notebook below, and a PyGame window will open up.  For instance `!python script.py` runs `script.py` as if you're running it from the command line. When you're done admiring the graphics the scripts create, you can close the window and the Jupyter cell will finish computing.\n",
    "\n",
    "Make sure to follow the instructions from Appendix C before beginning this chapter, including\n",
    "\n",
    "`pip install PyGame`\n",
    "\n",
    "`pip install PyOpenGL`"
   ]
  },
  {
   "cell_type": "markdown",
   "metadata": {},
   "source": [
    "# 4.1 Transforming 3D objects"
   ]
  },
  {
   "cell_type": "markdown",
   "metadata": {},
   "source": [
    "## 4.1.1 Drawing a transformed object"
   ]
  },
  {
   "cell_type": "markdown",
   "metadata": {},
   "source": [
    "symbol **`!`** tells jypiter notebook to execute script in command lie "
   ]
  },
  {
   "cell_type": "code",
   "execution_count": 1,
   "metadata": {
    "tags": []
   },
   "outputs": [
    {
     "output_type": "stream",
     "name": "stdout",
     "text": "pygame 1.9.6\nHello from the pygame community. https://www.pygame.org/contribute.html\n"
    }
   ],
   "source": [
    "!python draw_teapot.py"
   ]
  },
  {
   "cell_type": "code",
   "execution_count": 2,
   "metadata": {
    "tags": []
   },
   "outputs": [
    {
     "output_type": "stream",
     "name": "stdout",
     "text": "pygame 1.9.6\nHello from the pygame community. https://www.pygame.org/contribute.html\n"
    }
   ],
   "source": [
    "!python scale_teapot.py"
   ]
  },
  {
   "cell_type": "code",
   "execution_count": 3,
   "metadata": {
    "tags": []
   },
   "outputs": [
    {
     "output_type": "stream",
     "name": "stdout",
     "text": "pygame 1.9.6\nHello from the pygame community. https://www.pygame.org/contribute.html\n"
    }
   ],
   "source": [
    "!python scale_translate_teapot.py"
   ]
  },
  {
   "cell_type": "markdown",
   "metadata": {},
   "source": [
    "## 4.1.2 Composing vector transformations"
   ]
  },
  {
   "cell_type": "markdown",
   "metadata": {},
   "source": [
    "When function ends with `()` -- *parentheses*, it means that function will be executed  \n",
    "* [Programming Terms: First-Class Functions](https://www.youtube.com/watch?v=kr0mpwqttM0)  \n",
    "* [Currying - Pycon Africa](https://www.youtube.com/watch?v=L3G7BH7n0K0&list=LL4vFTVTAJuWCzJysoHgHzkA&index=3)  \n",
    "* [Currying - python-course](https://www.python-course.eu/currying_in_python.php#General-Idea)  \n",
    "* [Currying in Python](https://mtomassoli.wordpress.com/2012/03/18/currying-in-python/)  "
   ]
  },
  {
   "source": [
    "We can write a general-purpose compose function that takes two Python functions (vector transformations for instance) and returns a new function, which is their composition:"
   ],
   "cell_type": "markdown",
   "metadata": {}
  },
  {
   "cell_type": "code",
   "execution_count": 1,
   "metadata": {},
   "outputs": [],
   "source": [
    "def compose(f1,f2):\n",
    "    def new_function(input):\n",
    "        return f1(f2(input))\n",
    "    return new_function"
   ]
  },
  {
   "source": [
    "```\n",
    "def scale2_then_translate1left(v):    \n",
    "      return translate1left(scale2(v))\n",
    "```\n",
    "      \n",
    "Instead of defining scale2_then_translate1left as its own function, we could write:  \n",
    "\n",
    "`scale2_then_translate1left = compose(translate1left, scale2)`\n",
    "\n",
    "this is called *composition of function*\n",
    "\n",
    "**The composition of two functions is a chaining process in which the output of the inner function becomes the input of the outer function.**"
   ],
   "cell_type": "markdown",
   "metadata": {}
  },
  {
   "cell_type": "code",
   "execution_count": 2,
   "metadata": {},
   "outputs": [],
   "source": [
    "def square(x):\n",
    "    return x**2\n",
    "def adding(x):\n",
    "    return x+x"
   ]
  },
  {
   "cell_type": "code",
   "execution_count": 3,
   "metadata": {},
   "outputs": [
    {
     "output_type": "execute_result",
     "data": {
      "text/plain": "4"
     },
     "metadata": {},
     "execution_count": 3
    }
   ],
   "source": [
    "square_adding = compose(square, adding)\n",
    "square_adding(1)"
   ]
  },
  {
   "cell_type": "code",
   "execution_count": 4,
   "metadata": {},
   "outputs": [],
   "source": [
    "from vectors import scale \n",
    "\n",
    "def scale2(v): \n",
    "    return scale(2.0, v)"
   ]
  },
  {
   "cell_type": "code",
   "execution_count": 5,
   "metadata": {},
   "outputs": [],
   "source": [
    "def polygon_map(transformation, polygons):\n",
    "    return [\n",
    "        [transformation(vertex) for vertex in triangle]\n",
    "        for triangle in polygons\n",
    "    ]"
   ]
  },
  {
   "cell_type": "code",
   "execution_count": 6,
   "metadata": {},
   "outputs": [
    {
     "output_type": "execute_result",
     "data": {
      "text/plain": "[(1.4, 1.0521480000000003, 0.0),\n (1.2734839999999998, 1.124108, -0.541836),\n (1.2915, 1.0521480000000003, -0.5495)]"
     },
     "metadata": {},
     "execution_count": 6
    }
   ],
   "source": [
    "from teapot import load_triangles\n",
    "\n",
    "polygon_map(scale2, load_triangles())[0]"
   ]
  },
  {
   "cell_type": "code",
   "execution_count": 7,
   "metadata": {
    "tags": []
   },
   "outputs": [
    {
     "output_type": "stream",
     "name": "stdout",
     "text": "pygame 1.9.6\nHello from the pygame community. https://www.pygame.org/contribute.html\n"
    }
   ],
   "source": [
    "from draw_model import draw_model\n",
    "\n",
    "#draw_model(polygon_map(scale2, load_triangles()))"
   ]
  },
  {
   "cell_type": "code",
   "execution_count": 8,
   "metadata": {},
   "outputs": [],
   "source": [
    "def scale_by(scalar):\n",
    "    def new_function(v):\n",
    "        return scale(scalar, v)\n",
    "    return new_function"
   ]
  },
  {
   "cell_type": "code",
   "execution_count": 9,
   "metadata": {},
   "outputs": [
    {
     "output_type": "execute_result",
     "data": {
      "text/plain": "(2, 2, 2)"
     },
     "metadata": {},
     "execution_count": 9
    }
   ],
   "source": [
    "scale2 = scale_by(2)\n",
    "scale2((1,1,1))"
   ]
  },
  {
   "cell_type": "code",
   "execution_count": 10,
   "metadata": {},
   "outputs": [
    {
     "output_type": "execute_result",
     "data": {
      "text/plain": "(2, 2, 2)"
     },
     "metadata": {},
     "execution_count": 10
    }
   ],
   "source": [
    "scale_by(2)((1,1,1))"
   ]
  },
  {
   "cell_type": "code",
   "execution_count": 11,
   "metadata": {},
   "outputs": [],
   "source": [
    "from vectors import add\n",
    "\n",
    "def translate_by(xform):\n",
    "    def new_function(v):\n",
    "        return add((xform), (v))\n",
    "    return new_function"
   ]
  },
  {
   "cell_type": "code",
   "execution_count": 12,
   "metadata": {},
   "outputs": [
    {
     "output_type": "execute_result",
     "data": {
      "text/plain": "(1, 6, 1)"
     },
     "metadata": {},
     "execution_count": 12
    }
   ],
   "source": [
    "translate2 = translate_by((0,5,0))\n",
    "translate2((1,1,1))"
   ]
  },
  {
   "cell_type": "code",
   "execution_count": 13,
   "metadata": {},
   "outputs": [
    {
     "output_type": "execute_result",
     "data": {
      "text/plain": "(1, 6, 1)"
     },
     "metadata": {},
     "execution_count": 13
    }
   ],
   "source": [
    "translate_by((0,5,0))((1,1,1))"
   ]
  },
  {
   "cell_type": "markdown",
   "metadata": {},
   "source": [
    "## 4.1.3 Rotating an object about an axis"
   ]
  },
  {
   "source": [
    "You already saw how to do rotations in 2D in chapter 2: you convert the Cartesian coordinates to polar coordinates, increase or decrease the angle by the rotation factor, and then convert back."
   ],
   "cell_type": "markdown",
   "metadata": {}
  },
  {
   "cell_type": "code",
   "execution_count": 14,
   "metadata": {},
   "outputs": [],
   "source": [
    "def rotate2d(angle, vector): \n",
    "    l,a = to_polar(vector)\n",
    "    return to_cartesian((l, a+angle))"
   ]
  },
  {
   "cell_type": "code",
   "execution_count": 15,
   "metadata": {
    "tags": []
   },
   "outputs": [
    {
     "output_type": "stream",
     "name": "stdout",
     "text": "pygame 1.9.6\nHello from the pygame community. https://www.pygame.org/contribute.html\n"
    }
   ],
   "source": [
    "!python rotate_teapot.py"
   ]
  },
  {
   "cell_type": "code",
   "execution_count": 16,
   "metadata": {},
   "outputs": [],
   "source": [
    "def rotate_z(angle, vector): \n",
    "    x,y,z = vector \n",
    "    new_x, new_y = rotate2d(angle, (x,y)) \n",
    "    return new_x, new_y, z\n",
    "\n",
    "# currying rotate_z()\n",
    "def rotate_z_by(angle):\n",
    "    def new_function(vector):\n",
    "        return rotate_z(angle, vector)\n",
    "    return new_function"
   ]
  },
  {
   "cell_type": "code",
   "execution_count": 17,
   "metadata": {},
   "outputs": [],
   "source": [
    "from math import *\n",
    "from transforms import to_polar, to_cartesian\n",
    "\n",
    "#draw_model(polygon_map(rotate_z_by(pi/4.), load_triangles()))"
   ]
  },
  {
   "cell_type": "code",
   "execution_count": 18,
   "metadata": {},
   "outputs": [],
   "source": [
    "from functools import partial\n",
    "\n",
    "rot_z = partial(rotate_z, pi/2.)\n",
    "\n",
    "#draw_model(polygon_map(rot_z, load_triangles()))"
   ]
  },
  {
   "cell_type": "code",
   "execution_count": 19,
   "metadata": {},
   "outputs": [],
   "source": [
    "def rotate_x(angle, vector):\n",
    "    x,y,z = vector\n",
    "    new_y, new_z = rotate2d(angle, (y,z))\n",
    "    return x, new_y, new_z\n",
    "\n",
    "# currying rotate_x()\n",
    "def rotate_x_by(angle):\n",
    "    def new_func(vector):\n",
    "        return rotate_x(angle, vector)\n",
    "    return new_func"
   ]
  },
  {
   "cell_type": "code",
   "execution_count": 20,
   "metadata": {
    "tags": []
   },
   "outputs": [
    {
     "output_type": "stream",
     "name": "stdout",
     "text": "pygame 1.9.6\nHello from the pygame community. https://www.pygame.org/contribute.html\n"
    }
   ],
   "source": [
    "#draw_model(polygon_map(rotate_x_by(pi/2.), load_triangles()))\n",
    "\n",
    "!python rotate_teapot_x.py"
   ]
  },
  {
   "source": [
    "## 4.1.4 Inventing your own geometric transformations"
   ],
   "cell_type": "markdown",
   "metadata": {}
  },
  {
   "cell_type": "code",
   "execution_count": 21,
   "metadata": {},
   "outputs": [],
   "source": [
    "def strech_x(vector):\n",
    "    x,y,z = vector\n",
    "    return (4.*x, y, z)"
   ]
  },
  {
   "cell_type": "code",
   "execution_count": 22,
   "metadata": {
    "tags": []
   },
   "outputs": [
    {
     "output_type": "stream",
     "name": "stdout",
     "text": "pygame 1.9.6\nHello from the pygame community. https://www.pygame.org/contribute.html\n"
    }
   ],
   "source": [
    "!python stretch_teapot.py"
   ]
  },
  {
   "cell_type": "code",
   "execution_count": 23,
   "metadata": {},
   "outputs": [],
   "source": [
    "def stretch_y(vector):\n",
    "    x,y,z = vector\n",
    "    return (x, 2.*y, z)\n",
    "\n",
    "#draw_model(polygon_map(stretch_y, load_triangles()))"
   ]
  },
  {
   "cell_type": "code",
   "execution_count": 24,
   "metadata": {},
   "outputs": [],
   "source": [
    "def stretch_z(vector):\n",
    "    x,y,z = vector\n",
    "    return (x, y*y*y, z)\n",
    "\n",
    "#draw_model(polygon_map(stretch_z, load_triangles()))"
   ]
  },
  {
   "cell_type": "code",
   "execution_count": 25,
   "metadata": {},
   "outputs": [],
   "source": [
    "def slant_xy(vector):\n",
    "    x,y,z = vector\n",
    "    return (x+y, y, z)\n",
    "\n",
    "#draw_model(polygon_map(slant_xy, load_triangles()))"
   ]
  },
  {
   "source": [
    "## 4.1.5 Exercises"
   ],
   "cell_type": "markdown",
   "metadata": {}
  },
  {
   "source": [
    "**Exercise 4.1:** Implement a `translate_by` function referred to in section 4.1.2, taking a translation vector as an input and returning a translation function as an output."
   ],
   "cell_type": "markdown",
   "metadata": {}
  },
  {
   "cell_type": "code",
   "execution_count": 26,
   "metadata": {},
   "outputs": [],
   "source": [
    "def translate_by(vector1):\n",
    "    def new_function(vector2):\n",
    "        return add(vector1, vector2)\n",
    "    return new_function"
   ]
  },
  {
   "cell_type": "code",
   "execution_count": 27,
   "metadata": {},
   "outputs": [],
   "source": [
    "translate_by_1 = translate_by((1,1,1))"
   ]
  },
  {
   "cell_type": "code",
   "execution_count": 28,
   "metadata": {},
   "outputs": [],
   "source": [
    "#draw_model(polygon_map(translate_by_1, load_triangles()))"
   ]
  },
  {
   "source": [
    "**Exercise 4.6:** Modify the `compose(f,g)` function to `compose(*args)`, which takes several functions as arguments and returns a new function that is their composition."
   ],
   "cell_type": "markdown",
   "metadata": {}
  },
  {
   "cell_type": "code",
   "execution_count": 29,
   "metadata": {
    "tags": []
   },
   "outputs": [
    {
     "output_type": "stream",
     "name": "stdout",
     "text": "(4, 3, 2, 1)\n4 3 2 1\n"
    },
    {
     "output_type": "execute_result",
     "data": {
      "text/plain": "10"
     },
     "metadata": {},
     "execution_count": 29
    }
   ],
   "source": [
    "def adding(*args):\n",
    "    print(args) #original\n",
    "    print(*args) #unpacked\n",
    "    return sum(args)\n",
    "\n",
    "adding(4,3,2,1)"
   ]
  },
  {
   "cell_type": "code",
   "execution_count": 30,
   "metadata": {},
   "outputs": [],
   "source": [
    "def compose(*args):\n",
    "    def new_function(input):\n",
    "        state = input\n",
    "        for f in reversed(args):\n",
    "            state = f(state)\n",
    "        return state\n",
    "    return new_function"
   ]
  },
  {
   "cell_type": "code",
   "execution_count": 31,
   "metadata": {},
   "outputs": [
    {
     "output_type": "execute_result",
     "data": {
      "text/plain": "(6, 6, 6)"
     },
     "metadata": {},
     "execution_count": 31
    }
   ],
   "source": [
    "scale_add = compose(scale_by(2), translate_by((1,1,1)))\n",
    "scale_add((2,2,2))"
   ]
  },
  {
   "cell_type": "code",
   "execution_count": 32,
   "metadata": {},
   "outputs": [],
   "source": [
    "def prepend(string):\n",
    "    def new_function(input):\n",
    "        return string + input\n",
    "    return new_function"
   ]
  },
  {
   "cell_type": "code",
   "execution_count": 33,
   "metadata": {},
   "outputs": [
    {
     "output_type": "execute_result",
     "data": {
      "text/plain": "'Python'"
     },
     "metadata": {},
     "execution_count": 33
    }
   ],
   "source": [
    "f = compose(prepend('P'), prepend('y'), prepend('t'))\n",
    "f('hon')"
   ]
  },
  {
   "source": [
    "**Exercise 4.2:** Render the teapot translated by 20 units in the negative z direction. What does the resulting image look like?\n"
   ],
   "cell_type": "markdown",
   "metadata": {}
  },
  {
   "cell_type": "code",
   "execution_count": 34,
   "metadata": {},
   "outputs": [],
   "source": [
    "translate_z = translate_by((0,0,-20))\n",
    "#draw_model(polygon_map(translate_z, load_triangles()))"
   ]
  },
  {
   "source": [
    "**Mini-project 4.3:** What happens to the teapot when you scale every vector by a scalar between 0 and 1? What happens when you scale it by a factor of -1?"
   ],
   "cell_type": "markdown",
   "metadata": {}
  },
  {
   "cell_type": "code",
   "execution_count": 35,
   "metadata": {},
   "outputs": [],
   "source": [
    "#draw_model(polygon_map(scale_by(0.5), load_triangles()))"
   ]
  },
  {
   "cell_type": "code",
   "execution_count": 36,
   "metadata": {},
   "outputs": [],
   "source": [
    "#draw_model(polygon_map(scale_by(-1), load_triangles()))"
   ]
  },
  {
   "source": [
    "**Exercise 4.4:** First apply translate1left to the teapot and then apply scale2. How is the result different from the opposite order of composition? Why?"
   ],
   "cell_type": "markdown",
   "metadata": {}
  },
  {
   "cell_type": "code",
   "execution_count": 37,
   "metadata": {},
   "outputs": [],
   "source": [
    "trans_scale = compose(translate_by((-1,0,0)), scale_by(2))\n",
    "#draw_model(polygon_map(trans_scale, load_triangles()))"
   ]
  },
  {
   "cell_type": "code",
   "execution_count": 38,
   "metadata": {},
   "outputs": [],
   "source": [
    "scale_trans = compose(scale_by(2), translate_by((-1,0,0)))\n",
    "#draw_model(polygon_map((scale_trans), load_triangles()))"
   ]
  },
  {
   "source": [
    "**Exercise 4.7:** Write a curry2(f) function that takes a Python function f(x,y) with two arguments and returns a curried version. For instance, once you write g = curry2(f), the two expressions f(x,y) and g(x)(y) should return the same result."
   ],
   "cell_type": "markdown",
   "metadata": {}
  },
  {
   "cell_type": "code",
   "execution_count": 39,
   "metadata": {},
   "outputs": [],
   "source": [
    "def curry2(f):\n",
    "    def new_function1(input1):\n",
    "        def new_function2(input2):\n",
    "            return f(input1, input2)\n",
    "        return new_function2\n",
    "    return new_function1"
   ]
  },
  {
   "cell_type": "code",
   "execution_count": 40,
   "metadata": {},
   "outputs": [
    {
     "output_type": "execute_result",
     "data": {
      "text/plain": "((5, 0, 0), (5, 0, 0))"
     },
     "metadata": {},
     "execution_count": 40
    }
   ],
   "source": [
    "r = (1,0,0)\n",
    "s = 5\n",
    "\n",
    "scale_curried = curry2(scale)\n",
    "scale_curried(s)(r), scale(s,r)"
   ]
  },
  {
   "cell_type": "code",
   "execution_count": 41,
   "metadata": {},
   "outputs": [
    {
     "output_type": "execute_result",
     "data": {
      "text/plain": "(2, 4, 6)"
     },
     "metadata": {},
     "execution_count": 41
    }
   ],
   "source": [
    "scale_by = curry2(scale)\n",
    "scale_by(2)((1,2,3))"
   ]
  },
  {
   "source": [
    "**Exercise 4.8:** Without running it, what is the result of applying the transformation compose(rotate_z_by(pi/2),rotate_x_by(pi/2))? What if you switch the order of the composition?"
   ],
   "cell_type": "markdown",
   "metadata": {}
  },
  {
   "cell_type": "code",
   "execution_count": 74,
   "metadata": {},
   "outputs": [],
   "source": [
    "#draw_model(polygon_map(rotate_z_by(pi/2), load_triangles()))\n",
    "#draw_model(polygon_map(rotate_x_by(pi/2), load_triangles()))\n",
    "#draw_model(polygon_map(compose(rotate_z_by(pi/2), rotate_x_by(pi/2)), load_triangles()))\n",
    "#draw_model(polygon_map(compose(rotate_x_by(pi/2), rotate_z_by(pi/2)), load_triangles()))"
   ]
  },
  {
   "source": [
    "**Exercise 4.9:** Write a function stretch_x(scalar,vector) that scales the target vector by the given factor but only in the x direction. Also write a curried version stretch_x_by so that stretch_x_by(scalar)(vector) returns the same result."
   ],
   "cell_type": "markdown",
   "metadata": {}
  },
  {
   "cell_type": "code",
   "execution_count": 78,
   "metadata": {},
   "outputs": [],
   "source": [
    "def stretch_x(scalar, vector):\n",
    "    x,y,z = vector\n",
    "    return x*scalar, y, z"
   ]
  },
  {
   "cell_type": "code",
   "execution_count": 79,
   "metadata": {},
   "outputs": [
    {
     "output_type": "execute_result",
     "data": {
      "text/plain": "(5, 1, 1)"
     },
     "metadata": {},
     "execution_count": 79
    }
   ],
   "source": [
    "stretch_x(5, (1,1,1))"
   ]
  },
  {
   "cell_type": "code",
   "execution_count": 84,
   "metadata": {},
   "outputs": [],
   "source": [
    "def strecth_x_by(scalar):\n",
    "    def new_function(vector):\n",
    "        return stretch_x(scalar, vector)\n",
    "    return new_function"
   ]
  },
  {
   "cell_type": "code",
   "execution_count": 86,
   "metadata": {},
   "outputs": [
    {
     "output_type": "execute_result",
     "data": {
      "text/plain": "(5, 1, 1)"
     },
     "metadata": {},
     "execution_count": 86
    }
   ],
   "source": [
    "strecth_x_by(5)((1,1,1))"
   ]
  },
  {
   "source": [
    "# 4.2 Linear transformations"
   ],
   "cell_type": "markdown",
   "metadata": {}
  },
  {
   "source": [
    "Along with vectors, linear transformations are the other main objects of study in linear algebra. Linear transformations are special transformations where vector arithmetic looks the same before and after the transformation."
   ],
   "cell_type": "markdown",
   "metadata": {}
  },
  {
   "source": [
    "## 4.2.1 Preserving vector arithmetic"
   ],
   "cell_type": "markdown",
   "metadata": {}
  },
  {
   "source": [
    "\n",
    "\n",
    "Linear transformation\n",
    "\n",
    "A linear transformation is a vector transformation `T` that **preserves vector addition and scalar multiplication**. That is, for any input vectors `u` and `v`, we have:\n",
    "\n",
    "`T(u) + T(v) = T(u + v)`\n",
    "\n",
    "and for any pair of a scalar `s` and a vector `v`, we have:\n",
    "\n",
    "`T(sv) = sT(v)`\n"
   ],
   "cell_type": "markdown",
   "metadata": {}
  },
  {
   "source": [
    "\n",
    "## 4.2.2 Picturing linear transformations"
   ],
   "cell_type": "markdown",
   "metadata": {}
  },
  {
   "source": [
    "Exaples are in the book."
   ],
   "cell_type": "markdown",
   "metadata": {}
  },
  {
   "source": [
    "## 4.2.3 Why linear transformations?"
   ],
   "cell_type": "markdown",
   "metadata": {}
  },
  {
   "source": [
    "\n",
    "\n",
    "Because linear transformations preserve vector sums and scalar multiples, they also preserve a broader class of vector arithmetic operations. The most general operation is called a ***linear combination***. A linear combination of a collection of vectors is a sum of scalar multiples of them. For instance, one linear combination of two vectors `u` and v would be `3u − 2v`. Given three vectors `u`, `v`, and `w`, the expression `0.5u − v + 6w` is a ***linear combination*** of `u`, `v`, and `w`. Because linear transformations preserve vector sums and scalar multiples, these preserve linear combinations as well.\n",
    "\n"
   ],
   "cell_type": "markdown",
   "metadata": {}
  },
  {
   "source": [
    "\n",
    "\n",
    "We can restate this fact algebraically. If you have a collection of `n` vectors, `v1`, `v2`, …, `vn`, as well as any choice of `n` scalars, `s1`, `s2`, `s3`, …, `sn`, a linear transformation `T` preserves the linear combination:\n",
    "\n",
    "\n",
    "`T(s1v1 + s2v2 + s3v3 + … + snvn) = s1T(v1) + s2T(v2) + s3T(v3) + … + snT(vn)`\n",
    "\n"
   ],
   "cell_type": "markdown",
   "metadata": {}
  },
  {
   "source": [
    "The key idea here is that every point on a line segment connecting two vectors `u` and `v` is a **weighted average** and, therefore, a ***linear combination*** of points `u` and `v`.\n",
    "\n",
    "`su + (1 − s)v`\n",
    "\n",
    "`0 < s < 1`"
   ],
   "cell_type": "markdown",
   "metadata": {}
  },
  {
   "source": [
    "A linear transformation `T` takes every point on the line segment connecting `u` and `v` to a point on the line segment connecting `T(u)` and `T(v)`. This is a key property of linear transformations: they send every existing line segment to a new line segment. Because our 3D models are made up of polygons and polygons are outlined by line segments, linear transformations can be expected to preserve the structure of our 3D models to some extent."
   ],
   "cell_type": "markdown",
   "metadata": {}
  },
  {
   "source": [
    "## 4.2.4 Computing linear transformations"
   ],
   "cell_type": "markdown",
   "metadata": {}
  },
  {
   "source": [
    "Vector `v(4, 3, 5)` can be decomposed as a sum `(4, 0, 0) + (0, 3, 0) + (0, 0, 5)`. This makes it easy to picture how far the vector extends in each of the three dimensions of the space that we’re in. \n",
    "\n",
    "We can decompose this even further into a linear combination `(4, 3, 5) = 4 · (1, 0, 0) + 3 · (0, 1, 0) + 5 · (0, 0, 1)`  \n",
    "\n",
    "This might seem like a boring fact, but it’s one of the profound insights from linear algebra: any 3D vector can be decomposed into a linear combination of three vectors `(1, 0, 0)`, `(0, 1, 0)`, and `(0, 0, 1)`. The scalars appearing in this decomposition for a vector v are exactly the coordinates of v."
   ],
   "cell_type": "markdown",
   "metadata": {}
  },
  {
   "source": [
    "The three vectors `(1, 0, 0)`, `(0, 1, 0)`, and `(0, 0, 1)` are called the ***standard basis*** for three-dimensional space. These are denoted `e1`, `e2`, and `e3`, so we could write the previous linear combination as `(4, 3, 5) = 4 e1 + 3 e2 + 5 e3`. \n",
    "\n",
    "When we’re working in 2D space, we call `e1 = (1, 0)` and `e2 = (0, 1)`; so, for example `(7, -4) = 7 e1 − 4 e2`\n"
   ],
   "cell_type": "markdown",
   "metadata": {}
  },
  {
   "source": [
    "Because linear transformations respect linear combinations, all we need to know to compute a linear transformation is how it affects standard basis vectors!"
   ],
   "cell_type": "markdown",
   "metadata": {}
  },
  {
   "cell_type": "code",
   "execution_count": 5,
   "metadata": {
    "tags": []
   },
   "outputs": [],
   "source": [
    "from draw_model import draw_model\n",
    "from teapot import load_triangles\n",
    "from vectors import add,scale\n",
    "from transforms import *\n",
    "\n",
    "Ae1 = (1,1,1)\n",
    "Ae2 = (1,0,-1) \n",
    "Ae3 = (0,1,1) \n",
    "\n",
    "def apply_A(v):\n",
    "    return add(\n",
    "        scale(v[0], Ae1), \n",
    "        scale(v[1], Ae2), \n",
    "        scale(v[2], Ae3) \n",
    "    ) \n",
    "\n",
    "#draw_model(polygon_map(apply_A, load_triangles()))"
   ]
  },
  {
   "source": [
    "**Exercise 4.10:** Considering S again, the vector transformation that squares all coordinates, show algebraically that `S(sv) = sS(v)` does not hold for all choices of scalars `s` and 2D vectors `v`."
   ],
   "cell_type": "markdown",
   "metadata": {}
  },
  {
   "source": [
    "**Solution:** Let transformation $S=(x^{2}, y^{2})$, vector $v=(x,y)$ and scalar $s$.  \n",
    "Then $sv = (sx, sy)$ and $S(sv) = (s^{2}x^{2}, s^{2}y^{2}) = s^{2}(x^{2}, y^{2}) = s^{2}S(v)$.  \n",
    "For most values of $s$ and most vectors $v$, $s^{2}S(v) \\ne sS(v)$  \n",
    "\n",
    "A specific example that $S$ is not linear transformation when $s=2$ and $v=(1,1,1)$:  \n",
    "\n",
    "$S(sv)= 4(1,1,1) = (4,4,4)$  \n",
    "$sS(v)= 2(1,1,1) = (2,2,2)$  \n"
   ],
   "cell_type": "markdown",
   "metadata": {}
  },
  {
   "source": [
    "**Exercise 4.11:** Suppose `T` is a vector transformation and `T(0) ≠ 0`, where `0` represents the vector with all coordinates equal to zero. Why is T not linear according to the definition?"
   ],
   "cell_type": "markdown",
   "metadata": {}
  },
  {
   "source": [
    "**Solution:** For any vector $v$, $v + 0 = v$. To preserve vector addition it should be that $T(v + 0) = T(v) + T(0)$.  \n",
    "Because $T(v + 0) = T(v)$ this requires that $T(v) = T(v) + T(0)$ or $T(0) = 0$.    \n",
    "Given taht this is not the case, $T$ cannot be linear."
   ],
   "cell_type": "markdown",
   "metadata": {}
  },
  {
   "source": [
    "**Exercise 4.12:** The *identity transformation is the vector transformation that returns the same vector it is passed. It is denoted with a capital `I`, so we could write its definition as `I(v) = v` for all vectors `v`. Explain why `I` is a linear transformation.*\n"
   ],
   "cell_type": "markdown",
   "metadata": {}
  },
  {
   "source": [
    "**Solution:** For any vectors $v$ and $w$, $I(v + w) = v + w = I(v) + I(w)$, and for any scalar $s$, $I(sv) = sv = s · I(v)$. These equalities show that the identity transformation preserves vector sums and scalar multiples.\n"
   ],
   "cell_type": "markdown",
   "metadata": {}
  },
  {
   "source": [
    "**Exercise 4.13:** What is the midpoint between (5, 3) and (-2, 1)? Plot all three of these points to see that you are correct."
   ],
   "cell_type": "markdown",
   "metadata": {}
  },
  {
   "cell_type": "code",
   "execution_count": 14,
   "metadata": {},
   "outputs": [
    {
     "output_type": "display_data",
     "data": {
      "text/plain": "<Figure size 432x240 with 1 Axes>",
      "image/svg+xml": "<?xml version=\"1.0\" encoding=\"utf-8\" standalone=\"no\"?>\n<!DOCTYPE svg PUBLIC \"-//W3C//DTD SVG 1.1//EN\"\n  \"http://www.w3.org/Graphics/SVG/1.1/DTD/svg11.dtd\">\n<!-- Created with matplotlib (https://matplotlib.org/) -->\n<svg height=\"212.278125pt\" version=\"1.1\" viewBox=\"0 0 370.942187 212.278125\" width=\"370.942187pt\" xmlns=\"http://www.w3.org/2000/svg\" xmlns:xlink=\"http://www.w3.org/1999/xlink\">\n <defs>\n  <style type=\"text/css\">\n*{stroke-linecap:butt;stroke-linejoin:round;}\n  </style>\n </defs>\n <g id=\"figure_1\">\n  <g id=\"patch_1\">\n   <path d=\"M 0 212.278125 \nL 370.942187 212.278125 \nL 370.942187 0 \nL 0 0 \nz\n\" style=\"fill:none;\"/>\n  </g>\n  <g id=\"axes_1\">\n   <g id=\"patch_2\">\n    <path d=\"M 28.942188 188.4 \nL 363.742188 188.4 \nL 363.742188 7.2 \nL 28.942188 7.2 \nz\n\" style=\"fill:#ffffff;\"/>\n   </g>\n   <g id=\"matplotlib.axis_1\">\n    <g id=\"xtick_1\">\n     <g id=\"line2d_1\">\n      <path clip-path=\"url(#pfe9ceb3d19)\" d=\"M 28.942188 188.4 \nL 28.942188 7.2 \n\" style=\"fill:none;stroke:#b0b0b0;stroke-linecap:square;stroke-width:0.8;\"/>\n     </g>\n     <g id=\"line2d_2\">\n      <defs>\n       <path d=\"M 0 0 \nL 0 3.5 \n\" id=\"m92bd18e208\" style=\"stroke:#000000;stroke-width:0.8;\"/>\n      </defs>\n      <g>\n       <use style=\"stroke:#000000;stroke-width:0.8;\" x=\"28.942188\" xlink:href=\"#m92bd18e208\" y=\"188.4\"/>\n      </g>\n     </g>\n     <g id=\"text_1\">\n      <!-- −3 -->\n      <defs>\n       <path d=\"M 10.59375 35.5 \nL 73.1875 35.5 \nL 73.1875 27.203125 \nL 10.59375 27.203125 \nz\n\" id=\"DejaVuSans-8722\"/>\n       <path d=\"M 40.578125 39.3125 \nQ 47.65625 37.796875 51.625 33 \nQ 55.609375 28.21875 55.609375 21.1875 \nQ 55.609375 10.40625 48.1875 4.484375 \nQ 40.765625 -1.421875 27.09375 -1.421875 \nQ 22.515625 -1.421875 17.65625 -0.515625 \nQ 12.796875 0.390625 7.625 2.203125 \nL 7.625 11.71875 \nQ 11.71875 9.328125 16.59375 8.109375 \nQ 21.484375 6.890625 26.8125 6.890625 \nQ 36.078125 6.890625 40.9375 10.546875 \nQ 45.796875 14.203125 45.796875 21.1875 \nQ 45.796875 27.640625 41.28125 31.265625 \nQ 36.765625 34.90625 28.71875 34.90625 \nL 20.21875 34.90625 \nL 20.21875 43.015625 \nL 29.109375 43.015625 \nQ 36.375 43.015625 40.234375 45.921875 \nQ 44.09375 48.828125 44.09375 54.296875 \nQ 44.09375 59.90625 40.109375 62.90625 \nQ 36.140625 65.921875 28.71875 65.921875 \nQ 24.65625 65.921875 20.015625 65.03125 \nQ 15.375 64.15625 9.8125 62.3125 \nL 9.8125 71.09375 \nQ 15.4375 72.65625 20.34375 73.4375 \nQ 25.25 74.21875 29.59375 74.21875 \nQ 40.828125 74.21875 47.359375 69.109375 \nQ 53.90625 64.015625 53.90625 55.328125 \nQ 53.90625 49.265625 50.4375 45.09375 \nQ 46.96875 40.921875 40.578125 39.3125 \nz\n\" id=\"DejaVuSans-51\"/>\n      </defs>\n      <g transform=\"translate(21.571094 202.998438)scale(0.1 -0.1)\">\n       <use xlink:href=\"#DejaVuSans-8722\"/>\n       <use x=\"83.789062\" xlink:href=\"#DejaVuSans-51\"/>\n      </g>\n     </g>\n    </g>\n    <g id=\"xtick_2\">\n     <g id=\"line2d_3\">\n      <path clip-path=\"url(#pfe9ceb3d19)\" d=\"M 66.142188 188.4 \nL 66.142188 7.2 \n\" style=\"fill:none;stroke:#b0b0b0;stroke-linecap:square;stroke-width:0.8;\"/>\n     </g>\n     <g id=\"line2d_4\">\n      <g>\n       <use style=\"stroke:#000000;stroke-width:0.8;\" x=\"66.142188\" xlink:href=\"#m92bd18e208\" y=\"188.4\"/>\n      </g>\n     </g>\n     <g id=\"text_2\">\n      <!-- −2 -->\n      <defs>\n       <path d=\"M 19.1875 8.296875 \nL 53.609375 8.296875 \nL 53.609375 0 \nL 7.328125 0 \nL 7.328125 8.296875 \nQ 12.9375 14.109375 22.625 23.890625 \nQ 32.328125 33.6875 34.8125 36.53125 \nQ 39.546875 41.84375 41.421875 45.53125 \nQ 43.3125 49.21875 43.3125 52.78125 \nQ 43.3125 58.59375 39.234375 62.25 \nQ 35.15625 65.921875 28.609375 65.921875 \nQ 23.96875 65.921875 18.8125 64.3125 \nQ 13.671875 62.703125 7.8125 59.421875 \nL 7.8125 69.390625 \nQ 13.765625 71.78125 18.9375 73 \nQ 24.125 74.21875 28.421875 74.21875 \nQ 39.75 74.21875 46.484375 68.546875 \nQ 53.21875 62.890625 53.21875 53.421875 \nQ 53.21875 48.921875 51.53125 44.890625 \nQ 49.859375 40.875 45.40625 35.40625 \nQ 44.1875 33.984375 37.640625 27.21875 \nQ 31.109375 20.453125 19.1875 8.296875 \nz\n\" id=\"DejaVuSans-50\"/>\n      </defs>\n      <g transform=\"translate(58.771094 202.998438)scale(0.1 -0.1)\">\n       <use xlink:href=\"#DejaVuSans-8722\"/>\n       <use x=\"83.789062\" xlink:href=\"#DejaVuSans-50\"/>\n      </g>\n     </g>\n    </g>\n    <g id=\"xtick_3\">\n     <g id=\"line2d_5\">\n      <path clip-path=\"url(#pfe9ceb3d19)\" d=\"M 103.342188 188.4 \nL 103.342188 7.2 \n\" style=\"fill:none;stroke:#b0b0b0;stroke-linecap:square;stroke-width:0.8;\"/>\n     </g>\n     <g id=\"line2d_6\">\n      <g>\n       <use style=\"stroke:#000000;stroke-width:0.8;\" x=\"103.342188\" xlink:href=\"#m92bd18e208\" y=\"188.4\"/>\n      </g>\n     </g>\n     <g id=\"text_3\">\n      <!-- −1 -->\n      <defs>\n       <path d=\"M 12.40625 8.296875 \nL 28.515625 8.296875 \nL 28.515625 63.921875 \nL 10.984375 60.40625 \nL 10.984375 69.390625 \nL 28.421875 72.90625 \nL 38.28125 72.90625 \nL 38.28125 8.296875 \nL 54.390625 8.296875 \nL 54.390625 0 \nL 12.40625 0 \nz\n\" id=\"DejaVuSans-49\"/>\n      </defs>\n      <g transform=\"translate(95.971094 202.998438)scale(0.1 -0.1)\">\n       <use xlink:href=\"#DejaVuSans-8722\"/>\n       <use x=\"83.789062\" xlink:href=\"#DejaVuSans-49\"/>\n      </g>\n     </g>\n    </g>\n    <g id=\"xtick_4\">\n     <g id=\"line2d_7\">\n      <path clip-path=\"url(#pfe9ceb3d19)\" d=\"M 140.542188 188.4 \nL 140.542188 7.2 \n\" style=\"fill:none;stroke:#b0b0b0;stroke-linecap:square;stroke-width:0.8;\"/>\n     </g>\n     <g id=\"line2d_8\">\n      <g>\n       <use style=\"stroke:#000000;stroke-width:0.8;\" x=\"140.542188\" xlink:href=\"#m92bd18e208\" y=\"188.4\"/>\n      </g>\n     </g>\n     <g id=\"text_4\">\n      <!-- 0 -->\n      <defs>\n       <path d=\"M 31.78125 66.40625 \nQ 24.171875 66.40625 20.328125 58.90625 \nQ 16.5 51.421875 16.5 36.375 \nQ 16.5 21.390625 20.328125 13.890625 \nQ 24.171875 6.390625 31.78125 6.390625 \nQ 39.453125 6.390625 43.28125 13.890625 \nQ 47.125 21.390625 47.125 36.375 \nQ 47.125 51.421875 43.28125 58.90625 \nQ 39.453125 66.40625 31.78125 66.40625 \nz\nM 31.78125 74.21875 \nQ 44.046875 74.21875 50.515625 64.515625 \nQ 56.984375 54.828125 56.984375 36.375 \nQ 56.984375 17.96875 50.515625 8.265625 \nQ 44.046875 -1.421875 31.78125 -1.421875 \nQ 19.53125 -1.421875 13.0625 8.265625 \nQ 6.59375 17.96875 6.59375 36.375 \nQ 6.59375 54.828125 13.0625 64.515625 \nQ 19.53125 74.21875 31.78125 74.21875 \nz\n\" id=\"DejaVuSans-48\"/>\n      </defs>\n      <g transform=\"translate(137.360938 202.998438)scale(0.1 -0.1)\">\n       <use xlink:href=\"#DejaVuSans-48\"/>\n      </g>\n     </g>\n    </g>\n    <g id=\"xtick_5\">\n     <g id=\"line2d_9\">\n      <path clip-path=\"url(#pfe9ceb3d19)\" d=\"M 177.742188 188.4 \nL 177.742188 7.2 \n\" style=\"fill:none;stroke:#b0b0b0;stroke-linecap:square;stroke-width:0.8;\"/>\n     </g>\n     <g id=\"line2d_10\">\n      <g>\n       <use style=\"stroke:#000000;stroke-width:0.8;\" x=\"177.742188\" xlink:href=\"#m92bd18e208\" y=\"188.4\"/>\n      </g>\n     </g>\n     <g id=\"text_5\">\n      <!-- 1 -->\n      <g transform=\"translate(174.560937 202.998438)scale(0.1 -0.1)\">\n       <use xlink:href=\"#DejaVuSans-49\"/>\n      </g>\n     </g>\n    </g>\n    <g id=\"xtick_6\">\n     <g id=\"line2d_11\">\n      <path clip-path=\"url(#pfe9ceb3d19)\" d=\"M 214.942187 188.4 \nL 214.942187 7.2 \n\" style=\"fill:none;stroke:#b0b0b0;stroke-linecap:square;stroke-width:0.8;\"/>\n     </g>\n     <g id=\"line2d_12\">\n      <g>\n       <use style=\"stroke:#000000;stroke-width:0.8;\" x=\"214.942187\" xlink:href=\"#m92bd18e208\" y=\"188.4\"/>\n      </g>\n     </g>\n     <g id=\"text_6\">\n      <!-- 2 -->\n      <g transform=\"translate(211.760937 202.998438)scale(0.1 -0.1)\">\n       <use xlink:href=\"#DejaVuSans-50\"/>\n      </g>\n     </g>\n    </g>\n    <g id=\"xtick_7\">\n     <g id=\"line2d_13\">\n      <path clip-path=\"url(#pfe9ceb3d19)\" d=\"M 252.142188 188.4 \nL 252.142188 7.2 \n\" style=\"fill:none;stroke:#b0b0b0;stroke-linecap:square;stroke-width:0.8;\"/>\n     </g>\n     <g id=\"line2d_14\">\n      <g>\n       <use style=\"stroke:#000000;stroke-width:0.8;\" x=\"252.142188\" xlink:href=\"#m92bd18e208\" y=\"188.4\"/>\n      </g>\n     </g>\n     <g id=\"text_7\">\n      <!-- 3 -->\n      <g transform=\"translate(248.960938 202.998438)scale(0.1 -0.1)\">\n       <use xlink:href=\"#DejaVuSans-51\"/>\n      </g>\n     </g>\n    </g>\n    <g id=\"xtick_8\">\n     <g id=\"line2d_15\">\n      <path clip-path=\"url(#pfe9ceb3d19)\" d=\"M 289.342188 188.4 \nL 289.342188 7.2 \n\" style=\"fill:none;stroke:#b0b0b0;stroke-linecap:square;stroke-width:0.8;\"/>\n     </g>\n     <g id=\"line2d_16\">\n      <g>\n       <use style=\"stroke:#000000;stroke-width:0.8;\" x=\"289.342188\" xlink:href=\"#m92bd18e208\" y=\"188.4\"/>\n      </g>\n     </g>\n     <g id=\"text_8\">\n      <!-- 4 -->\n      <defs>\n       <path d=\"M 37.796875 64.3125 \nL 12.890625 25.390625 \nL 37.796875 25.390625 \nz\nM 35.203125 72.90625 \nL 47.609375 72.90625 \nL 47.609375 25.390625 \nL 58.015625 25.390625 \nL 58.015625 17.1875 \nL 47.609375 17.1875 \nL 47.609375 0 \nL 37.796875 0 \nL 37.796875 17.1875 \nL 4.890625 17.1875 \nL 4.890625 26.703125 \nz\n\" id=\"DejaVuSans-52\"/>\n      </defs>\n      <g transform=\"translate(286.160938 202.998438)scale(0.1 -0.1)\">\n       <use xlink:href=\"#DejaVuSans-52\"/>\n      </g>\n     </g>\n    </g>\n    <g id=\"xtick_9\">\n     <g id=\"line2d_17\">\n      <path clip-path=\"url(#pfe9ceb3d19)\" d=\"M 326.542187 188.4 \nL 326.542187 7.2 \n\" style=\"fill:none;stroke:#b0b0b0;stroke-linecap:square;stroke-width:0.8;\"/>\n     </g>\n     <g id=\"line2d_18\">\n      <g>\n       <use style=\"stroke:#000000;stroke-width:0.8;\" x=\"326.542187\" xlink:href=\"#m92bd18e208\" y=\"188.4\"/>\n      </g>\n     </g>\n     <g id=\"text_9\">\n      <!-- 5 -->\n      <defs>\n       <path d=\"M 10.796875 72.90625 \nL 49.515625 72.90625 \nL 49.515625 64.59375 \nL 19.828125 64.59375 \nL 19.828125 46.734375 \nQ 21.96875 47.46875 24.109375 47.828125 \nQ 26.265625 48.1875 28.421875 48.1875 \nQ 40.625 48.1875 47.75 41.5 \nQ 54.890625 34.8125 54.890625 23.390625 \nQ 54.890625 11.625 47.5625 5.09375 \nQ 40.234375 -1.421875 26.90625 -1.421875 \nQ 22.3125 -1.421875 17.546875 -0.640625 \nQ 12.796875 0.140625 7.71875 1.703125 \nL 7.71875 11.625 \nQ 12.109375 9.234375 16.796875 8.0625 \nQ 21.484375 6.890625 26.703125 6.890625 \nQ 35.15625 6.890625 40.078125 11.328125 \nQ 45.015625 15.765625 45.015625 23.390625 \nQ 45.015625 31 40.078125 35.4375 \nQ 35.15625 39.890625 26.703125 39.890625 \nQ 22.75 39.890625 18.8125 39.015625 \nQ 14.890625 38.140625 10.796875 36.28125 \nz\n\" id=\"DejaVuSans-53\"/>\n      </defs>\n      <g transform=\"translate(323.360937 202.998438)scale(0.1 -0.1)\">\n       <use xlink:href=\"#DejaVuSans-53\"/>\n      </g>\n     </g>\n    </g>\n   </g>\n   <g id=\"matplotlib.axis_2\">\n    <g id=\"ytick_1\">\n     <g id=\"line2d_19\">\n      <path clip-path=\"url(#pfe9ceb3d19)\" d=\"M 28.942188 188.4 \nL 363.742188 188.4 \n\" style=\"fill:none;stroke:#b0b0b0;stroke-linecap:square;stroke-width:0.8;\"/>\n     </g>\n     <g id=\"line2d_20\">\n      <defs>\n       <path d=\"M 0 0 \nL -3.5 0 \n\" id=\"mfe34f8f129\" style=\"stroke:#000000;stroke-width:0.8;\"/>\n      </defs>\n      <g>\n       <use style=\"stroke:#000000;stroke-width:0.8;\" x=\"28.942188\" xlink:href=\"#mfe34f8f129\" y=\"188.4\"/>\n      </g>\n     </g>\n     <g id=\"text_10\">\n      <!-- −1 -->\n      <g transform=\"translate(7.2 192.199219)scale(0.1 -0.1)\">\n       <use xlink:href=\"#DejaVuSans-8722\"/>\n       <use x=\"83.789062\" xlink:href=\"#DejaVuSans-49\"/>\n      </g>\n     </g>\n    </g>\n    <g id=\"ytick_2\">\n     <g id=\"line2d_21\">\n      <path clip-path=\"url(#pfe9ceb3d19)\" d=\"M 28.942188 152.16 \nL 363.742188 152.16 \n\" style=\"fill:none;stroke:#b0b0b0;stroke-linecap:square;stroke-width:0.8;\"/>\n     </g>\n     <g id=\"line2d_22\">\n      <g>\n       <use style=\"stroke:#000000;stroke-width:0.8;\" x=\"28.942188\" xlink:href=\"#mfe34f8f129\" y=\"152.16\"/>\n      </g>\n     </g>\n     <g id=\"text_11\">\n      <!-- 0 -->\n      <g transform=\"translate(15.579688 155.959219)scale(0.1 -0.1)\">\n       <use xlink:href=\"#DejaVuSans-48\"/>\n      </g>\n     </g>\n    </g>\n    <g id=\"ytick_3\">\n     <g id=\"line2d_23\">\n      <path clip-path=\"url(#pfe9ceb3d19)\" d=\"M 28.942188 115.92 \nL 363.742188 115.92 \n\" style=\"fill:none;stroke:#b0b0b0;stroke-linecap:square;stroke-width:0.8;\"/>\n     </g>\n     <g id=\"line2d_24\">\n      <g>\n       <use style=\"stroke:#000000;stroke-width:0.8;\" x=\"28.942188\" xlink:href=\"#mfe34f8f129\" y=\"115.92\"/>\n      </g>\n     </g>\n     <g id=\"text_12\">\n      <!-- 1 -->\n      <g transform=\"translate(15.579688 119.719219)scale(0.1 -0.1)\">\n       <use xlink:href=\"#DejaVuSans-49\"/>\n      </g>\n     </g>\n    </g>\n    <g id=\"ytick_4\">\n     <g id=\"line2d_25\">\n      <path clip-path=\"url(#pfe9ceb3d19)\" d=\"M 28.942188 79.68 \nL 363.742188 79.68 \n\" style=\"fill:none;stroke:#b0b0b0;stroke-linecap:square;stroke-width:0.8;\"/>\n     </g>\n     <g id=\"line2d_26\">\n      <g>\n       <use style=\"stroke:#000000;stroke-width:0.8;\" x=\"28.942188\" xlink:href=\"#mfe34f8f129\" y=\"79.68\"/>\n      </g>\n     </g>\n     <g id=\"text_13\">\n      <!-- 2 -->\n      <g transform=\"translate(15.579688 83.479219)scale(0.1 -0.1)\">\n       <use xlink:href=\"#DejaVuSans-50\"/>\n      </g>\n     </g>\n    </g>\n    <g id=\"ytick_5\">\n     <g id=\"line2d_27\">\n      <path clip-path=\"url(#pfe9ceb3d19)\" d=\"M 28.942188 43.44 \nL 363.742188 43.44 \n\" style=\"fill:none;stroke:#b0b0b0;stroke-linecap:square;stroke-width:0.8;\"/>\n     </g>\n     <g id=\"line2d_28\">\n      <g>\n       <use style=\"stroke:#000000;stroke-width:0.8;\" x=\"28.942188\" xlink:href=\"#mfe34f8f129\" y=\"43.44\"/>\n      </g>\n     </g>\n     <g id=\"text_14\">\n      <!-- 3 -->\n      <g transform=\"translate(15.579688 47.239219)scale(0.1 -0.1)\">\n       <use xlink:href=\"#DejaVuSans-51\"/>\n      </g>\n     </g>\n    </g>\n   </g>\n   <g id=\"PathCollection_1\">\n    <defs>\n     <path d=\"M -3 3 \nL 3 -3 \nM -3 -3 \nL 3 3 \n\" id=\"m206f7ab226\" style=\"stroke:#000000;stroke-width:1.5;\"/>\n    </defs>\n    <g clip-path=\"url(#pfe9ceb3d19)\">\n     <use style=\"stroke:#000000;stroke-width:1.5;\" x=\"140.542188\" xlink:href=\"#m206f7ab226\" y=\"152.16\"/>\n    </g>\n   </g>\n   <g id=\"patch_3\">\n    <path clip-path=\"url(#pfe9ceb3d19)\" d=\"M 326.542187 43.44 \nL 315.058642 56.491728 \nL 312.197326 51.845935 \nL 140.551757 152.175538 \nL 140.532618 152.144462 \nL 312.178186 51.814859 \nL 309.31687 47.169065 \nz\n\" style=\"fill:#1f77b4;stroke:#1f77b4;stroke-linejoin:miter;\"/>\n   </g>\n   <g id=\"patch_4\">\n    <path clip-path=\"url(#pfe9ceb3d19)\" d=\"M 66.142188 115.92 \nL 83.610351 118.351053 \nL 81.123217 123.196952 \nL 140.550506 152.143793 \nL 140.533869 152.176207 \nL 81.106581 123.229366 \nL 78.619447 128.075266 \nz\n\" style=\"fill:#d62728;stroke:#d62728;stroke-linejoin:miter;\"/>\n   </g>\n   <g id=\"patch_5\">\n    <path clip-path=\"url(#pfe9ceb3d19)\" d=\"M 196.342188 79.68 \nL 190.762188 95.988 \nL 186.313067 92.737272 \nL 140.557068 152.170872 \nL 140.527308 152.149128 \nL 186.283308 92.715528 \nL 181.834187 89.4648 \nz\n\" style=\"fill:#2ca02c;stroke:#2ca02c;stroke-linejoin:miter;\"/>\n   </g>\n   <g id=\"line2d_29\">\n    <path clip-path=\"url(#pfe9ceb3d19)\" d=\"M 28.942188 152.16 \nL 363.742188 152.16 \n\" style=\"fill:none;stroke:#000000;stroke-linecap:square;stroke-width:2;\"/>\n   </g>\n   <g id=\"line2d_30\">\n    <path clip-path=\"url(#pfe9ceb3d19)\" d=\"M 140.542188 188.4 \nL 140.542188 7.2 \n\" style=\"fill:none;stroke:#000000;stroke-linecap:square;stroke-width:2;\"/>\n   </g>\n   <g id=\"line2d_31\">\n    <path clip-path=\"url(#pfe9ceb3d19)\" d=\"M 326.542187 43.44 \nL 66.142188 115.92 \n\" style=\"fill:none;stroke:#000000;stroke-linecap:square;stroke-width:1.5;\"/>\n   </g>\n   <g id=\"patch_6\">\n    <path d=\"M 28.942188 188.4 \nL 28.942188 7.2 \n\" style=\"fill:none;stroke:#000000;stroke-linecap:square;stroke-linejoin:miter;stroke-width:0.8;\"/>\n   </g>\n   <g id=\"patch_7\">\n    <path d=\"M 363.742188 188.4 \nL 363.742188 7.2 \n\" style=\"fill:none;stroke:#000000;stroke-linecap:square;stroke-linejoin:miter;stroke-width:0.8;\"/>\n   </g>\n   <g id=\"patch_8\">\n    <path d=\"M 28.942188 188.4 \nL 363.742188 188.4 \n\" style=\"fill:none;stroke:#000000;stroke-linecap:square;stroke-linejoin:miter;stroke-width:0.8;\"/>\n   </g>\n   <g id=\"patch_9\">\n    <path d=\"M 28.942188 7.2 \nL 363.742188 7.2 \n\" style=\"fill:none;stroke:#000000;stroke-linecap:square;stroke-linejoin:miter;stroke-width:0.8;\"/>\n   </g>\n  </g>\n </g>\n <defs>\n  <clipPath id=\"pfe9ceb3d19\">\n   <rect height=\"181.2\" width=\"334.8\" x=\"28.942188\" y=\"7.2\"/>\n  </clipPath>\n </defs>\n</svg>\n",
      "image/png": "[encoded data removed]"
     },
     "metadata": {
      "needs_background": "light"
     }
    }
   ],
   "source": [
    "from draw2d import *\n",
    "from vectors import *\n",
    "\n",
    "u = (5, 3)\n",
    "v = (-2, 1)\n",
    "\n",
    "midpoint = scale(0.5, add(u,v))\n",
    "\n",
    "draw2d(\n",
    "    Arrow2D(u, color=blue),\n",
    "    Arrow2D(v, color=red),\n",
    "    Arrow2D(midpoint, color=green),\n",
    "    Segment2D(u, v, color=black)\n",
    ")"
   ]
  },
  {
   "source": [
    "**Exercise 4.14:** Consider again the non-linear transformation S(v) sending v = (x, y) to (x2, y2). Plot all 36 vectors v with integer coordinates 0 to 5 as points using the drawing code from chapter 2 and then plot S(v) for each of them. What happens geometrically to vectors under the action of S?\n"
   ],
   "cell_type": "markdown",
   "metadata": {}
  },
  {
   "cell_type": "code",
   "execution_count": 24,
   "metadata": {},
   "outputs": [
    {
     "output_type": "display_data",
     "data": {
      "text/plain": "<Figure size 432x432 with 1 Axes>",
      "image/svg+xml": "<?xml version=\"1.0\" encoding=\"utf-8\" standalone=\"no\"?>\n<!DOCTYPE svg PUBLIC \"-//W3C//DTD SVG 1.1//EN\"\n  \"http://www.w3.org/Graphics/SVG/1.1/DTD/svg11.dtd\">\n<!-- Created with matplotlib (https://matplotlib.org/) -->\n<svg height=\"357.238125pt\" version=\"1.1\" viewBox=\"0 0 370.942187 357.238125\" width=\"370.942187pt\" xmlns=\"http://www.w3.org/2000/svg\" xmlns:xlink=\"http://www.w3.org/1999/xlink\">\n <defs>\n  <style type=\"text/css\">\n*{stroke-linecap:butt;stroke-linejoin:round;}\n  </style>\n </defs>\n <g id=\"figure_1\">\n  <g id=\"patch_1\">\n   <path d=\"M 0 357.238125 \nL 370.942187 357.238125 \nL 370.942187 0 \nL 0 0 \nz\n\" style=\"fill:none;\"/>\n  </g>\n  <g id=\"axes_1\">\n   <g id=\"patch_2\">\n    <path d=\"M 28.942188 333.36 \nL 363.742188 333.36 \nL 363.742188 7.2 \nL 28.942188 7.2 \nz\n\" style=\"fill:#ffffff;\"/>\n   </g>\n   <g id=\"matplotlib.axis_1\">\n    <g id=\"xtick_1\">\n     <g id=\"line2d_1\">\n      <path clip-path=\"url(#p87039fb1a0)\" d=\"M 28.942188 333.36 \nL 28.942188 7.2 \n\" style=\"fill:none;stroke:#b0b0b0;stroke-linecap:square;stroke-width:0.8;\"/>\n     </g>\n     <g id=\"line2d_2\">\n      <defs>\n       <path d=\"M 0 0 \nL 0 3.5 \n\" id=\"m2faa342922\" style=\"stroke:#000000;stroke-width:0.8;\"/>\n      </defs>\n      <g>\n       <use style=\"stroke:#000000;stroke-width:0.8;\" x=\"28.942188\" xlink:href=\"#m2faa342922\" y=\"333.36\"/>\n      </g>\n     </g>\n     <g id=\"text_1\">\n      <!-- −2 -->\n      <defs>\n       <path d=\"M 10.59375 35.5 \nL 73.1875 35.5 \nL 73.1875 27.203125 \nL 10.59375 27.203125 \nz\n\" id=\"DejaVuSans-8722\"/>\n       <path d=\"M 19.1875 8.296875 \nL 53.609375 8.296875 \nL 53.609375 0 \nL 7.328125 0 \nL 7.328125 8.296875 \nQ 12.9375 14.109375 22.625 23.890625 \nQ 32.328125 33.6875 34.8125 36.53125 \nQ 39.546875 41.84375 41.421875 45.53125 \nQ 43.3125 49.21875 43.3125 52.78125 \nQ 43.3125 58.59375 39.234375 62.25 \nQ 35.15625 65.921875 28.609375 65.921875 \nQ 23.96875 65.921875 18.8125 64.3125 \nQ 13.671875 62.703125 7.8125 59.421875 \nL 7.8125 69.390625 \nQ 13.765625 71.78125 18.9375 73 \nQ 24.125 74.21875 28.421875 74.21875 \nQ 39.75 74.21875 46.484375 68.546875 \nQ 53.21875 62.890625 53.21875 53.421875 \nQ 53.21875 48.921875 51.53125 44.890625 \nQ 49.859375 40.875 45.40625 35.40625 \nQ 44.1875 33.984375 37.640625 27.21875 \nQ 31.109375 20.453125 19.1875 8.296875 \nz\n\" id=\"DejaVuSans-50\"/>\n      </defs>\n      <g transform=\"translate(21.571094 347.958438)scale(0.1 -0.1)\">\n       <use xlink:href=\"#DejaVuSans-8722\"/>\n       <use x=\"83.789062\" xlink:href=\"#DejaVuSans-50\"/>\n      </g>\n     </g>\n    </g>\n    <g id=\"xtick_2\">\n     <g id=\"line2d_3\">\n      <path clip-path=\"url(#p87039fb1a0)\" d=\"M 40.487015 333.36 \nL 40.487015 7.2 \n\" style=\"fill:none;stroke:#b0b0b0;stroke-linecap:square;stroke-width:0.8;\"/>\n     </g>\n     <g id=\"line2d_4\">\n      <g>\n       <use style=\"stroke:#000000;stroke-width:0.8;\" x=\"40.487015\" xlink:href=\"#m2faa342922\" y=\"333.36\"/>\n      </g>\n     </g>\n     <g id=\"text_2\">\n      <!-- −1 -->\n      <defs>\n       <path d=\"M 12.40625 8.296875 \nL 28.515625 8.296875 \nL 28.515625 63.921875 \nL 10.984375 60.40625 \nL 10.984375 69.390625 \nL 28.421875 72.90625 \nL 38.28125 72.90625 \nL 38.28125 8.296875 \nL 54.390625 8.296875 \nL 54.390625 0 \nL 12.40625 0 \nz\n\" id=\"DejaVuSans-49\"/>\n      </defs>\n      <g transform=\"translate(33.115921 347.958438)scale(0.1 -0.1)\">\n       <use xlink:href=\"#DejaVuSans-8722\"/>\n       <use x=\"83.789062\" xlink:href=\"#DejaVuSans-49\"/>\n      </g>\n     </g>\n    </g>\n    <g id=\"xtick_3\">\n     <g id=\"line2d_5\">\n      <path clip-path=\"url(#p87039fb1a0)\" d=\"M 52.031843 333.36 \nL 52.031843 7.2 \n\" style=\"fill:none;stroke:#b0b0b0;stroke-linecap:square;stroke-width:0.8;\"/>\n     </g>\n     <g id=\"line2d_6\">\n      <g>\n       <use style=\"stroke:#000000;stroke-width:0.8;\" x=\"52.031843\" xlink:href=\"#m2faa342922\" y=\"333.36\"/>\n      </g>\n     </g>\n     <g id=\"text_3\">\n      <!-- 0 -->\n      <defs>\n       <path d=\"M 31.78125 66.40625 \nQ 24.171875 66.40625 20.328125 58.90625 \nQ 16.5 51.421875 16.5 36.375 \nQ 16.5 21.390625 20.328125 13.890625 \nQ 24.171875 6.390625 31.78125 6.390625 \nQ 39.453125 6.390625 43.28125 13.890625 \nQ 47.125 21.390625 47.125 36.375 \nQ 47.125 51.421875 43.28125 58.90625 \nQ 39.453125 66.40625 31.78125 66.40625 \nz\nM 31.78125 74.21875 \nQ 44.046875 74.21875 50.515625 64.515625 \nQ 56.984375 54.828125 56.984375 36.375 \nQ 56.984375 17.96875 50.515625 8.265625 \nQ 44.046875 -1.421875 31.78125 -1.421875 \nQ 19.53125 -1.421875 13.0625 8.265625 \nQ 6.59375 17.96875 6.59375 36.375 \nQ 6.59375 54.828125 13.0625 64.515625 \nQ 19.53125 74.21875 31.78125 74.21875 \nz\n\" id=\"DejaVuSans-48\"/>\n      </defs>\n      <g transform=\"translate(48.850593 347.958438)scale(0.1 -0.1)\">\n       <use xlink:href=\"#DejaVuSans-48\"/>\n      </g>\n     </g>\n    </g>\n    <g id=\"xtick_4\">\n     <g id=\"line2d_7\">\n      <path clip-path=\"url(#p87039fb1a0)\" d=\"M 63.57667 333.36 \nL 63.57667 7.2 \n\" style=\"fill:none;stroke:#b0b0b0;stroke-linecap:square;stroke-width:0.8;\"/>\n     </g>\n     <g id=\"line2d_8\">\n      <g>\n       <use style=\"stroke:#000000;stroke-width:0.8;\" x=\"63.57667\" xlink:href=\"#m2faa342922\" y=\"333.36\"/>\n      </g>\n     </g>\n     <g id=\"text_4\">\n      <!-- 1 -->\n      <g transform=\"translate(60.39542 347.958438)scale(0.1 -0.1)\">\n       <use xlink:href=\"#DejaVuSans-49\"/>\n      </g>\n     </g>\n    </g>\n    <g id=\"xtick_5\">\n     <g id=\"line2d_9\">\n      <path clip-path=\"url(#p87039fb1a0)\" d=\"M 75.121498 333.36 \nL 75.121498 7.2 \n\" style=\"fill:none;stroke:#b0b0b0;stroke-linecap:square;stroke-width:0.8;\"/>\n     </g>\n     <g id=\"line2d_10\">\n      <g>\n       <use style=\"stroke:#000000;stroke-width:0.8;\" x=\"75.121498\" xlink:href=\"#m2faa342922\" y=\"333.36\"/>\n      </g>\n     </g>\n     <g id=\"text_5\">\n      <!-- 2 -->\n      <g transform=\"translate(71.940248 347.958438)scale(0.1 -0.1)\">\n       <use xlink:href=\"#DejaVuSans-50\"/>\n      </g>\n     </g>\n    </g>\n    <g id=\"xtick_6\">\n     <g id=\"line2d_11\">\n      <path clip-path=\"url(#p87039fb1a0)\" d=\"M 86.666325 333.36 \nL 86.666325 7.2 \n\" style=\"fill:none;stroke:#b0b0b0;stroke-linecap:square;stroke-width:0.8;\"/>\n     </g>\n     <g id=\"line2d_12\">\n      <g>\n       <use style=\"stroke:#000000;stroke-width:0.8;\" x=\"86.666325\" xlink:href=\"#m2faa342922\" y=\"333.36\"/>\n      </g>\n     </g>\n     <g id=\"text_6\">\n      <!-- 3 -->\n      <defs>\n       <path d=\"M 40.578125 39.3125 \nQ 47.65625 37.796875 51.625 33 \nQ 55.609375 28.21875 55.609375 21.1875 \nQ 55.609375 10.40625 48.1875 4.484375 \nQ 40.765625 -1.421875 27.09375 -1.421875 \nQ 22.515625 -1.421875 17.65625 -0.515625 \nQ 12.796875 0.390625 7.625 2.203125 \nL 7.625 11.71875 \nQ 11.71875 9.328125 16.59375 8.109375 \nQ 21.484375 6.890625 26.8125 6.890625 \nQ 36.078125 6.890625 40.9375 10.546875 \nQ 45.796875 14.203125 45.796875 21.1875 \nQ 45.796875 27.640625 41.28125 31.265625 \nQ 36.765625 34.90625 28.71875 34.90625 \nL 20.21875 34.90625 \nL 20.21875 43.015625 \nL 29.109375 43.015625 \nQ 36.375 43.015625 40.234375 45.921875 \nQ 44.09375 48.828125 44.09375 54.296875 \nQ 44.09375 59.90625 40.109375 62.90625 \nQ 36.140625 65.921875 28.71875 65.921875 \nQ 24.65625 65.921875 20.015625 65.03125 \nQ 15.375 64.15625 9.8125 62.3125 \nL 9.8125 71.09375 \nQ 15.4375 72.65625 20.34375 73.4375 \nQ 25.25 74.21875 29.59375 74.21875 \nQ 40.828125 74.21875 47.359375 69.109375 \nQ 53.90625 64.015625 53.90625 55.328125 \nQ 53.90625 49.265625 50.4375 45.09375 \nQ 46.96875 40.921875 40.578125 39.3125 \nz\n\" id=\"DejaVuSans-51\"/>\n      </defs>\n      <g transform=\"translate(83.485075 347.958438)scale(0.1 -0.1)\">\n       <use xlink:href=\"#DejaVuSans-51\"/>\n      </g>\n     </g>\n    </g>\n    <g id=\"xtick_7\">\n     <g id=\"line2d_13\">\n      <path clip-path=\"url(#p87039fb1a0)\" d=\"M 98.211153 333.36 \nL 98.211153 7.2 \n\" style=\"fill:none;stroke:#b0b0b0;stroke-linecap:square;stroke-width:0.8;\"/>\n     </g>\n     <g id=\"line2d_14\">\n      <g>\n       <use style=\"stroke:#000000;stroke-width:0.8;\" x=\"98.211153\" xlink:href=\"#m2faa342922\" y=\"333.36\"/>\n      </g>\n     </g>\n     <g id=\"text_7\">\n      <!-- 4 -->\n      <defs>\n       <path d=\"M 37.796875 64.3125 \nL 12.890625 25.390625 \nL 37.796875 25.390625 \nz\nM 35.203125 72.90625 \nL 47.609375 72.90625 \nL 47.609375 25.390625 \nL 58.015625 25.390625 \nL 58.015625 17.1875 \nL 47.609375 17.1875 \nL 47.609375 0 \nL 37.796875 0 \nL 37.796875 17.1875 \nL 4.890625 17.1875 \nL 4.890625 26.703125 \nz\n\" id=\"DejaVuSans-52\"/>\n      </defs>\n      <g transform=\"translate(95.029903 347.958438)scale(0.1 -0.1)\">\n       <use xlink:href=\"#DejaVuSans-52\"/>\n      </g>\n     </g>\n    </g>\n    <g id=\"xtick_8\">\n     <g id=\"line2d_15\">\n      <path clip-path=\"url(#p87039fb1a0)\" d=\"M 109.755981 333.36 \nL 109.755981 7.2 \n\" style=\"fill:none;stroke:#b0b0b0;stroke-linecap:square;stroke-width:0.8;\"/>\n     </g>\n     <g id=\"line2d_16\">\n      <g>\n       <use style=\"stroke:#000000;stroke-width:0.8;\" x=\"109.755981\" xlink:href=\"#m2faa342922\" y=\"333.36\"/>\n      </g>\n     </g>\n     <g id=\"text_8\">\n      <!-- 5 -->\n      <defs>\n       <path d=\"M 10.796875 72.90625 \nL 49.515625 72.90625 \nL 49.515625 64.59375 \nL 19.828125 64.59375 \nL 19.828125 46.734375 \nQ 21.96875 47.46875 24.109375 47.828125 \nQ 26.265625 48.1875 28.421875 48.1875 \nQ 40.625 48.1875 47.75 41.5 \nQ 54.890625 34.8125 54.890625 23.390625 \nQ 54.890625 11.625 47.5625 5.09375 \nQ 40.234375 -1.421875 26.90625 -1.421875 \nQ 22.3125 -1.421875 17.546875 -0.640625 \nQ 12.796875 0.140625 7.71875 1.703125 \nL 7.71875 11.625 \nQ 12.109375 9.234375 16.796875 8.0625 \nQ 21.484375 6.890625 26.703125 6.890625 \nQ 35.15625 6.890625 40.078125 11.328125 \nQ 45.015625 15.765625 45.015625 23.390625 \nQ 45.015625 31 40.078125 35.4375 \nQ 35.15625 39.890625 26.703125 39.890625 \nQ 22.75 39.890625 18.8125 39.015625 \nQ 14.890625 38.140625 10.796875 36.28125 \nz\n\" id=\"DejaVuSans-53\"/>\n      </defs>\n      <g transform=\"translate(106.574731 347.958438)scale(0.1 -0.1)\">\n       <use xlink:href=\"#DejaVuSans-53\"/>\n      </g>\n     </g>\n    </g>\n    <g id=\"xtick_9\">\n     <g id=\"line2d_17\">\n      <path clip-path=\"url(#p87039fb1a0)\" d=\"M 121.300808 333.36 \nL 121.300808 7.2 \n\" style=\"fill:none;stroke:#b0b0b0;stroke-linecap:square;stroke-width:0.8;\"/>\n     </g>\n     <g id=\"line2d_18\">\n      <g>\n       <use style=\"stroke:#000000;stroke-width:0.8;\" x=\"121.300808\" xlink:href=\"#m2faa342922\" y=\"333.36\"/>\n      </g>\n     </g>\n     <g id=\"text_9\">\n      <!-- 6 -->\n      <defs>\n       <path d=\"M 33.015625 40.375 \nQ 26.375 40.375 22.484375 35.828125 \nQ 18.609375 31.296875 18.609375 23.390625 \nQ 18.609375 15.53125 22.484375 10.953125 \nQ 26.375 6.390625 33.015625 6.390625 \nQ 39.65625 6.390625 43.53125 10.953125 \nQ 47.40625 15.53125 47.40625 23.390625 \nQ 47.40625 31.296875 43.53125 35.828125 \nQ 39.65625 40.375 33.015625 40.375 \nz\nM 52.59375 71.296875 \nL 52.59375 62.3125 \nQ 48.875 64.0625 45.09375 64.984375 \nQ 41.3125 65.921875 37.59375 65.921875 \nQ 27.828125 65.921875 22.671875 59.328125 \nQ 17.53125 52.734375 16.796875 39.40625 \nQ 19.671875 43.65625 24.015625 45.921875 \nQ 28.375 48.1875 33.59375 48.1875 \nQ 44.578125 48.1875 50.953125 41.515625 \nQ 57.328125 34.859375 57.328125 23.390625 \nQ 57.328125 12.15625 50.6875 5.359375 \nQ 44.046875 -1.421875 33.015625 -1.421875 \nQ 20.359375 -1.421875 13.671875 8.265625 \nQ 6.984375 17.96875 6.984375 36.375 \nQ 6.984375 53.65625 15.1875 63.9375 \nQ 23.390625 74.21875 37.203125 74.21875 \nQ 40.921875 74.21875 44.703125 73.484375 \nQ 48.484375 72.75 52.59375 71.296875 \nz\n\" id=\"DejaVuSans-54\"/>\n      </defs>\n      <g transform=\"translate(118.119558 347.958438)scale(0.1 -0.1)\">\n       <use xlink:href=\"#DejaVuSans-54\"/>\n      </g>\n     </g>\n    </g>\n    <g id=\"xtick_10\">\n     <g id=\"line2d_19\">\n      <path clip-path=\"url(#p87039fb1a0)\" d=\"M 132.845636 333.36 \nL 132.845636 7.2 \n\" style=\"fill:none;stroke:#b0b0b0;stroke-linecap:square;stroke-width:0.8;\"/>\n     </g>\n     <g id=\"line2d_20\">\n      <g>\n       <use style=\"stroke:#000000;stroke-width:0.8;\" x=\"132.845636\" xlink:href=\"#m2faa342922\" y=\"333.36\"/>\n      </g>\n     </g>\n     <g id=\"text_10\">\n      <!-- 7 -->\n      <defs>\n       <path d=\"M 8.203125 72.90625 \nL 55.078125 72.90625 \nL 55.078125 68.703125 \nL 28.609375 0 \nL 18.3125 0 \nL 43.21875 64.59375 \nL 8.203125 64.59375 \nz\n\" id=\"DejaVuSans-55\"/>\n      </defs>\n      <g transform=\"translate(129.664386 347.958438)scale(0.1 -0.1)\">\n       <use xlink:href=\"#DejaVuSans-55\"/>\n      </g>\n     </g>\n    </g>\n    <g id=\"xtick_11\">\n     <g id=\"line2d_21\">\n      <path clip-path=\"url(#p87039fb1a0)\" d=\"M 144.390463 333.36 \nL 144.390463 7.2 \n\" style=\"fill:none;stroke:#b0b0b0;stroke-linecap:square;stroke-width:0.8;\"/>\n     </g>\n     <g id=\"line2d_22\">\n      <g>\n       <use style=\"stroke:#000000;stroke-width:0.8;\" x=\"144.390463\" xlink:href=\"#m2faa342922\" y=\"333.36\"/>\n      </g>\n     </g>\n     <g id=\"text_11\">\n      <!-- 8 -->\n      <defs>\n       <path d=\"M 31.78125 34.625 \nQ 24.75 34.625 20.71875 30.859375 \nQ 16.703125 27.09375 16.703125 20.515625 \nQ 16.703125 13.921875 20.71875 10.15625 \nQ 24.75 6.390625 31.78125 6.390625 \nQ 38.8125 6.390625 42.859375 10.171875 \nQ 46.921875 13.96875 46.921875 20.515625 \nQ 46.921875 27.09375 42.890625 30.859375 \nQ 38.875 34.625 31.78125 34.625 \nz\nM 21.921875 38.8125 \nQ 15.578125 40.375 12.03125 44.71875 \nQ 8.5 49.078125 8.5 55.328125 \nQ 8.5 64.0625 14.71875 69.140625 \nQ 20.953125 74.21875 31.78125 74.21875 \nQ 42.671875 74.21875 48.875 69.140625 \nQ 55.078125 64.0625 55.078125 55.328125 \nQ 55.078125 49.078125 51.53125 44.71875 \nQ 48 40.375 41.703125 38.8125 \nQ 48.828125 37.15625 52.796875 32.3125 \nQ 56.78125 27.484375 56.78125 20.515625 \nQ 56.78125 9.90625 50.3125 4.234375 \nQ 43.84375 -1.421875 31.78125 -1.421875 \nQ 19.734375 -1.421875 13.25 4.234375 \nQ 6.78125 9.90625 6.78125 20.515625 \nQ 6.78125 27.484375 10.78125 32.3125 \nQ 14.796875 37.15625 21.921875 38.8125 \nz\nM 18.3125 54.390625 \nQ 18.3125 48.734375 21.84375 45.5625 \nQ 25.390625 42.390625 31.78125 42.390625 \nQ 38.140625 42.390625 41.71875 45.5625 \nQ 45.3125 48.734375 45.3125 54.390625 \nQ 45.3125 60.0625 41.71875 63.234375 \nQ 38.140625 66.40625 31.78125 66.40625 \nQ 25.390625 66.40625 21.84375 63.234375 \nQ 18.3125 60.0625 18.3125 54.390625 \nz\n\" id=\"DejaVuSans-56\"/>\n      </defs>\n      <g transform=\"translate(141.209213 347.958438)scale(0.1 -0.1)\">\n       <use xlink:href=\"#DejaVuSans-56\"/>\n      </g>\n     </g>\n    </g>\n    <g id=\"xtick_12\">\n     <g id=\"line2d_23\">\n      <path clip-path=\"url(#p87039fb1a0)\" d=\"M 155.935291 333.36 \nL 155.935291 7.2 \n\" style=\"fill:none;stroke:#b0b0b0;stroke-linecap:square;stroke-width:0.8;\"/>\n     </g>\n     <g id=\"line2d_24\">\n      <g>\n       <use style=\"stroke:#000000;stroke-width:0.8;\" x=\"155.935291\" xlink:href=\"#m2faa342922\" y=\"333.36\"/>\n      </g>\n     </g>\n     <g id=\"text_12\">\n      <!-- 9 -->\n      <defs>\n       <path d=\"M 10.984375 1.515625 \nL 10.984375 10.5 \nQ 14.703125 8.734375 18.5 7.8125 \nQ 22.3125 6.890625 25.984375 6.890625 \nQ 35.75 6.890625 40.890625 13.453125 \nQ 46.046875 20.015625 46.78125 33.40625 \nQ 43.953125 29.203125 39.59375 26.953125 \nQ 35.25 24.703125 29.984375 24.703125 \nQ 19.046875 24.703125 12.671875 31.3125 \nQ 6.296875 37.9375 6.296875 49.421875 \nQ 6.296875 60.640625 12.9375 67.421875 \nQ 19.578125 74.21875 30.609375 74.21875 \nQ 43.265625 74.21875 49.921875 64.515625 \nQ 56.59375 54.828125 56.59375 36.375 \nQ 56.59375 19.140625 48.40625 8.859375 \nQ 40.234375 -1.421875 26.421875 -1.421875 \nQ 22.703125 -1.421875 18.890625 -0.6875 \nQ 15.09375 0.046875 10.984375 1.515625 \nz\nM 30.609375 32.421875 \nQ 37.25 32.421875 41.125 36.953125 \nQ 45.015625 41.5 45.015625 49.421875 \nQ 45.015625 57.28125 41.125 61.84375 \nQ 37.25 66.40625 30.609375 66.40625 \nQ 23.96875 66.40625 20.09375 61.84375 \nQ 16.21875 57.28125 16.21875 49.421875 \nQ 16.21875 41.5 20.09375 36.953125 \nQ 23.96875 32.421875 30.609375 32.421875 \nz\n\" id=\"DejaVuSans-57\"/>\n      </defs>\n      <g transform=\"translate(152.754041 347.958438)scale(0.1 -0.1)\">\n       <use xlink:href=\"#DejaVuSans-57\"/>\n      </g>\n     </g>\n    </g>\n    <g id=\"xtick_13\">\n     <g id=\"line2d_25\">\n      <path clip-path=\"url(#p87039fb1a0)\" d=\"M 167.480119 333.36 \nL 167.480119 7.2 \n\" style=\"fill:none;stroke:#b0b0b0;stroke-linecap:square;stroke-width:0.8;\"/>\n     </g>\n     <g id=\"line2d_26\">\n      <g>\n       <use style=\"stroke:#000000;stroke-width:0.8;\" x=\"167.480119\" xlink:href=\"#m2faa342922\" y=\"333.36\"/>\n      </g>\n     </g>\n     <g id=\"text_13\">\n      <!-- 10 -->\n      <g transform=\"translate(161.117619 347.958438)scale(0.1 -0.1)\">\n       <use xlink:href=\"#DejaVuSans-49\"/>\n       <use x=\"63.623047\" xlink:href=\"#DejaVuSans-48\"/>\n      </g>\n     </g>\n    </g>\n    <g id=\"xtick_14\">\n     <g id=\"line2d_27\">\n      <path clip-path=\"url(#p87039fb1a0)\" d=\"M 179.024946 333.36 \nL 179.024946 7.2 \n\" style=\"fill:none;stroke:#b0b0b0;stroke-linecap:square;stroke-width:0.8;\"/>\n     </g>\n     <g id=\"line2d_28\">\n      <g>\n       <use style=\"stroke:#000000;stroke-width:0.8;\" x=\"179.024946\" xlink:href=\"#m2faa342922\" y=\"333.36\"/>\n      </g>\n     </g>\n     <g id=\"text_14\">\n      <!-- 11 -->\n      <g transform=\"translate(172.662446 347.958438)scale(0.1 -0.1)\">\n       <use xlink:href=\"#DejaVuSans-49\"/>\n       <use x=\"63.623047\" xlink:href=\"#DejaVuSans-49\"/>\n      </g>\n     </g>\n    </g>\n    <g id=\"xtick_15\">\n     <g id=\"line2d_29\">\n      <path clip-path=\"url(#p87039fb1a0)\" d=\"M 190.569774 333.36 \nL 190.569774 7.2 \n\" style=\"fill:none;stroke:#b0b0b0;stroke-linecap:square;stroke-width:0.8;\"/>\n     </g>\n     <g id=\"line2d_30\">\n      <g>\n       <use style=\"stroke:#000000;stroke-width:0.8;\" x=\"190.569774\" xlink:href=\"#m2faa342922\" y=\"333.36\"/>\n      </g>\n     </g>\n     <g id=\"text_15\">\n      <!-- 12 -->\n      <g transform=\"translate(184.207274 347.958438)scale(0.1 -0.1)\">\n       <use xlink:href=\"#DejaVuSans-49\"/>\n       <use x=\"63.623047\" xlink:href=\"#DejaVuSans-50\"/>\n      </g>\n     </g>\n    </g>\n    <g id=\"xtick_16\">\n     <g id=\"line2d_31\">\n      <path clip-path=\"url(#p87039fb1a0)\" d=\"M 202.114601 333.36 \nL 202.114601 7.2 \n\" style=\"fill:none;stroke:#b0b0b0;stroke-linecap:square;stroke-width:0.8;\"/>\n     </g>\n     <g id=\"line2d_32\">\n      <g>\n       <use style=\"stroke:#000000;stroke-width:0.8;\" x=\"202.114601\" xlink:href=\"#m2faa342922\" y=\"333.36\"/>\n      </g>\n     </g>\n     <g id=\"text_16\">\n      <!-- 13 -->\n      <g transform=\"translate(195.752101 347.958438)scale(0.1 -0.1)\">\n       <use xlink:href=\"#DejaVuSans-49\"/>\n       <use x=\"63.623047\" xlink:href=\"#DejaVuSans-51\"/>\n      </g>\n     </g>\n    </g>\n    <g id=\"xtick_17\">\n     <g id=\"line2d_33\">\n      <path clip-path=\"url(#p87039fb1a0)\" d=\"M 213.659429 333.36 \nL 213.659429 7.2 \n\" style=\"fill:none;stroke:#b0b0b0;stroke-linecap:square;stroke-width:0.8;\"/>\n     </g>\n     <g id=\"line2d_34\">\n      <g>\n       <use style=\"stroke:#000000;stroke-width:0.8;\" x=\"213.659429\" xlink:href=\"#m2faa342922\" y=\"333.36\"/>\n      </g>\n     </g>\n     <g id=\"text_17\">\n      <!-- 14 -->\n      <g transform=\"translate(207.296929 347.958438)scale(0.1 -0.1)\">\n       <use xlink:href=\"#DejaVuSans-49\"/>\n       <use x=\"63.623047\" xlink:href=\"#DejaVuSans-52\"/>\n      </g>\n     </g>\n    </g>\n    <g id=\"xtick_18\">\n     <g id=\"line2d_35\">\n      <path clip-path=\"url(#p87039fb1a0)\" d=\"M 225.204256 333.36 \nL 225.204256 7.2 \n\" style=\"fill:none;stroke:#b0b0b0;stroke-linecap:square;stroke-width:0.8;\"/>\n     </g>\n     <g id=\"line2d_36\">\n      <g>\n       <use style=\"stroke:#000000;stroke-width:0.8;\" x=\"225.204256\" xlink:href=\"#m2faa342922\" y=\"333.36\"/>\n      </g>\n     </g>\n     <g id=\"text_18\">\n      <!-- 15 -->\n      <g transform=\"translate(218.841756 347.958438)scale(0.1 -0.1)\">\n       <use xlink:href=\"#DejaVuSans-49\"/>\n       <use x=\"63.623047\" xlink:href=\"#DejaVuSans-53\"/>\n      </g>\n     </g>\n    </g>\n    <g id=\"xtick_19\">\n     <g id=\"line2d_37\">\n      <path clip-path=\"url(#p87039fb1a0)\" d=\"M 236.749084 333.36 \nL 236.749084 7.2 \n\" style=\"fill:none;stroke:#b0b0b0;stroke-linecap:square;stroke-width:0.8;\"/>\n     </g>\n     <g id=\"line2d_38\">\n      <g>\n       <use style=\"stroke:#000000;stroke-width:0.8;\" x=\"236.749084\" xlink:href=\"#m2faa342922\" y=\"333.36\"/>\n      </g>\n     </g>\n     <g id=\"text_19\">\n      <!-- 16 -->\n      <g transform=\"translate(230.386584 347.958438)scale(0.1 -0.1)\">\n       <use xlink:href=\"#DejaVuSans-49\"/>\n       <use x=\"63.623047\" xlink:href=\"#DejaVuSans-54\"/>\n      </g>\n     </g>\n    </g>\n    <g id=\"xtick_20\">\n     <g id=\"line2d_39\">\n      <path clip-path=\"url(#p87039fb1a0)\" d=\"M 248.293912 333.36 \nL 248.293912 7.2 \n\" style=\"fill:none;stroke:#b0b0b0;stroke-linecap:square;stroke-width:0.8;\"/>\n     </g>\n     <g id=\"line2d_40\">\n      <g>\n       <use style=\"stroke:#000000;stroke-width:0.8;\" x=\"248.293912\" xlink:href=\"#m2faa342922\" y=\"333.36\"/>\n      </g>\n     </g>\n     <g id=\"text_20\">\n      <!-- 17 -->\n      <g transform=\"translate(241.931412 347.958438)scale(0.1 -0.1)\">\n       <use xlink:href=\"#DejaVuSans-49\"/>\n       <use x=\"63.623047\" xlink:href=\"#DejaVuSans-55\"/>\n      </g>\n     </g>\n    </g>\n    <g id=\"xtick_21\">\n     <g id=\"line2d_41\">\n      <path clip-path=\"url(#p87039fb1a0)\" d=\"M 259.838739 333.36 \nL 259.838739 7.2 \n\" style=\"fill:none;stroke:#b0b0b0;stroke-linecap:square;stroke-width:0.8;\"/>\n     </g>\n     <g id=\"line2d_42\">\n      <g>\n       <use style=\"stroke:#000000;stroke-width:0.8;\" x=\"259.838739\" xlink:href=\"#m2faa342922\" y=\"333.36\"/>\n      </g>\n     </g>\n     <g id=\"text_21\">\n      <!-- 18 -->\n      <g transform=\"translate(253.476239 347.958438)scale(0.1 -0.1)\">\n       <use xlink:href=\"#DejaVuSans-49\"/>\n       <use x=\"63.623047\" xlink:href=\"#DejaVuSans-56\"/>\n      </g>\n     </g>\n    </g>\n    <g id=\"xtick_22\">\n     <g id=\"line2d_43\">\n      <path clip-path=\"url(#p87039fb1a0)\" d=\"M 271.383567 333.36 \nL 271.383567 7.2 \n\" style=\"fill:none;stroke:#b0b0b0;stroke-linecap:square;stroke-width:0.8;\"/>\n     </g>\n     <g id=\"line2d_44\">\n      <g>\n       <use style=\"stroke:#000000;stroke-width:0.8;\" x=\"271.383567\" xlink:href=\"#m2faa342922\" y=\"333.36\"/>\n      </g>\n     </g>\n     <g id=\"text_22\">\n      <!-- 19 -->\n      <g transform=\"translate(265.021067 347.958438)scale(0.1 -0.1)\">\n       <use xlink:href=\"#DejaVuSans-49\"/>\n       <use x=\"63.623047\" xlink:href=\"#DejaVuSans-57\"/>\n      </g>\n     </g>\n    </g>\n    <g id=\"xtick_23\">\n     <g id=\"line2d_45\">\n      <path clip-path=\"url(#p87039fb1a0)\" d=\"M 282.928394 333.36 \nL 282.928394 7.2 \n\" style=\"fill:none;stroke:#b0b0b0;stroke-linecap:square;stroke-width:0.8;\"/>\n     </g>\n     <g id=\"line2d_46\">\n      <g>\n       <use style=\"stroke:#000000;stroke-width:0.8;\" x=\"282.928394\" xlink:href=\"#m2faa342922\" y=\"333.36\"/>\n      </g>\n     </g>\n     <g id=\"text_23\">\n      <!-- 20 -->\n      <g transform=\"translate(276.565894 347.958438)scale(0.1 -0.1)\">\n       <use xlink:href=\"#DejaVuSans-50\"/>\n       <use x=\"63.623047\" xlink:href=\"#DejaVuSans-48\"/>\n      </g>\n     </g>\n    </g>\n    <g id=\"xtick_24\">\n     <g id=\"line2d_47\">\n      <path clip-path=\"url(#p87039fb1a0)\" d=\"M 294.473222 333.36 \nL 294.473222 7.2 \n\" style=\"fill:none;stroke:#b0b0b0;stroke-linecap:square;stroke-width:0.8;\"/>\n     </g>\n     <g id=\"line2d_48\">\n      <g>\n       <use style=\"stroke:#000000;stroke-width:0.8;\" x=\"294.473222\" xlink:href=\"#m2faa342922\" y=\"333.36\"/>\n      </g>\n     </g>\n     <g id=\"text_24\">\n      <!-- 21 -->\n      <g transform=\"translate(288.110722 347.958438)scale(0.1 -0.1)\">\n       <use xlink:href=\"#DejaVuSans-50\"/>\n       <use x=\"63.623047\" xlink:href=\"#DejaVuSans-49\"/>\n      </g>\n     </g>\n    </g>\n    <g id=\"xtick_25\">\n     <g id=\"line2d_49\">\n      <path clip-path=\"url(#p87039fb1a0)\" d=\"M 306.01805 333.36 \nL 306.01805 7.2 \n\" style=\"fill:none;stroke:#b0b0b0;stroke-linecap:square;stroke-width:0.8;\"/>\n     </g>\n     <g id=\"line2d_50\">\n      <g>\n       <use style=\"stroke:#000000;stroke-width:0.8;\" x=\"306.01805\" xlink:href=\"#m2faa342922\" y=\"333.36\"/>\n      </g>\n     </g>\n     <g id=\"text_25\">\n      <!-- 22 -->\n      <g transform=\"translate(299.65555 347.958438)scale(0.1 -0.1)\">\n       <use xlink:href=\"#DejaVuSans-50\"/>\n       <use x=\"63.623047\" xlink:href=\"#DejaVuSans-50\"/>\n      </g>\n     </g>\n    </g>\n    <g id=\"xtick_26\">\n     <g id=\"line2d_51\">\n      <path clip-path=\"url(#p87039fb1a0)\" d=\"M 317.562877 333.36 \nL 317.562877 7.2 \n\" style=\"fill:none;stroke:#b0b0b0;stroke-linecap:square;stroke-width:0.8;\"/>\n     </g>\n     <g id=\"line2d_52\">\n      <g>\n       <use style=\"stroke:#000000;stroke-width:0.8;\" x=\"317.562877\" xlink:href=\"#m2faa342922\" y=\"333.36\"/>\n      </g>\n     </g>\n     <g id=\"text_26\">\n      <!-- 23 -->\n      <g transform=\"translate(311.200377 347.958438)scale(0.1 -0.1)\">\n       <use xlink:href=\"#DejaVuSans-50\"/>\n       <use x=\"63.623047\" xlink:href=\"#DejaVuSans-51\"/>\n      </g>\n     </g>\n    </g>\n    <g id=\"xtick_27\">\n     <g id=\"line2d_53\">\n      <path clip-path=\"url(#p87039fb1a0)\" d=\"M 329.107705 333.36 \nL 329.107705 7.2 \n\" style=\"fill:none;stroke:#b0b0b0;stroke-linecap:square;stroke-width:0.8;\"/>\n     </g>\n     <g id=\"line2d_54\">\n      <g>\n       <use style=\"stroke:#000000;stroke-width:0.8;\" x=\"329.107705\" xlink:href=\"#m2faa342922\" y=\"333.36\"/>\n      </g>\n     </g>\n     <g id=\"text_27\">\n      <!-- 24 -->\n      <g transform=\"translate(322.745205 347.958438)scale(0.1 -0.1)\">\n       <use xlink:href=\"#DejaVuSans-50\"/>\n       <use x=\"63.623047\" xlink:href=\"#DejaVuSans-52\"/>\n      </g>\n     </g>\n    </g>\n    <g id=\"xtick_28\">\n     <g id=\"line2d_55\">\n      <path clip-path=\"url(#p87039fb1a0)\" d=\"M 340.652532 333.36 \nL 340.652532 7.2 \n\" style=\"fill:none;stroke:#b0b0b0;stroke-linecap:square;stroke-width:0.8;\"/>\n     </g>\n     <g id=\"line2d_56\">\n      <g>\n       <use style=\"stroke:#000000;stroke-width:0.8;\" x=\"340.652532\" xlink:href=\"#m2faa342922\" y=\"333.36\"/>\n      </g>\n     </g>\n     <g id=\"text_28\">\n      <!-- 25 -->\n      <g transform=\"translate(334.290032 347.958438)scale(0.1 -0.1)\">\n       <use xlink:href=\"#DejaVuSans-50\"/>\n       <use x=\"63.623047\" xlink:href=\"#DejaVuSans-53\"/>\n      </g>\n     </g>\n    </g>\n    <g id=\"xtick_29\">\n     <g id=\"line2d_57\">\n      <path clip-path=\"url(#p87039fb1a0)\" d=\"M 352.19736 333.36 \nL 352.19736 7.2 \n\" style=\"fill:none;stroke:#b0b0b0;stroke-linecap:square;stroke-width:0.8;\"/>\n     </g>\n     <g id=\"line2d_58\">\n      <g>\n       <use style=\"stroke:#000000;stroke-width:0.8;\" x=\"352.19736\" xlink:href=\"#m2faa342922\" y=\"333.36\"/>\n      </g>\n     </g>\n     <g id=\"text_29\">\n      <!-- 26 -->\n      <g transform=\"translate(345.83486 347.958438)scale(0.1 -0.1)\">\n       <use xlink:href=\"#DejaVuSans-50\"/>\n       <use x=\"63.623047\" xlink:href=\"#DejaVuSans-54\"/>\n      </g>\n     </g>\n    </g>\n   </g>\n   <g id=\"matplotlib.axis_2\">\n    <g id=\"ytick_1\">\n     <g id=\"line2d_59\">\n      <path clip-path=\"url(#p87039fb1a0)\" d=\"M 28.942188 333.36 \nL 363.742188 333.36 \n\" style=\"fill:none;stroke:#b0b0b0;stroke-linecap:square;stroke-width:0.8;\"/>\n     </g>\n     <g id=\"line2d_60\">\n      <defs>\n       <path d=\"M 0 0 \nL -3.5 0 \n\" id=\"m1ac7292740\" style=\"stroke:#000000;stroke-width:0.8;\"/>\n      </defs>\n      <g>\n       <use style=\"stroke:#000000;stroke-width:0.8;\" x=\"28.942188\" xlink:href=\"#m1ac7292740\" y=\"333.36\"/>\n      </g>\n     </g>\n     <g id=\"text_30\">\n      <!-- −2 -->\n      <g transform=\"translate(7.2 337.159219)scale(0.1 -0.1)\">\n       <use xlink:href=\"#DejaVuSans-8722\"/>\n       <use x=\"83.789062\" xlink:href=\"#DejaVuSans-50\"/>\n      </g>\n     </g>\n    </g>\n    <g id=\"ytick_2\">\n     <g id=\"line2d_61\">\n      <path clip-path=\"url(#p87039fb1a0)\" d=\"M 28.942188 322.113103 \nL 363.742188 322.113103 \n\" style=\"fill:none;stroke:#b0b0b0;stroke-linecap:square;stroke-width:0.8;\"/>\n     </g>\n     <g id=\"line2d_62\">\n      <g>\n       <use style=\"stroke:#000000;stroke-width:0.8;\" x=\"28.942188\" xlink:href=\"#m1ac7292740\" y=\"322.113103\"/>\n      </g>\n     </g>\n     <g id=\"text_31\">\n      <!-- −1 -->\n      <g transform=\"translate(7.2 325.912322)scale(0.1 -0.1)\">\n       <use xlink:href=\"#DejaVuSans-8722\"/>\n       <use x=\"83.789062\" xlink:href=\"#DejaVuSans-49\"/>\n      </g>\n     </g>\n    </g>\n    <g id=\"ytick_3\">\n     <g id=\"line2d_63\">\n      <path clip-path=\"url(#p87039fb1a0)\" d=\"M 28.942188 310.866207 \nL 363.742188 310.866207 \n\" style=\"fill:none;stroke:#b0b0b0;stroke-linecap:square;stroke-width:0.8;\"/>\n     </g>\n     <g id=\"line2d_64\">\n      <g>\n       <use style=\"stroke:#000000;stroke-width:0.8;\" x=\"28.942188\" xlink:href=\"#m1ac7292740\" y=\"310.866207\"/>\n      </g>\n     </g>\n     <g id=\"text_32\">\n      <!-- 0 -->\n      <g transform=\"translate(15.579688 314.665426)scale(0.1 -0.1)\">\n       <use xlink:href=\"#DejaVuSans-48\"/>\n      </g>\n     </g>\n    </g>\n    <g id=\"ytick_4\">\n     <g id=\"line2d_65\">\n      <path clip-path=\"url(#p87039fb1a0)\" d=\"M 28.942188 299.61931 \nL 363.742188 299.61931 \n\" style=\"fill:none;stroke:#b0b0b0;stroke-linecap:square;stroke-width:0.8;\"/>\n     </g>\n     <g id=\"line2d_66\">\n      <g>\n       <use style=\"stroke:#000000;stroke-width:0.8;\" x=\"28.942188\" xlink:href=\"#m1ac7292740\" y=\"299.61931\"/>\n      </g>\n     </g>\n     <g id=\"text_33\">\n      <!-- 1 -->\n      <g transform=\"translate(15.579688 303.418529)scale(0.1 -0.1)\">\n       <use xlink:href=\"#DejaVuSans-49\"/>\n      </g>\n     </g>\n    </g>\n    <g id=\"ytick_5\">\n     <g id=\"line2d_67\">\n      <path clip-path=\"url(#p87039fb1a0)\" d=\"M 28.942188 288.372414 \nL 363.742188 288.372414 \n\" style=\"fill:none;stroke:#b0b0b0;stroke-linecap:square;stroke-width:0.8;\"/>\n     </g>\n     <g id=\"line2d_68\">\n      <g>\n       <use style=\"stroke:#000000;stroke-width:0.8;\" x=\"28.942188\" xlink:href=\"#m1ac7292740\" y=\"288.372414\"/>\n      </g>\n     </g>\n     <g id=\"text_34\">\n      <!-- 2 -->\n      <g transform=\"translate(15.579688 292.171633)scale(0.1 -0.1)\">\n       <use xlink:href=\"#DejaVuSans-50\"/>\n      </g>\n     </g>\n    </g>\n    <g id=\"ytick_6\">\n     <g id=\"line2d_69\">\n      <path clip-path=\"url(#p87039fb1a0)\" d=\"M 28.942188 277.125517 \nL 363.742188 277.125517 \n\" style=\"fill:none;stroke:#b0b0b0;stroke-linecap:square;stroke-width:0.8;\"/>\n     </g>\n     <g id=\"line2d_70\">\n      <g>\n       <use style=\"stroke:#000000;stroke-width:0.8;\" x=\"28.942188\" xlink:href=\"#m1ac7292740\" y=\"277.125517\"/>\n      </g>\n     </g>\n     <g id=\"text_35\">\n      <!-- 3 -->\n      <g transform=\"translate(15.579688 280.924736)scale(0.1 -0.1)\">\n       <use xlink:href=\"#DejaVuSans-51\"/>\n      </g>\n     </g>\n    </g>\n    <g id=\"ytick_7\">\n     <g id=\"line2d_71\">\n      <path clip-path=\"url(#p87039fb1a0)\" d=\"M 28.942188 265.878621 \nL 363.742188 265.878621 \n\" style=\"fill:none;stroke:#b0b0b0;stroke-linecap:square;stroke-width:0.8;\"/>\n     </g>\n     <g id=\"line2d_72\">\n      <g>\n       <use style=\"stroke:#000000;stroke-width:0.8;\" x=\"28.942188\" xlink:href=\"#m1ac7292740\" y=\"265.878621\"/>\n      </g>\n     </g>\n     <g id=\"text_36\">\n      <!-- 4 -->\n      <g transform=\"translate(15.579688 269.677839)scale(0.1 -0.1)\">\n       <use xlink:href=\"#DejaVuSans-52\"/>\n      </g>\n     </g>\n    </g>\n    <g id=\"ytick_8\">\n     <g id=\"line2d_73\">\n      <path clip-path=\"url(#p87039fb1a0)\" d=\"M 28.942188 254.631724 \nL 363.742188 254.631724 \n\" style=\"fill:none;stroke:#b0b0b0;stroke-linecap:square;stroke-width:0.8;\"/>\n     </g>\n     <g id=\"line2d_74\">\n      <g>\n       <use style=\"stroke:#000000;stroke-width:0.8;\" x=\"28.942188\" xlink:href=\"#m1ac7292740\" y=\"254.631724\"/>\n      </g>\n     </g>\n     <g id=\"text_37\">\n      <!-- 5 -->\n      <g transform=\"translate(15.579688 258.430943)scale(0.1 -0.1)\">\n       <use xlink:href=\"#DejaVuSans-53\"/>\n      </g>\n     </g>\n    </g>\n    <g id=\"ytick_9\">\n     <g id=\"line2d_75\">\n      <path clip-path=\"url(#p87039fb1a0)\" d=\"M 28.942188 243.384828 \nL 363.742188 243.384828 \n\" style=\"fill:none;stroke:#b0b0b0;stroke-linecap:square;stroke-width:0.8;\"/>\n     </g>\n     <g id=\"line2d_76\">\n      <g>\n       <use style=\"stroke:#000000;stroke-width:0.8;\" x=\"28.942188\" xlink:href=\"#m1ac7292740\" y=\"243.384828\"/>\n      </g>\n     </g>\n     <g id=\"text_38\">\n      <!-- 6 -->\n      <g transform=\"translate(15.579688 247.184046)scale(0.1 -0.1)\">\n       <use xlink:href=\"#DejaVuSans-54\"/>\n      </g>\n     </g>\n    </g>\n    <g id=\"ytick_10\">\n     <g id=\"line2d_77\">\n      <path clip-path=\"url(#p87039fb1a0)\" d=\"M 28.942188 232.137931 \nL 363.742188 232.137931 \n\" style=\"fill:none;stroke:#b0b0b0;stroke-linecap:square;stroke-width:0.8;\"/>\n     </g>\n     <g id=\"line2d_78\">\n      <g>\n       <use style=\"stroke:#000000;stroke-width:0.8;\" x=\"28.942188\" xlink:href=\"#m1ac7292740\" y=\"232.137931\"/>\n      </g>\n     </g>\n     <g id=\"text_39\">\n      <!-- 7 -->\n      <g transform=\"translate(15.579688 235.93715)scale(0.1 -0.1)\">\n       <use xlink:href=\"#DejaVuSans-55\"/>\n      </g>\n     </g>\n    </g>\n    <g id=\"ytick_11\">\n     <g id=\"line2d_79\">\n      <path clip-path=\"url(#p87039fb1a0)\" d=\"M 28.942188 220.891034 \nL 363.742188 220.891034 \n\" style=\"fill:none;stroke:#b0b0b0;stroke-linecap:square;stroke-width:0.8;\"/>\n     </g>\n     <g id=\"line2d_80\">\n      <g>\n       <use style=\"stroke:#000000;stroke-width:0.8;\" x=\"28.942188\" xlink:href=\"#m1ac7292740\" y=\"220.891034\"/>\n      </g>\n     </g>\n     <g id=\"text_40\">\n      <!-- 8 -->\n      <g transform=\"translate(15.579688 224.690253)scale(0.1 -0.1)\">\n       <use xlink:href=\"#DejaVuSans-56\"/>\n      </g>\n     </g>\n    </g>\n    <g id=\"ytick_12\">\n     <g id=\"line2d_81\">\n      <path clip-path=\"url(#p87039fb1a0)\" d=\"M 28.942188 209.644138 \nL 363.742188 209.644138 \n\" style=\"fill:none;stroke:#b0b0b0;stroke-linecap:square;stroke-width:0.8;\"/>\n     </g>\n     <g id=\"line2d_82\">\n      <g>\n       <use style=\"stroke:#000000;stroke-width:0.8;\" x=\"28.942188\" xlink:href=\"#m1ac7292740\" y=\"209.644138\"/>\n      </g>\n     </g>\n     <g id=\"text_41\">\n      <!-- 9 -->\n      <g transform=\"translate(15.579688 213.443357)scale(0.1 -0.1)\">\n       <use xlink:href=\"#DejaVuSans-57\"/>\n      </g>\n     </g>\n    </g>\n    <g id=\"ytick_13\">\n     <g id=\"line2d_83\">\n      <path clip-path=\"url(#p87039fb1a0)\" d=\"M 28.942188 198.397241 \nL 363.742188 198.397241 \n\" style=\"fill:none;stroke:#b0b0b0;stroke-linecap:square;stroke-width:0.8;\"/>\n     </g>\n     <g id=\"line2d_84\">\n      <g>\n       <use style=\"stroke:#000000;stroke-width:0.8;\" x=\"28.942188\" xlink:href=\"#m1ac7292740\" y=\"198.397241\"/>\n      </g>\n     </g>\n     <g id=\"text_42\">\n      <!-- 10 -->\n      <g transform=\"translate(9.217188 202.19646)scale(0.1 -0.1)\">\n       <use xlink:href=\"#DejaVuSans-49\"/>\n       <use x=\"63.623047\" xlink:href=\"#DejaVuSans-48\"/>\n      </g>\n     </g>\n    </g>\n    <g id=\"ytick_14\">\n     <g id=\"line2d_85\">\n      <path clip-path=\"url(#p87039fb1a0)\" d=\"M 28.942188 187.150345 \nL 363.742188 187.150345 \n\" style=\"fill:none;stroke:#b0b0b0;stroke-linecap:square;stroke-width:0.8;\"/>\n     </g>\n     <g id=\"line2d_86\">\n      <g>\n       <use style=\"stroke:#000000;stroke-width:0.8;\" x=\"28.942188\" xlink:href=\"#m1ac7292740\" y=\"187.150345\"/>\n      </g>\n     </g>\n     <g id=\"text_43\">\n      <!-- 11 -->\n      <g transform=\"translate(9.217188 190.949564)scale(0.1 -0.1)\">\n       <use xlink:href=\"#DejaVuSans-49\"/>\n       <use x=\"63.623047\" xlink:href=\"#DejaVuSans-49\"/>\n      </g>\n     </g>\n    </g>\n    <g id=\"ytick_15\">\n     <g id=\"line2d_87\">\n      <path clip-path=\"url(#p87039fb1a0)\" d=\"M 28.942188 175.903448 \nL 363.742188 175.903448 \n\" style=\"fill:none;stroke:#b0b0b0;stroke-linecap:square;stroke-width:0.8;\"/>\n     </g>\n     <g id=\"line2d_88\">\n      <g>\n       <use style=\"stroke:#000000;stroke-width:0.8;\" x=\"28.942188\" xlink:href=\"#m1ac7292740\" y=\"175.903448\"/>\n      </g>\n     </g>\n     <g id=\"text_44\">\n      <!-- 12 -->\n      <g transform=\"translate(9.217188 179.702667)scale(0.1 -0.1)\">\n       <use xlink:href=\"#DejaVuSans-49\"/>\n       <use x=\"63.623047\" xlink:href=\"#DejaVuSans-50\"/>\n      </g>\n     </g>\n    </g>\n    <g id=\"ytick_16\">\n     <g id=\"line2d_89\">\n      <path clip-path=\"url(#p87039fb1a0)\" d=\"M 28.942188 164.656552 \nL 363.742188 164.656552 \n\" style=\"fill:none;stroke:#b0b0b0;stroke-linecap:square;stroke-width:0.8;\"/>\n     </g>\n     <g id=\"line2d_90\">\n      <g>\n       <use style=\"stroke:#000000;stroke-width:0.8;\" x=\"28.942188\" xlink:href=\"#m1ac7292740\" y=\"164.656552\"/>\n      </g>\n     </g>\n     <g id=\"text_45\">\n      <!-- 13 -->\n      <g transform=\"translate(9.217188 168.45577)scale(0.1 -0.1)\">\n       <use xlink:href=\"#DejaVuSans-49\"/>\n       <use x=\"63.623047\" xlink:href=\"#DejaVuSans-51\"/>\n      </g>\n     </g>\n    </g>\n    <g id=\"ytick_17\">\n     <g id=\"line2d_91\">\n      <path clip-path=\"url(#p87039fb1a0)\" d=\"M 28.942188 153.409655 \nL 363.742188 153.409655 \n\" style=\"fill:none;stroke:#b0b0b0;stroke-linecap:square;stroke-width:0.8;\"/>\n     </g>\n     <g id=\"line2d_92\">\n      <g>\n       <use style=\"stroke:#000000;stroke-width:0.8;\" x=\"28.942188\" xlink:href=\"#m1ac7292740\" y=\"153.409655\"/>\n      </g>\n     </g>\n     <g id=\"text_46\">\n      <!-- 14 -->\n      <g transform=\"translate(9.217188 157.208874)scale(0.1 -0.1)\">\n       <use xlink:href=\"#DejaVuSans-49\"/>\n       <use x=\"63.623047\" xlink:href=\"#DejaVuSans-52\"/>\n      </g>\n     </g>\n    </g>\n    <g id=\"ytick_18\">\n     <g id=\"line2d_93\">\n      <path clip-path=\"url(#p87039fb1a0)\" d=\"M 28.942188 142.162759 \nL 363.742188 142.162759 \n\" style=\"fill:none;stroke:#b0b0b0;stroke-linecap:square;stroke-width:0.8;\"/>\n     </g>\n     <g id=\"line2d_94\">\n      <g>\n       <use style=\"stroke:#000000;stroke-width:0.8;\" x=\"28.942188\" xlink:href=\"#m1ac7292740\" y=\"142.162759\"/>\n      </g>\n     </g>\n     <g id=\"text_47\">\n      <!-- 15 -->\n      <g transform=\"translate(9.217188 145.961977)scale(0.1 -0.1)\">\n       <use xlink:href=\"#DejaVuSans-49\"/>\n       <use x=\"63.623047\" xlink:href=\"#DejaVuSans-53\"/>\n      </g>\n     </g>\n    </g>\n    <g id=\"ytick_19\">\n     <g id=\"line2d_95\">\n      <path clip-path=\"url(#p87039fb1a0)\" d=\"M 28.942188 130.915862 \nL 363.742188 130.915862 \n\" style=\"fill:none;stroke:#b0b0b0;stroke-linecap:square;stroke-width:0.8;\"/>\n     </g>\n     <g id=\"line2d_96\">\n      <g>\n       <use style=\"stroke:#000000;stroke-width:0.8;\" x=\"28.942188\" xlink:href=\"#m1ac7292740\" y=\"130.915862\"/>\n      </g>\n     </g>\n     <g id=\"text_48\">\n      <!-- 16 -->\n      <g transform=\"translate(9.217188 134.715081)scale(0.1 -0.1)\">\n       <use xlink:href=\"#DejaVuSans-49\"/>\n       <use x=\"63.623047\" xlink:href=\"#DejaVuSans-54\"/>\n      </g>\n     </g>\n    </g>\n    <g id=\"ytick_20\">\n     <g id=\"line2d_97\">\n      <path clip-path=\"url(#p87039fb1a0)\" d=\"M 28.942188 119.668966 \nL 363.742188 119.668966 \n\" style=\"fill:none;stroke:#b0b0b0;stroke-linecap:square;stroke-width:0.8;\"/>\n     </g>\n     <g id=\"line2d_98\">\n      <g>\n       <use style=\"stroke:#000000;stroke-width:0.8;\" x=\"28.942188\" xlink:href=\"#m1ac7292740\" y=\"119.668966\"/>\n      </g>\n     </g>\n     <g id=\"text_49\">\n      <!-- 17 -->\n      <g transform=\"translate(9.217188 123.468184)scale(0.1 -0.1)\">\n       <use xlink:href=\"#DejaVuSans-49\"/>\n       <use x=\"63.623047\" xlink:href=\"#DejaVuSans-55\"/>\n      </g>\n     </g>\n    </g>\n    <g id=\"ytick_21\">\n     <g id=\"line2d_99\">\n      <path clip-path=\"url(#p87039fb1a0)\" d=\"M 28.942188 108.422069 \nL 363.742188 108.422069 \n\" style=\"fill:none;stroke:#b0b0b0;stroke-linecap:square;stroke-width:0.8;\"/>\n     </g>\n     <g id=\"line2d_100\">\n      <g>\n       <use style=\"stroke:#000000;stroke-width:0.8;\" x=\"28.942188\" xlink:href=\"#m1ac7292740\" y=\"108.422069\"/>\n      </g>\n     </g>\n     <g id=\"text_50\">\n      <!-- 18 -->\n      <g transform=\"translate(9.217188 112.221288)scale(0.1 -0.1)\">\n       <use xlink:href=\"#DejaVuSans-49\"/>\n       <use x=\"63.623047\" xlink:href=\"#DejaVuSans-56\"/>\n      </g>\n     </g>\n    </g>\n    <g id=\"ytick_22\">\n     <g id=\"line2d_101\">\n      <path clip-path=\"url(#p87039fb1a0)\" d=\"M 28.942188 97.175172 \nL 363.742188 97.175172 \n\" style=\"fill:none;stroke:#b0b0b0;stroke-linecap:square;stroke-width:0.8;\"/>\n     </g>\n     <g id=\"line2d_102\">\n      <g>\n       <use style=\"stroke:#000000;stroke-width:0.8;\" x=\"28.942188\" xlink:href=\"#m1ac7292740\" y=\"97.175172\"/>\n      </g>\n     </g>\n     <g id=\"text_51\">\n      <!-- 19 -->\n      <g transform=\"translate(9.217188 100.974391)scale(0.1 -0.1)\">\n       <use xlink:href=\"#DejaVuSans-49\"/>\n       <use x=\"63.623047\" xlink:href=\"#DejaVuSans-57\"/>\n      </g>\n     </g>\n    </g>\n    <g id=\"ytick_23\">\n     <g id=\"line2d_103\">\n      <path clip-path=\"url(#p87039fb1a0)\" d=\"M 28.942188 85.928276 \nL 363.742188 85.928276 \n\" style=\"fill:none;stroke:#b0b0b0;stroke-linecap:square;stroke-width:0.8;\"/>\n     </g>\n     <g id=\"line2d_104\">\n      <g>\n       <use style=\"stroke:#000000;stroke-width:0.8;\" x=\"28.942188\" xlink:href=\"#m1ac7292740\" y=\"85.928276\"/>\n      </g>\n     </g>\n     <g id=\"text_52\">\n      <!-- 20 -->\n      <g transform=\"translate(9.217188 89.727495)scale(0.1 -0.1)\">\n       <use xlink:href=\"#DejaVuSans-50\"/>\n       <use x=\"63.623047\" xlink:href=\"#DejaVuSans-48\"/>\n      </g>\n     </g>\n    </g>\n    <g id=\"ytick_24\">\n     <g id=\"line2d_105\">\n      <path clip-path=\"url(#p87039fb1a0)\" d=\"M 28.942188 74.681379 \nL 363.742188 74.681379 \n\" style=\"fill:none;stroke:#b0b0b0;stroke-linecap:square;stroke-width:0.8;\"/>\n     </g>\n     <g id=\"line2d_106\">\n      <g>\n       <use style=\"stroke:#000000;stroke-width:0.8;\" x=\"28.942188\" xlink:href=\"#m1ac7292740\" y=\"74.681379\"/>\n      </g>\n     </g>\n     <g id=\"text_53\">\n      <!-- 21 -->\n      <g transform=\"translate(9.217188 78.480598)scale(0.1 -0.1)\">\n       <use xlink:href=\"#DejaVuSans-50\"/>\n       <use x=\"63.623047\" xlink:href=\"#DejaVuSans-49\"/>\n      </g>\n     </g>\n    </g>\n    <g id=\"ytick_25\">\n     <g id=\"line2d_107\">\n      <path clip-path=\"url(#p87039fb1a0)\" d=\"M 28.942188 63.434483 \nL 363.742188 63.434483 \n\" style=\"fill:none;stroke:#b0b0b0;stroke-linecap:square;stroke-width:0.8;\"/>\n     </g>\n     <g id=\"line2d_108\">\n      <g>\n       <use style=\"stroke:#000000;stroke-width:0.8;\" x=\"28.942188\" xlink:href=\"#m1ac7292740\" y=\"63.434483\"/>\n      </g>\n     </g>\n     <g id=\"text_54\">\n      <!-- 22 -->\n      <g transform=\"translate(9.217188 67.233702)scale(0.1 -0.1)\">\n       <use xlink:href=\"#DejaVuSans-50\"/>\n       <use x=\"63.623047\" xlink:href=\"#DejaVuSans-50\"/>\n      </g>\n     </g>\n    </g>\n    <g id=\"ytick_26\">\n     <g id=\"line2d_109\">\n      <path clip-path=\"url(#p87039fb1a0)\" d=\"M 28.942188 52.187586 \nL 363.742188 52.187586 \n\" style=\"fill:none;stroke:#b0b0b0;stroke-linecap:square;stroke-width:0.8;\"/>\n     </g>\n     <g id=\"line2d_110\">\n      <g>\n       <use style=\"stroke:#000000;stroke-width:0.8;\" x=\"28.942188\" xlink:href=\"#m1ac7292740\" y=\"52.187586\"/>\n      </g>\n     </g>\n     <g id=\"text_55\">\n      <!-- 23 -->\n      <g transform=\"translate(9.217188 55.986805)scale(0.1 -0.1)\">\n       <use xlink:href=\"#DejaVuSans-50\"/>\n       <use x=\"63.623047\" xlink:href=\"#DejaVuSans-51\"/>\n      </g>\n     </g>\n    </g>\n    <g id=\"ytick_27\">\n     <g id=\"line2d_111\">\n      <path clip-path=\"url(#p87039fb1a0)\" d=\"M 28.942188 40.94069 \nL 363.742188 40.94069 \n\" style=\"fill:none;stroke:#b0b0b0;stroke-linecap:square;stroke-width:0.8;\"/>\n     </g>\n     <g id=\"line2d_112\">\n      <g>\n       <use style=\"stroke:#000000;stroke-width:0.8;\" x=\"28.942188\" xlink:href=\"#m1ac7292740\" y=\"40.94069\"/>\n      </g>\n     </g>\n     <g id=\"text_56\">\n      <!-- 24 -->\n      <g transform=\"translate(9.217188 44.739908)scale(0.1 -0.1)\">\n       <use xlink:href=\"#DejaVuSans-50\"/>\n       <use x=\"63.623047\" xlink:href=\"#DejaVuSans-52\"/>\n      </g>\n     </g>\n    </g>\n    <g id=\"ytick_28\">\n     <g id=\"line2d_113\">\n      <path clip-path=\"url(#p87039fb1a0)\" d=\"M 28.942188 29.693793 \nL 363.742188 29.693793 \n\" style=\"fill:none;stroke:#b0b0b0;stroke-linecap:square;stroke-width:0.8;\"/>\n     </g>\n     <g id=\"line2d_114\">\n      <g>\n       <use style=\"stroke:#000000;stroke-width:0.8;\" x=\"28.942188\" xlink:href=\"#m1ac7292740\" y=\"29.693793\"/>\n      </g>\n     </g>\n     <g id=\"text_57\">\n      <!-- 25 -->\n      <g transform=\"translate(9.217188 33.493012)scale(0.1 -0.1)\">\n       <use xlink:href=\"#DejaVuSans-50\"/>\n       <use x=\"63.623047\" xlink:href=\"#DejaVuSans-53\"/>\n      </g>\n     </g>\n    </g>\n    <g id=\"ytick_29\">\n     <g id=\"line2d_115\">\n      <path clip-path=\"url(#p87039fb1a0)\" d=\"M 28.942188 18.446897 \nL 363.742188 18.446897 \n\" style=\"fill:none;stroke:#b0b0b0;stroke-linecap:square;stroke-width:0.8;\"/>\n     </g>\n     <g id=\"line2d_116\">\n      <g>\n       <use style=\"stroke:#000000;stroke-width:0.8;\" x=\"28.942188\" xlink:href=\"#m1ac7292740\" y=\"18.446897\"/>\n      </g>\n     </g>\n     <g id=\"text_58\">\n      <!-- 26 -->\n      <g transform=\"translate(9.217188 22.246115)scale(0.1 -0.1)\">\n       <use xlink:href=\"#DejaVuSans-50\"/>\n       <use x=\"63.623047\" xlink:href=\"#DejaVuSans-54\"/>\n      </g>\n     </g>\n    </g>\n   </g>\n   <g id=\"PathCollection_1\">\n    <defs>\n     <path d=\"M -3 3 \nL 3 -3 \nM -3 -3 \nL 3 3 \n\" id=\"md23d4fd552\" style=\"stroke:#000000;stroke-width:1.5;\"/>\n    </defs>\n    <g clip-path=\"url(#p87039fb1a0)\">\n     <use style=\"stroke:#000000;stroke-width:1.5;\" x=\"52.031843\" xlink:href=\"#md23d4fd552\" y=\"310.866207\"/>\n    </g>\n   </g>\n   <g id=\"PathCollection_2\">\n    <defs>\n     <path d=\"M 0 3 \nC 0.795609 3 1.55874 2.683901 2.12132 2.12132 \nC 2.683901 1.55874 3 0.795609 3 0 \nC 3 -0.795609 2.683901 -1.55874 2.12132 -2.12132 \nC 1.55874 -2.683901 0.795609 -3 0 -3 \nC -0.795609 -3 -1.55874 -2.683901 -2.12132 -2.12132 \nC -2.683901 -1.55874 -3 -0.795609 -3 0 \nC -3 0.795609 -2.683901 1.55874 -2.12132 2.12132 \nC -1.55874 2.683901 -0.795609 3 0 3 \nz\n\" id=\"m8685e87f42\" style=\"stroke:#1f77b4;\"/>\n    </defs>\n    <g clip-path=\"url(#p87039fb1a0)\">\n     <use style=\"fill:#1f77b4;stroke:#1f77b4;\" x=\"52.031843\" xlink:href=\"#m8685e87f42\" y=\"310.866207\"/>\n     <use style=\"fill:#1f77b4;stroke:#1f77b4;\" x=\"52.031843\" xlink:href=\"#m8685e87f42\" y=\"299.61931\"/>\n     <use style=\"fill:#1f77b4;stroke:#1f77b4;\" x=\"52.031843\" xlink:href=\"#m8685e87f42\" y=\"288.372414\"/>\n     <use style=\"fill:#1f77b4;stroke:#1f77b4;\" x=\"52.031843\" xlink:href=\"#m8685e87f42\" y=\"277.125517\"/>\n     <use style=\"fill:#1f77b4;stroke:#1f77b4;\" x=\"52.031843\" xlink:href=\"#m8685e87f42\" y=\"265.878621\"/>\n     <use style=\"fill:#1f77b4;stroke:#1f77b4;\" x=\"52.031843\" xlink:href=\"#m8685e87f42\" y=\"254.631724\"/>\n     <use style=\"fill:#1f77b4;stroke:#1f77b4;\" x=\"63.57667\" xlink:href=\"#m8685e87f42\" y=\"310.866207\"/>\n     <use style=\"fill:#1f77b4;stroke:#1f77b4;\" x=\"63.57667\" xlink:href=\"#m8685e87f42\" y=\"299.61931\"/>\n     <use style=\"fill:#1f77b4;stroke:#1f77b4;\" x=\"63.57667\" xlink:href=\"#m8685e87f42\" y=\"288.372414\"/>\n     <use style=\"fill:#1f77b4;stroke:#1f77b4;\" x=\"63.57667\" xlink:href=\"#m8685e87f42\" y=\"277.125517\"/>\n     <use style=\"fill:#1f77b4;stroke:#1f77b4;\" x=\"63.57667\" xlink:href=\"#m8685e87f42\" y=\"265.878621\"/>\n     <use style=\"fill:#1f77b4;stroke:#1f77b4;\" x=\"63.57667\" xlink:href=\"#m8685e87f42\" y=\"254.631724\"/>\n     <use style=\"fill:#1f77b4;stroke:#1f77b4;\" x=\"75.121498\" xlink:href=\"#m8685e87f42\" y=\"310.866207\"/>\n     <use style=\"fill:#1f77b4;stroke:#1f77b4;\" x=\"75.121498\" xlink:href=\"#m8685e87f42\" y=\"299.61931\"/>\n     <use style=\"fill:#1f77b4;stroke:#1f77b4;\" x=\"75.121498\" xlink:href=\"#m8685e87f42\" y=\"288.372414\"/>\n     <use style=\"fill:#1f77b4;stroke:#1f77b4;\" x=\"75.121498\" xlink:href=\"#m8685e87f42\" y=\"277.125517\"/>\n     <use style=\"fill:#1f77b4;stroke:#1f77b4;\" x=\"75.121498\" xlink:href=\"#m8685e87f42\" y=\"265.878621\"/>\n     <use style=\"fill:#1f77b4;stroke:#1f77b4;\" x=\"75.121498\" xlink:href=\"#m8685e87f42\" y=\"254.631724\"/>\n     <use style=\"fill:#1f77b4;stroke:#1f77b4;\" x=\"86.666325\" xlink:href=\"#m8685e87f42\" y=\"310.866207\"/>\n     <use style=\"fill:#1f77b4;stroke:#1f77b4;\" x=\"86.666325\" xlink:href=\"#m8685e87f42\" y=\"299.61931\"/>\n     <use style=\"fill:#1f77b4;stroke:#1f77b4;\" x=\"86.666325\" xlink:href=\"#m8685e87f42\" y=\"288.372414\"/>\n     <use style=\"fill:#1f77b4;stroke:#1f77b4;\" x=\"86.666325\" xlink:href=\"#m8685e87f42\" y=\"277.125517\"/>\n     <use style=\"fill:#1f77b4;stroke:#1f77b4;\" x=\"86.666325\" xlink:href=\"#m8685e87f42\" y=\"265.878621\"/>\n     <use style=\"fill:#1f77b4;stroke:#1f77b4;\" x=\"86.666325\" xlink:href=\"#m8685e87f42\" y=\"254.631724\"/>\n     <use style=\"fill:#1f77b4;stroke:#1f77b4;\" x=\"98.211153\" xlink:href=\"#m8685e87f42\" y=\"310.866207\"/>\n     <use style=\"fill:#1f77b4;stroke:#1f77b4;\" x=\"98.211153\" xlink:href=\"#m8685e87f42\" y=\"299.61931\"/>\n     <use style=\"fill:#1f77b4;stroke:#1f77b4;\" x=\"98.211153\" xlink:href=\"#m8685e87f42\" y=\"288.372414\"/>\n     <use style=\"fill:#1f77b4;stroke:#1f77b4;\" x=\"98.211153\" xlink:href=\"#m8685e87f42\" y=\"277.125517\"/>\n     <use style=\"fill:#1f77b4;stroke:#1f77b4;\" x=\"98.211153\" xlink:href=\"#m8685e87f42\" y=\"265.878621\"/>\n     <use style=\"fill:#1f77b4;stroke:#1f77b4;\" x=\"98.211153\" xlink:href=\"#m8685e87f42\" y=\"254.631724\"/>\n     <use style=\"fill:#1f77b4;stroke:#1f77b4;\" x=\"109.755981\" xlink:href=\"#m8685e87f42\" y=\"310.866207\"/>\n     <use style=\"fill:#1f77b4;stroke:#1f77b4;\" x=\"109.755981\" xlink:href=\"#m8685e87f42\" y=\"299.61931\"/>\n     <use style=\"fill:#1f77b4;stroke:#1f77b4;\" x=\"109.755981\" xlink:href=\"#m8685e87f42\" y=\"288.372414\"/>\n     <use style=\"fill:#1f77b4;stroke:#1f77b4;\" x=\"109.755981\" xlink:href=\"#m8685e87f42\" y=\"277.125517\"/>\n     <use style=\"fill:#1f77b4;stroke:#1f77b4;\" x=\"109.755981\" xlink:href=\"#m8685e87f42\" y=\"265.878621\"/>\n     <use style=\"fill:#1f77b4;stroke:#1f77b4;\" x=\"109.755981\" xlink:href=\"#m8685e87f42\" y=\"254.631724\"/>\n    </g>\n   </g>\n   <g id=\"PathCollection_3\">\n    <defs>\n     <path d=\"M 0 3 \nC 0.795609 3 1.55874 2.683901 2.12132 2.12132 \nC 2.683901 1.55874 3 0.795609 3 0 \nC 3 -0.795609 2.683901 -1.55874 2.12132 -2.12132 \nC 1.55874 -2.683901 0.795609 -3 0 -3 \nC -0.795609 -3 -1.55874 -2.683901 -2.12132 -2.12132 \nC -2.683901 -1.55874 -3 -0.795609 -3 0 \nC -3 0.795609 -2.683901 1.55874 -2.12132 2.12132 \nC -1.55874 2.683901 -0.795609 3 0 3 \nz\n\" id=\"m21589749cc\" style=\"stroke:#d62728;\"/>\n    </defs>\n    <g clip-path=\"url(#p87039fb1a0)\">\n     <use style=\"fill:#d62728;stroke:#d62728;\" x=\"52.031843\" xlink:href=\"#m21589749cc\" y=\"310.866207\"/>\n     <use style=\"fill:#d62728;stroke:#d62728;\" x=\"52.031843\" xlink:href=\"#m21589749cc\" y=\"299.61931\"/>\n     <use style=\"fill:#d62728;stroke:#d62728;\" x=\"52.031843\" xlink:href=\"#m21589749cc\" y=\"265.878621\"/>\n     <use style=\"fill:#d62728;stroke:#d62728;\" x=\"52.031843\" xlink:href=\"#m21589749cc\" y=\"209.644138\"/>\n     <use style=\"fill:#d62728;stroke:#d62728;\" x=\"52.031843\" xlink:href=\"#m21589749cc\" y=\"130.915862\"/>\n     <use style=\"fill:#d62728;stroke:#d62728;\" x=\"52.031843\" xlink:href=\"#m21589749cc\" y=\"29.693793\"/>\n     <use style=\"fill:#d62728;stroke:#d62728;\" x=\"63.57667\" xlink:href=\"#m21589749cc\" y=\"310.866207\"/>\n     <use style=\"fill:#d62728;stroke:#d62728;\" x=\"63.57667\" xlink:href=\"#m21589749cc\" y=\"299.61931\"/>\n     <use style=\"fill:#d62728;stroke:#d62728;\" x=\"63.57667\" xlink:href=\"#m21589749cc\" y=\"265.878621\"/>\n     <use style=\"fill:#d62728;stroke:#d62728;\" x=\"63.57667\" xlink:href=\"#m21589749cc\" y=\"209.644138\"/>\n     <use style=\"fill:#d62728;stroke:#d62728;\" x=\"63.57667\" xlink:href=\"#m21589749cc\" y=\"130.915862\"/>\n     <use style=\"fill:#d62728;stroke:#d62728;\" x=\"63.57667\" xlink:href=\"#m21589749cc\" y=\"29.693793\"/>\n     <use style=\"fill:#d62728;stroke:#d62728;\" x=\"98.211153\" xlink:href=\"#m21589749cc\" y=\"310.866207\"/>\n     <use style=\"fill:#d62728;stroke:#d62728;\" x=\"98.211153\" xlink:href=\"#m21589749cc\" y=\"299.61931\"/>\n     <use style=\"fill:#d62728;stroke:#d62728;\" x=\"98.211153\" xlink:href=\"#m21589749cc\" y=\"265.878621\"/>\n     <use style=\"fill:#d62728;stroke:#d62728;\" x=\"98.211153\" xlink:href=\"#m21589749cc\" y=\"209.644138\"/>\n     <use style=\"fill:#d62728;stroke:#d62728;\" x=\"98.211153\" xlink:href=\"#m21589749cc\" y=\"130.915862\"/>\n     <use style=\"fill:#d62728;stroke:#d62728;\" x=\"98.211153\" xlink:href=\"#m21589749cc\" y=\"29.693793\"/>\n     <use style=\"fill:#d62728;stroke:#d62728;\" x=\"155.935291\" xlink:href=\"#m21589749cc\" y=\"310.866207\"/>\n     <use style=\"fill:#d62728;stroke:#d62728;\" x=\"155.935291\" xlink:href=\"#m21589749cc\" y=\"299.61931\"/>\n     <use style=\"fill:#d62728;stroke:#d62728;\" x=\"155.935291\" xlink:href=\"#m21589749cc\" y=\"265.878621\"/>\n     <use style=\"fill:#d62728;stroke:#d62728;\" x=\"155.935291\" xlink:href=\"#m21589749cc\" y=\"209.644138\"/>\n     <use style=\"fill:#d62728;stroke:#d62728;\" x=\"155.935291\" xlink:href=\"#m21589749cc\" y=\"130.915862\"/>\n     <use style=\"fill:#d62728;stroke:#d62728;\" x=\"155.935291\" xlink:href=\"#m21589749cc\" y=\"29.693793\"/>\n     <use style=\"fill:#d62728;stroke:#d62728;\" x=\"236.749084\" xlink:href=\"#m21589749cc\" y=\"310.866207\"/>\n     <use style=\"fill:#d62728;stroke:#d62728;\" x=\"236.749084\" xlink:href=\"#m21589749cc\" y=\"299.61931\"/>\n     <use style=\"fill:#d62728;stroke:#d62728;\" x=\"236.749084\" xlink:href=\"#m21589749cc\" y=\"265.878621\"/>\n     <use style=\"fill:#d62728;stroke:#d62728;\" x=\"236.749084\" xlink:href=\"#m21589749cc\" y=\"209.644138\"/>\n     <use style=\"fill:#d62728;stroke:#d62728;\" x=\"236.749084\" xlink:href=\"#m21589749cc\" y=\"130.915862\"/>\n     <use style=\"fill:#d62728;stroke:#d62728;\" x=\"236.749084\" xlink:href=\"#m21589749cc\" y=\"29.693793\"/>\n     <use style=\"fill:#d62728;stroke:#d62728;\" x=\"340.652532\" xlink:href=\"#m21589749cc\" y=\"310.866207\"/>\n     <use style=\"fill:#d62728;stroke:#d62728;\" x=\"340.652532\" xlink:href=\"#m21589749cc\" y=\"299.61931\"/>\n     <use style=\"fill:#d62728;stroke:#d62728;\" x=\"340.652532\" xlink:href=\"#m21589749cc\" y=\"265.878621\"/>\n     <use style=\"fill:#d62728;stroke:#d62728;\" x=\"340.652532\" xlink:href=\"#m21589749cc\" y=\"209.644138\"/>\n     <use style=\"fill:#d62728;stroke:#d62728;\" x=\"340.652532\" xlink:href=\"#m21589749cc\" y=\"130.915862\"/>\n     <use style=\"fill:#d62728;stroke:#d62728;\" x=\"340.652532\" xlink:href=\"#m21589749cc\" y=\"29.693793\"/>\n    </g>\n   </g>\n   <g id=\"line2d_117\">\n    <path clip-path=\"url(#p87039fb1a0)\" d=\"M 28.942188 310.866207 \nL 363.742188 310.866207 \n\" style=\"fill:none;stroke:#000000;stroke-linecap:square;stroke-width:2;\"/>\n   </g>\n   <g id=\"line2d_118\">\n    <path clip-path=\"url(#p87039fb1a0)\" d=\"M 52.031843 333.36 \nL 52.031843 7.2 \n\" style=\"fill:none;stroke:#000000;stroke-linecap:square;stroke-width:2;\"/>\n   </g>\n   <g id=\"patch_3\">\n    <path d=\"M 28.942188 333.36 \nL 28.942188 7.2 \n\" style=\"fill:none;stroke:#000000;stroke-linecap:square;stroke-linejoin:miter;stroke-width:0.8;\"/>\n   </g>\n   <g id=\"patch_4\">\n    <path d=\"M 363.742188 333.36 \nL 363.742188 7.2 \n\" style=\"fill:none;stroke:#000000;stroke-linecap:square;stroke-linejoin:miter;stroke-width:0.8;\"/>\n   </g>\n   <g id=\"patch_5\">\n    <path d=\"M 28.942188 333.36 \nL 363.742188 333.36 \n\" style=\"fill:none;stroke:#000000;stroke-linecap:square;stroke-linejoin:miter;stroke-width:0.8;\"/>\n   </g>\n   <g id=\"patch_6\">\n    <path d=\"M 28.942188 7.2 \nL 363.742188 7.2 \n\" style=\"fill:none;stroke:#000000;stroke-linecap:square;stroke-linejoin:miter;stroke-width:0.8;\"/>\n   </g>\n  </g>\n </g>\n <defs>\n  <clipPath id=\"p87039fb1a0\">\n   <rect height=\"326.16\" width=\"334.8\" x=\"28.942188\" y=\"7.2\"/>\n  </clipPath>\n </defs>\n</svg>\n",
      "image/png": "[encoded data removed]"
     },
     "metadata": {
      "needs_background": "light"
     }
    }
   ],
   "source": [
    "vectors = [(x,y) for x in range(0,6) for y in range(0,6)]\n",
    "transformed_vectors = [(x**2, y**2) for x,y in vectors]\n",
    "\n",
    "draw2d(\n",
    "    Points2D(*vectors, color=blue),\n",
    "    Points2D(*transformed_vectors, color=red),\n",
    ")"
   ]
  },
  {
   "source": [
    "**Mini-project 4.15:** Property-based testing is a type of unit testing that involves inventing arbitrary input data for a program and then checking that the outputs satisfy desired conditions. There are popular Python libraries like Hypothesis (available through pip) that make it easy to set this up. Using your library of choice, implement property-based tests that check if a vector transformation is linear."
   ],
   "cell_type": "markdown",
   "metadata": {}
  },
  {
   "cell_type": "code",
   "execution_count": 101,
   "metadata": {},
   "outputs": [],
   "source": [
    "from transforms import *\n",
    "from random import *\n",
    "\n",
    "def random_vector(start, end, dimension):\n",
    "    vector = []\n",
    "    for i in range(0,dimension):\n",
    "        vector.append(uniform(start,end))\n",
    "    return tuple(vector)\n",
    "\n",
    "def random_vectors(end):\n",
    "    n = range(end)\n",
    "    return [(random_vector(-10,10,3), random_vector(-10,10,3)) for i in n for j in n]\n",
    "\n",
    "def round_by(value):\n",
    "    def new_function(input):\n",
    "        return round(input, value)\n",
    "    return new_function\n",
    "\n",
    "round_by_3 = round_by(3)\n",
    "\n",
    "def is_linear_xform(xform, vectors, scalar):\n",
    "    for vector_pair in vectors:\n",
    "        u,v = vector_pair\n",
    "        # check if addition is preserved\n",
    "        # T(u + v) = T(u) + T(v)\n",
    "        Ta1 = tuple(map(round_by_3, xform(add(u,v))))\n",
    "        Ta2 = tuple(map(round_by_3, add(xform(u), xform(v))))\n",
    "        assert Ta1 == Ta2, 'addition is not preserved'\n",
    "        # check if scaling is preserved\n",
    "        # T(sv) = sT(v)\n",
    "        Ts1 = tuple(map(round_by_3, (xform(scale(scalar, u)))))\n",
    "        Ts2 = tuple(map(round_by_3, (scale(scalar, xform(u)))))\n",
    "        assert Ts1 == Ts2 , 'scaling is not preserved'\n",
    "    return f'This is linear transformation'"
   ]
  },
  {
   "cell_type": "code",
   "execution_count": 102,
   "metadata": {
    "tags": []
   },
   "outputs": [
    {
     "output_type": "execute_result",
     "data": {
      "text/plain": "'This is linear transformation'"
     },
     "metadata": {},
     "execution_count": 102
    }
   ],
   "source": [
    "scale_by_2 = scale_by(2)\n",
    "\n",
    "is_linear_xform(scale_by_2, random_vectors(1), 2)"
   ]
  },
  {
   "cell_type": "code",
   "execution_count": 103,
   "metadata": {
    "tags": []
   },
   "outputs": [
    {
     "output_type": "error",
     "ename": "AssertionError",
     "evalue": "addition is not preserved",
     "traceback": [
      "\u001b[0;31m---------------------------------------------------------------------------\u001b[0m",
      "\u001b[0;31mAssertionError\u001b[0m                            Traceback (most recent call last)",
      "\u001b[0;32m<ipython-input-103-d8ed389c40db>\u001b[0m in \u001b[0;36m<module>\u001b[0;34m\u001b[0m\n\u001b[1;32m      3\u001b[0m     \u001b[0;32mreturn\u001b[0m \u001b[0mx\u001b[0m\u001b[0;34m**\u001b[0m\u001b[0;36m2\u001b[0m\u001b[0;34m,\u001b[0m \u001b[0my\u001b[0m\u001b[0;34m**\u001b[0m\u001b[0;36m2\u001b[0m\u001b[0;34m,\u001b[0m \u001b[0mz\u001b[0m\u001b[0;34m**\u001b[0m\u001b[0;36m2\u001b[0m\u001b[0;34m\u001b[0m\u001b[0;34m\u001b[0m\u001b[0m\n\u001b[1;32m      4\u001b[0m \u001b[0;34m\u001b[0m\u001b[0m\n\u001b[0;32m----> 5\u001b[0;31m \u001b[0mis_linear_xform\u001b[0m\u001b[0;34m(\u001b[0m\u001b[0mpow2\u001b[0m\u001b[0;34m,\u001b[0m \u001b[0mrandom_vectors\u001b[0m\u001b[0;34m(\u001b[0m\u001b[0;36m100\u001b[0m\u001b[0;34m)\u001b[0m\u001b[0;34m,\u001b[0m \u001b[0;34m-\u001b[0m\u001b[0;36m1\u001b[0m\u001b[0;34m)\u001b[0m\u001b[0;34m\u001b[0m\u001b[0;34m\u001b[0m\u001b[0m\n\u001b[0m",
      "\u001b[0;32m<ipython-input-101-942eb3d232d6>\u001b[0m in \u001b[0;36mis_linear_xform\u001b[0;34m(xform, vectors, scalar)\u001b[0m\n\u001b[1;32m     26\u001b[0m         \u001b[0mTa1\u001b[0m \u001b[0;34m=\u001b[0m \u001b[0mtuple\u001b[0m\u001b[0;34m(\u001b[0m\u001b[0mmap\u001b[0m\u001b[0;34m(\u001b[0m\u001b[0mround_by_3\u001b[0m\u001b[0;34m,\u001b[0m \u001b[0mxform\u001b[0m\u001b[0;34m(\u001b[0m\u001b[0madd\u001b[0m\u001b[0;34m(\u001b[0m\u001b[0mu\u001b[0m\u001b[0;34m,\u001b[0m\u001b[0mv\u001b[0m\u001b[0;34m)\u001b[0m\u001b[0;34m)\u001b[0m\u001b[0;34m)\u001b[0m\u001b[0;34m)\u001b[0m\u001b[0;34m\u001b[0m\u001b[0;34m\u001b[0m\u001b[0m\n\u001b[1;32m     27\u001b[0m         \u001b[0mTa2\u001b[0m \u001b[0;34m=\u001b[0m \u001b[0mtuple\u001b[0m\u001b[0;34m(\u001b[0m\u001b[0mmap\u001b[0m\u001b[0;34m(\u001b[0m\u001b[0mround_by_3\u001b[0m\u001b[0;34m,\u001b[0m \u001b[0madd\u001b[0m\u001b[0;34m(\u001b[0m\u001b[0mxform\u001b[0m\u001b[0;34m(\u001b[0m\u001b[0mu\u001b[0m\u001b[0;34m)\u001b[0m\u001b[0;34m,\u001b[0m \u001b[0mxform\u001b[0m\u001b[0;34m(\u001b[0m\u001b[0mv\u001b[0m\u001b[0;34m)\u001b[0m\u001b[0;34m)\u001b[0m\u001b[0;34m)\u001b[0m\u001b[0;34m)\u001b[0m\u001b[0;34m\u001b[0m\u001b[0;34m\u001b[0m\u001b[0m\n\u001b[0;32m---> 28\u001b[0;31m         \u001b[0;32massert\u001b[0m \u001b[0mTa1\u001b[0m \u001b[0;34m==\u001b[0m \u001b[0mTa2\u001b[0m\u001b[0;34m,\u001b[0m \u001b[0;34m'addition is not preserved'\u001b[0m\u001b[0;34m\u001b[0m\u001b[0;34m\u001b[0m\u001b[0m\n\u001b[0m\u001b[1;32m     29\u001b[0m         \u001b[0;31m# check if scaling is preserved\u001b[0m\u001b[0;34m\u001b[0m\u001b[0;34m\u001b[0m\u001b[0;34m\u001b[0m\u001b[0m\n\u001b[1;32m     30\u001b[0m         \u001b[0;31m# T(sv) = sT(v)\u001b[0m\u001b[0;34m\u001b[0m\u001b[0;34m\u001b[0m\u001b[0;34m\u001b[0m\u001b[0m\n",
      "\u001b[0;31mAssertionError\u001b[0m: addition is not preserved"
     ]
    }
   ],
   "source": [
    "def pow2(vector):\n",
    "    x,y,z = vector\n",
    "    return x**2, y**2, z**2\n",
    "\n",
    "is_linear_xform(pow2, random_vectors(100), -1)"
   ]
  },
  {
   "cell_type": "code",
   "execution_count": 104,
   "metadata": {
    "tags": []
   },
   "outputs": [
    {
     "output_type": "execute_result",
     "data": {
      "text/plain": "'This is linear transformation'"
     },
     "metadata": {},
     "execution_count": 104
    }
   ],
   "source": [
    "rotate_x_by_1= rotate_x_by(1)\n",
    "\n",
    "is_linear_xform(rotate_x_by_1, random_vectors(1), -1)"
   ]
  },
  {
   "cell_type": "code",
   "execution_count": null,
   "metadata": {},
   "outputs": [],
   "source": []
  }
 ]
}