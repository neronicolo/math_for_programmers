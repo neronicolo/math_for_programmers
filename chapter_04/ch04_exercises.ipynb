{
 "metadata": {
  "language_info": {
   "codemirror_mode": {
    "name": "ipython",
    "version": 3
   },
   "file_extension": ".py",
   "mimetype": "text/x-python",
   "name": "python",
   "nbconvert_exporter": "python",
   "pygments_lexer": "ipython3",
   "version": "3.7.5-final"
  },
  "orig_nbformat": 2,
  "kernelspec": {
   "name": "python_defaultSpec_1600449439092",
   "display_name": "Python 3.7.5 64-bit ('python37': conda)"
  }
 },
 "nbformat": 4,
 "nbformat_minor": 2,
 "cells": [
  {
   "cell_type": "markdown",
   "metadata": {},
   "source": [
    "# Chapter 4: Transforming vectors and graphics"
   ]
  },
  {
   "cell_type": "markdown",
   "metadata": {},
   "source": [
    "**NOTE** For most of the examples in this chapter, the code is in other .py files in this directory, rather than directly in this Notebook.  You can run the other files in the notebook below, and a PyGame window will open up.  For instance `!python script.py` runs `script.py` as if you're running it from the command line. When you're done admiring the graphics the scripts create, you can close the window and the Jupyter cell will finish computing.\n",
    "\n",
    "Make sure to follow the instructions from Appendix C before beginning this chapter, including\n",
    "\n",
    "`pip install PyGame`\n",
    "\n",
    "`pip install PyOpenGL`"
   ]
  },
  {
   "cell_type": "markdown",
   "metadata": {},
   "source": [
    "# 4.1 Transforming 3D objects"
   ]
  },
  {
   "cell_type": "markdown",
   "metadata": {},
   "source": [
    "## 4.1.1 Drawing a transformed object"
   ]
  },
  {
   "cell_type": "markdown",
   "metadata": {},
   "source": [
    "symbol **`!`** tells jypiter notebook to execute script in command lie "
   ]
  },
  {
   "cell_type": "code",
   "execution_count": 1,
   "metadata": {
    "tags": []
   },
   "outputs": [
    {
     "output_type": "stream",
     "name": "stdout",
     "text": "pygame 1.9.6\nHello from the pygame community. https://www.pygame.org/contribute.html\n"
    }
   ],
   "source": [
    "!python draw_teapot.py"
   ]
  },
  {
   "cell_type": "code",
   "execution_count": 2,
   "metadata": {
    "tags": []
   },
   "outputs": [
    {
     "output_type": "stream",
     "name": "stdout",
     "text": "pygame 1.9.6\nHello from the pygame community. https://www.pygame.org/contribute.html\n"
    }
   ],
   "source": [
    "!python scale_teapot.py"
   ]
  },
  {
   "cell_type": "code",
   "execution_count": 3,
   "metadata": {
    "tags": []
   },
   "outputs": [
    {
     "output_type": "stream",
     "name": "stdout",
     "text": "pygame 1.9.6\nHello from the pygame community. https://www.pygame.org/contribute.html\n"
    }
   ],
   "source": [
    "!python scale_translate_teapot.py"
   ]
  },
  {
   "cell_type": "markdown",
   "metadata": {},
   "source": [
    "## 4.1.2 Composing vector transformations"
   ]
  },
  {
   "cell_type": "markdown",
   "metadata": {},
   "source": [
    "When function ends with `()` -- *parentheses*, it means that function will be executed  \n",
    "* [Programming Terms: First-Class Functions](https://www.youtube.com/watch?v=kr0mpwqttM0)  \n",
    "* [Currying - Pycon Africa](https://www.youtube.com/watch?v=L3G7BH7n0K0&list=LL4vFTVTAJuWCzJysoHgHzkA&index=3)  \n",
    "* [Currying - python-course](https://www.python-course.eu/currying_in_python.php#General-Idea)  \n",
    "* [Currying in Python](https://mtomassoli.wordpress.com/2012/03/18/currying-in-python/)  "
   ]
  },
  {
   "source": [
    "We can write a general-purpose compose function that takes two Python functions (vector transformations for instance) and returns a new function, which is their composition:"
   ],
   "cell_type": "markdown",
   "metadata": {}
  },
  {
   "cell_type": "code",
   "execution_count": 1,
   "metadata": {},
   "outputs": [],
   "source": [
    "def compose(f1,f2):\n",
    "    def new_function(input):\n",
    "        return f1(f2(input))\n",
    "    return new_function"
   ]
  },
  {
   "source": [
    "```\n",
    "def scale2_then_translate1left(v):    \n",
    "      return translate1left(scale2(v))\n",
    "```\n",
    "      \n",
    "Instead of defining scale2_then_translate1left as its own function, we could write:  \n",
    "\n",
    "`scale2_then_translate1left = compose(translate1left, scale2)`\n",
    "\n",
    "this is called *composition of function*\n",
    "\n",
    "**The composition of two functions is a chaining process in which the output of the inner function becomes the input of the outer function.**"
   ],
   "cell_type": "markdown",
   "metadata": {}
  },
  {
   "cell_type": "code",
   "execution_count": 2,
   "metadata": {},
   "outputs": [],
   "source": [
    "def square(x):\n",
    "    return x**2\n",
    "def adding(x):\n",
    "    return x+x"
   ]
  },
  {
   "cell_type": "code",
   "execution_count": 3,
   "metadata": {},
   "outputs": [
    {
     "output_type": "execute_result",
     "data": {
      "text/plain": "4"
     },
     "metadata": {},
     "execution_count": 3
    }
   ],
   "source": [
    "square_adding = compose(square, adding)\n",
    "square_adding(1)"
   ]
  },
  {
   "cell_type": "code",
   "execution_count": 4,
   "metadata": {},
   "outputs": [],
   "source": [
    "from vectors import scale \n",
    "\n",
    "def scale2(v): \n",
    "    return scale(2.0, v)"
   ]
  },
  {
   "cell_type": "code",
   "execution_count": 5,
   "metadata": {},
   "outputs": [],
   "source": [
    "def polygon_map(transformation, polygons):\n",
    "    return [\n",
    "        [transformation(vertex) for vertex in triangle]\n",
    "        for triangle in polygons\n",
    "    ]"
   ]
  },
  {
   "cell_type": "code",
   "execution_count": 6,
   "metadata": {},
   "outputs": [
    {
     "output_type": "execute_result",
     "data": {
      "text/plain": "[(1.4, 1.0521480000000003, 0.0),\n (1.2734839999999998, 1.124108, -0.541836),\n (1.2915, 1.0521480000000003, -0.5495)]"
     },
     "metadata": {},
     "execution_count": 6
    }
   ],
   "source": [
    "from teapot import load_triangles\n",
    "\n",
    "polygon_map(scale2, load_triangles())[0]"
   ]
  },
  {
   "cell_type": "code",
   "execution_count": 7,
   "metadata": {
    "tags": []
   },
   "outputs": [
    {
     "output_type": "stream",
     "name": "stdout",
     "text": "pygame 1.9.6\nHello from the pygame community. https://www.pygame.org/contribute.html\n"
    }
   ],
   "source": [
    "from draw_model import draw_model\n",
    "\n",
    "#draw_model(polygon_map(scale2, load_triangles()))"
   ]
  },
  {
   "cell_type": "code",
   "execution_count": 8,
   "metadata": {},
   "outputs": [],
   "source": [
    "def scale_by(scalar):\n",
    "    def new_function(v):\n",
    "        return scale(scalar, v)\n",
    "    return new_function"
   ]
  },
  {
   "cell_type": "code",
   "execution_count": 9,
   "metadata": {},
   "outputs": [
    {
     "output_type": "execute_result",
     "data": {
      "text/plain": "(2, 2, 2)"
     },
     "metadata": {},
     "execution_count": 9
    }
   ],
   "source": [
    "scale2 = scale_by(2)\n",
    "scale2((1,1,1))"
   ]
  },
  {
   "cell_type": "code",
   "execution_count": 10,
   "metadata": {},
   "outputs": [
    {
     "output_type": "execute_result",
     "data": {
      "text/plain": "(2, 2, 2)"
     },
     "metadata": {},
     "execution_count": 10
    }
   ],
   "source": [
    "scale_by(2)((1,1,1))"
   ]
  },
  {
   "cell_type": "code",
   "execution_count": 11,
   "metadata": {},
   "outputs": [],
   "source": [
    "from vectors import add\n",
    "\n",
    "def translate_by(xform):\n",
    "    def new_function(v):\n",
    "        return add((xform), (v))\n",
    "    return new_function"
   ]
  },
  {
   "cell_type": "code",
   "execution_count": 12,
   "metadata": {},
   "outputs": [
    {
     "output_type": "execute_result",
     "data": {
      "text/plain": "(1, 6, 1)"
     },
     "metadata": {},
     "execution_count": 12
    }
   ],
   "source": [
    "translate2 = translate_by((0,5,0))\n",
    "translate2((1,1,1))"
   ]
  },
  {
   "cell_type": "code",
   "execution_count": 13,
   "metadata": {},
   "outputs": [
    {
     "output_type": "execute_result",
     "data": {
      "text/plain": "(1, 6, 1)"
     },
     "metadata": {},
     "execution_count": 13
    }
   ],
   "source": [
    "translate_by((0,5,0))((1,1,1))"
   ]
  },
  {
   "cell_type": "markdown",
   "metadata": {},
   "source": [
    "## 4.1.3 Rotating an object about an axis"
   ]
  },
  {
   "source": [
    "You already saw how to do rotations in 2D in chapter 2: you convert the Cartesian coordinates to polar coordinates, increase or decrease the angle by the rotation factor, and then convert back."
   ],
   "cell_type": "markdown",
   "metadata": {}
  },
  {
   "cell_type": "code",
   "execution_count": 14,
   "metadata": {},
   "outputs": [],
   "source": [
    "def rotate2d(angle, vector): \n",
    "    l,a = to_polar(vector)\n",
    "    return to_cartesian((l, a+angle))"
   ]
  },
  {
   "cell_type": "code",
   "execution_count": 15,
   "metadata": {
    "tags": []
   },
   "outputs": [
    {
     "output_type": "stream",
     "name": "stdout",
     "text": "pygame 1.9.6\nHello from the pygame community. https://www.pygame.org/contribute.html\n"
    }
   ],
   "source": [
    "!python rotate_teapot.py"
   ]
  },
  {
   "cell_type": "code",
   "execution_count": 16,
   "metadata": {},
   "outputs": [],
   "source": [
    "def rotate_z(angle, vector): \n",
    "    x,y,z = vector \n",
    "    new_x, new_y = rotate2d(angle, (x,y)) \n",
    "    return new_x, new_y, z\n",
    "\n",
    "# currying rotate_z()\n",
    "def rotate_z_by(angle):\n",
    "    def new_function(vector):\n",
    "        return rotate_z(angle, vector)\n",
    "    return new_function"
   ]
  },
  {
   "cell_type": "code",
   "execution_count": 17,
   "metadata": {},
   "outputs": [],
   "source": [
    "from math import *\n",
    "from transforms import to_polar, to_cartesian\n",
    "\n",
    "#draw_model(polygon_map(rotate_z_by(pi/4.), load_triangles()))"
   ]
  },
  {
   "cell_type": "code",
   "execution_count": 18,
   "metadata": {},
   "outputs": [],
   "source": [
    "from functools import partial\n",
    "\n",
    "rot_z = partial(rotate_z, pi/2.)\n",
    "\n",
    "#draw_model(polygon_map(rot_z, load_triangles()))"
   ]
  },
  {
   "cell_type": "code",
   "execution_count": 19,
   "metadata": {},
   "outputs": [],
   "source": [
    "def rotate_x(angle, vector):\n",
    "    x,y,z = vector\n",
    "    new_y, new_z = rotate2d(angle, (y,z))\n",
    "    return x, new_y, new_z\n",
    "\n",
    "# currying rotate_x()\n",
    "def rotate_x_by(angle):\n",
    "    def new_func(vector):\n",
    "        return rotate_x(angle, vector)\n",
    "    return new_func"
   ]
  },
  {
   "cell_type": "code",
   "execution_count": 20,
   "metadata": {
    "tags": []
   },
   "outputs": [
    {
     "output_type": "stream",
     "name": "stdout",
     "text": "pygame 1.9.6\nHello from the pygame community. https://www.pygame.org/contribute.html\n"
    }
   ],
   "source": [
    "#draw_model(polygon_map(rotate_x_by(pi/2.), load_triangles()))\n",
    "\n",
    "!python rotate_teapot_x.py"
   ]
  },
  {
   "source": [
    "## 4.1.4 Inventing your own geometric transformations"
   ],
   "cell_type": "markdown",
   "metadata": {}
  },
  {
   "cell_type": "code",
   "execution_count": 21,
   "metadata": {},
   "outputs": [],
   "source": [
    "def strech_x(vector):\n",
    "    x,y,z = vector\n",
    "    return (4.*x, y, z)"
   ]
  },
  {
   "cell_type": "code",
   "execution_count": 22,
   "metadata": {
    "tags": []
   },
   "outputs": [
    {
     "output_type": "stream",
     "name": "stdout",
     "text": "pygame 1.9.6\nHello from the pygame community. https://www.pygame.org/contribute.html\n"
    }
   ],
   "source": [
    "!python stretch_teapot.py"
   ]
  },
  {
   "cell_type": "code",
   "execution_count": 23,
   "metadata": {},
   "outputs": [],
   "source": [
    "def stretch_y(vector):\n",
    "    x,y,z = vector\n",
    "    return (x, 2.*y, z)\n",
    "\n",
    "#draw_model(polygon_map(stretch_y, load_triangles()))"
   ]
  },
  {
   "cell_type": "code",
   "execution_count": 24,
   "metadata": {},
   "outputs": [],
   "source": [
    "def stretch_z(vector):\n",
    "    x,y,z = vector\n",
    "    return (x, y*y*y, z)\n",
    "\n",
    "#draw_model(polygon_map(stretch_z, load_triangles()))"
   ]
  },
  {
   "cell_type": "code",
   "execution_count": 25,
   "metadata": {},
   "outputs": [],
   "source": [
    "def slant_xy(vector):\n",
    "    x,y,z = vector\n",
    "    return (x+y, y, z)\n",
    "\n",
    "#draw_model(polygon_map(slant_xy, load_triangles()))"
   ]
  },
  {
   "source": [
    "## 4.1.5 Exercises"
   ],
   "cell_type": "markdown",
   "metadata": {}
  },
  {
   "source": [
    "**Exercise 4.1:** Implement a `translate_by` function referred to in section 4.1.2, taking a translation vector as an input and returning a translation function as an output."
   ],
   "cell_type": "markdown",
   "metadata": {}
  },
  {
   "cell_type": "code",
   "execution_count": 26,
   "metadata": {},
   "outputs": [],
   "source": [
    "def translate_by(vector1):\n",
    "    def new_function(vector2):\n",
    "        return add(vector1, vector2)\n",
    "    return new_function"
   ]
  },
  {
   "cell_type": "code",
   "execution_count": 27,
   "metadata": {},
   "outputs": [],
   "source": [
    "translate_by_1 = translate_by((1,1,1))"
   ]
  },
  {
   "cell_type": "code",
   "execution_count": 28,
   "metadata": {},
   "outputs": [],
   "source": [
    "#draw_model(polygon_map(translate_by_1, load_triangles()))"
   ]
  },
  {
   "source": [
    "**Exercise 4.6:** Modify the `compose(f,g)` function to `compose(*args)`, which takes several functions as arguments and returns a new function that is their composition."
   ],
   "cell_type": "markdown",
   "metadata": {}
  },
  {
   "cell_type": "code",
   "execution_count": 29,
   "metadata": {
    "tags": []
   },
   "outputs": [
    {
     "output_type": "stream",
     "name": "stdout",
     "text": "(4, 3, 2, 1)\n4 3 2 1\n"
    },
    {
     "output_type": "execute_result",
     "data": {
      "text/plain": "10"
     },
     "metadata": {},
     "execution_count": 29
    }
   ],
   "source": [
    "def adding(*args):\n",
    "    print(args) #original\n",
    "    print(*args) #unpacked\n",
    "    return sum(args)\n",
    "\n",
    "adding(4,3,2,1)"
   ]
  },
  {
   "cell_type": "code",
   "execution_count": 30,
   "metadata": {},
   "outputs": [],
   "source": [
    "def compose(*args):\n",
    "    def new_function(input):\n",
    "        state = input\n",
    "        for f in reversed(args):\n",
    "            state = f(state)\n",
    "        return state\n",
    "    return new_function"
   ]
  },
  {
   "cell_type": "code",
   "execution_count": 31,
   "metadata": {},
   "outputs": [
    {
     "output_type": "execute_result",
     "data": {
      "text/plain": "(6, 6, 6)"
     },
     "metadata": {},
     "execution_count": 31
    }
   ],
   "source": [
    "scale_add = compose(scale_by(2), translate_by((1,1,1)))\n",
    "scale_add((2,2,2))"
   ]
  },
  {
   "cell_type": "code",
   "execution_count": 32,
   "metadata": {},
   "outputs": [],
   "source": [
    "def prepend(string):\n",
    "    def new_function(input):\n",
    "        return string + input\n",
    "    return new_function"
   ]
  },
  {
   "cell_type": "code",
   "execution_count": 33,
   "metadata": {},
   "outputs": [
    {
     "output_type": "execute_result",
     "data": {
      "text/plain": "'Python'"
     },
     "metadata": {},
     "execution_count": 33
    }
   ],
   "source": [
    "f = compose(prepend('P'), prepend('y'), prepend('t'))\n",
    "f('hon')"
   ]
  },
  {
   "source": [
    "**Exercise 4.2:** Render the teapot translated by 20 units in the negative z direction. What does the resulting image look like?\n"
   ],
   "cell_type": "markdown",
   "metadata": {}
  },
  {
   "cell_type": "code",
   "execution_count": 34,
   "metadata": {},
   "outputs": [],
   "source": [
    "translate_z = translate_by((0,0,-20))\n",
    "#draw_model(polygon_map(translate_z, load_triangles()))"
   ]
  },
  {
   "source": [
    "**Mini-project 4.3:** What happens to the teapot when you scale every vector by a scalar between 0 and 1? What happens when you scale it by a factor of -1?"
   ],
   "cell_type": "markdown",
   "metadata": {}
  },
  {
   "cell_type": "code",
   "execution_count": 35,
   "metadata": {},
   "outputs": [],
   "source": [
    "#draw_model(polygon_map(scale_by(0.5), load_triangles()))"
   ]
  },
  {
   "cell_type": "code",
   "execution_count": 36,
   "metadata": {},
   "outputs": [],
   "source": [
    "#draw_model(polygon_map(scale_by(-1), load_triangles()))"
   ]
  },
  {
   "source": [
    "**Exercise 4.4:** First apply translate1left to the teapot and then apply scale2. How is the result different from the opposite order of composition? Why?"
   ],
   "cell_type": "markdown",
   "metadata": {}
  },
  {
   "cell_type": "code",
   "execution_count": 37,
   "metadata": {},
   "outputs": [],
   "source": [
    "trans_scale = compose(translate_by((-1,0,0)), scale_by(2))\n",
    "#draw_model(polygon_map(trans_scale, load_triangles()))"
   ]
  },
  {
   "cell_type": "code",
   "execution_count": 38,
   "metadata": {},
   "outputs": [],
   "source": [
    "scale_trans = compose(scale_by(2), translate_by((-1,0,0)))\n",
    "#draw_model(polygon_map((scale_trans), load_triangles()))"
   ]
  },
  {
   "source": [
    "**Exercise 4.7:** Write a curry2(f) function that takes a Python function f(x,y) with two arguments and returns a curried version. For instance, once you write g = curry2(f), the two expressions f(x,y) and g(x)(y) should return the same result."
   ],
   "cell_type": "markdown",
   "metadata": {}
  },
  {
   "cell_type": "code",
   "execution_count": 39,
   "metadata": {},
   "outputs": [],
   "source": [
    "def curry2(f):\n",
    "    def new_function1(input1):\n",
    "        def new_function2(input2):\n",
    "            return f(input1, input2)\n",
    "        return new_function2\n",
    "    return new_function1"
   ]
  },
  {
   "cell_type": "code",
   "execution_count": 40,
   "metadata": {},
   "outputs": [
    {
     "output_type": "execute_result",
     "data": {
      "text/plain": "((5, 0, 0), (5, 0, 0))"
     },
     "metadata": {},
     "execution_count": 40
    }
   ],
   "source": [
    "r = (1,0,0)\n",
    "s = 5\n",
    "\n",
    "scale_curried = curry2(scale)\n",
    "scale_curried(s)(r), scale(s,r)"
   ]
  },
  {
   "cell_type": "code",
   "execution_count": 41,
   "metadata": {},
   "outputs": [
    {
     "output_type": "execute_result",
     "data": {
      "text/plain": "(2, 4, 6)"
     },
     "metadata": {},
     "execution_count": 41
    }
   ],
   "source": [
    "scale_by = curry2(scale)\n",
    "scale_by(2)((1,2,3))"
   ]
  },
  {
   "source": [
    "**Exercise 4.8:** Without running it, what is the result of applying the transformation compose(rotate_z_by(pi/2),rotate_x_by(pi/2))? What if you switch the order of the composition?"
   ],
   "cell_type": "markdown",
   "metadata": {}
  },
  {
   "cell_type": "code",
   "execution_count": 74,
   "metadata": {},
   "outputs": [],
   "source": [
    "#draw_model(polygon_map(rotate_z_by(pi/2), load_triangles()))\n",
    "#draw_model(polygon_map(rotate_x_by(pi/2), load_triangles()))\n",
    "#draw_model(polygon_map(compose(rotate_z_by(pi/2), rotate_x_by(pi/2)), load_triangles()))\n",
    "#draw_model(polygon_map(compose(rotate_x_by(pi/2), rotate_z_by(pi/2)), load_triangles()))"
   ]
  },
  {
   "source": [
    "**Exercise 4.9:** Write a function stretch_x(scalar,vector) that scales the target vector by the given factor but only in the x direction. Also write a curried version stretch_x_by so that stretch_x_by(scalar)(vector) returns the same result."
   ],
   "cell_type": "markdown",
   "metadata": {}
  },
  {
   "cell_type": "code",
   "execution_count": 78,
   "metadata": {},
   "outputs": [],
   "source": [
    "def stretch_x(scalar, vector):\n",
    "    x,y,z = vector\n",
    "    return x*scalar, y, z"
   ]
  },
  {
   "cell_type": "code",
   "execution_count": 79,
   "metadata": {},
   "outputs": [
    {
     "output_type": "execute_result",
     "data": {
      "text/plain": "(5, 1, 1)"
     },
     "metadata": {},
     "execution_count": 79
    }
   ],
   "source": [
    "stretch_x(5, (1,1,1))"
   ]
  },
  {
   "cell_type": "code",
   "execution_count": 84,
   "metadata": {},
   "outputs": [],
   "source": [
    "def strecth_x_by(scalar):\n",
    "    def new_function(vector):\n",
    "        return stretch_x(scalar, vector)\n",
    "    return new_function"
   ]
  },
  {
   "cell_type": "code",
   "execution_count": 86,
   "metadata": {},
   "outputs": [
    {
     "output_type": "execute_result",
     "data": {
      "text/plain": "(5, 1, 1)"
     },
     "metadata": {},
     "execution_count": 86
    }
   ],
   "source": [
    "strecth_x_by(5)((1,1,1))"
   ]
  },
  {
   "cell_type": "code",
   "execution_count": null,
   "metadata": {},
   "outputs": [],
   "source": []
  }
 ]
}