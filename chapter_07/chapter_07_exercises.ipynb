{
 "metadata": {
  "language_info": {
   "codemirror_mode": {
    "name": "ipython",
    "version": 3
   },
   "file_extension": ".py",
   "mimetype": "text/x-python",
   "name": "python",
   "nbconvert_exporter": "python",
   "pygments_lexer": "ipython3",
   "version": "3.7.5"
  },
  "orig_nbformat": 2,
  "kernelspec": {
   "name": "python375jvsc74a57bd039186e0ee03719450e25f96b33f5f37448852afa64e693a51906c0790c4cf153",
   "display_name": "Python 3.7.5 64-bit ('python37': conda)"
  }
 },
 "nbformat": 4,
 "nbformat_minor": 2,
 "cells": [
  {
   "source": [
    "# 7 Solving systems of linear equations"
   ],
   "cell_type": "markdown",
   "metadata": {}
  },
  {
   "source": [
    "When you think of algebra, you probably think of problems that require “solving for x.” For instance, you probably spent quite a bit of time in algebra class learning to solve equations like 3x**2 + 2x + 4 = 0; that is, figuring out what value or values of x make the equation true.\n",
    "\n",
    "Linear algebra, being a branch of algebra, has the same kinds of computational questions. The difference is that what you want to solve for may be a vector or matrix rather than a number."
   ],
   "cell_type": "markdown",
   "metadata": {}
  },
  {
   "source": [
    "I’m going to cover the most important class of linear algebra problems you’ll see in the wild: systems of linear equations. These problems boil down to finding points where lines, planes, or their higher dimensional analogies intersect."
   ],
   "cell_type": "markdown",
   "metadata": {}
  },
  {
   "source": [
    "## 7.1 Designing an arcade game"
   ],
   "cell_type": "markdown",
   "metadata": {}
  },
  {
   "source": [
    "To get started, we model the entities of the game — **the spaceship**, **the laser**, and the **asteroids** — and show how to render them onscreen."
   ],
   "cell_type": "markdown",
   "metadata": {}
  },
  {
   "source": [
    "### 7.1.1 Modeling the game"
   ],
   "cell_type": "markdown",
   "metadata": {}
  },
  {
   "cell_type": "code",
   "execution_count": 127,
   "metadata": {},
   "outputs": [],
   "source": [
    "# PolygonModel class represents a game entity (the ship or an asteroid) that keeps its shape but can translate or rotate.\n",
    "import vectors\n",
    "from random import *\n",
    "from math import pi, sqrt, cos, sin, atan2\n",
    "\n",
    "class PolygonModel():\n",
    "    def __init__(self, points):\n",
    "        self.points = points\n",
    "        self.rotation_angle = 0\n",
    "        self.x = 0\n",
    "        self.y = 0"
   ]
  },
  {
   "cell_type": "code",
   "execution_count": 14,
   "metadata": {},
   "outputs": [],
   "source": [
    "class Ship(PolygonModel):\n",
    "    def __init__(self):\n",
    "        super().__init__([(0.5,0), (-0.25,0.25), (-0.25,-0.25)])"
   ]
  },
  {
   "cell_type": "code",
   "execution_count": 15,
   "metadata": {},
   "outputs": [],
   "source": [
    "class Asteroid(PolygonModel):\n",
    "    def __init__(self):\n",
    "        sides = randint(5,9)\n",
    "        vs = [vectors.to_cartesian((uniform(0.5,1.0), 2*pi*i/sides)) \n",
    "                for i in range(0, sides)]"
   ]
  },
  {
   "source": [
    "### 7.1.2 Rendering the game"
   ],
   "cell_type": "markdown",
   "metadata": {}
  },
  {
   "cell_type": "code",
   "execution_count": 31,
   "metadata": {},
   "outputs": [],
   "source": [
    "ship = Ship()\n",
    "\n",
    "asteroid_count = 10\n",
    "asteroids = [Asteroid() for _ in range(0, asteroid_count)]\n",
    "\n",
    "for ast in asteroids:\n",
    "    ast.x = randint(-9,9)\n",
    "    ast.y = randint(-9,9)"
   ]
  },
  {
   "cell_type": "code",
   "execution_count": 137,
   "metadata": {},
   "outputs": [],
   "source": [
    "# my implemetation \n",
    "def to_pixels(coord_range_x, coord_range_y, pix_range_x, pix_range_y, x, y):\n",
    "    coord_x_start, coord_x_stop = coord_range_x\n",
    "    coord_y_start, coord_y_stop = coord_range_y\n",
    "    pix_x_start, pix_x_stop = pix_range_x\n",
    "    pix_y_start, pix_y_stop = pix_range_y\n",
    "    \n",
    "    s_x = (coord_x_stop - x) / (coord_x_stop - coord_x_start)\n",
    "    s_y = 1 - ((coord_y_stop - y) / (coord_y_stop - coord_y_start))\n",
    "\n",
    "    x_pix = s_x * pix_x_start + (1 - s_x) * pix_x_stop\n",
    "    y_pix = s_y * pix_y_start + (1 - s_y) * pix_y_stop\n",
    "\n",
    "    return (x_pix, y_pix)"
   ]
  },
  {
   "cell_type": "code",
   "execution_count": 114,
   "metadata": {},
   "outputs": [
    {
     "output_type": "execute_result",
     "data": {
      "text/plain": [
       "(0.0, 400.0)"
      ]
     },
     "metadata": {},
     "execution_count": 114
    }
   ],
   "source": [
    "pixs = to_pixel((-10,10), (-10,10), (0,400), (0,400), -10, -10)\n",
    "pixs"
   ]
  },
  {
   "cell_type": "code",
   "execution_count": 115,
   "metadata": {},
   "outputs": [],
   "source": [
    "GREEN = (0, 255, 0) \n",
    "def draw_poly(screen, polygon_model, color=GREEN): \n",
    "    pixel_points = [to_pixels(x,y) for x,y in polygon_model.transformed()] \n",
    "    pygame.draw.aalines(screen, color, True, pixel_points, 10) #<1>"
   ]
  },
  {
   "source": [
    "### 7.1.3 Shooting the laser"
   ],
   "cell_type": "markdown",
   "metadata": {}
  },
  {
   "cell_type": "code",
   "execution_count": 116,
   "metadata": {},
   "outputs": [],
   "source": [
    "class Ship(PolygonModel):\n",
    "    def __init__(self):\n",
    "        super().__init__([(0.5,0), (-0.25,0.25), (-0.25,-0.25)])\n",
    "\n",
    "    def laser_segment(self):\n",
    "        dist = 20 * sqrt(2)\n",
    "        x,y = self.transformed()[0]\n",
    "        return (\n",
    "                (x,y), \n",
    "                (x + dist * cos(self.rotation_angle)), \n",
    "                (y + dist * sin(self.rotation_angle))\n",
    "                )"
   ]
  },
  {
   "cell_type": "code",
   "execution_count": null,
   "metadata": {},
   "outputs": [],
   "source": [
    "laser = ship.laser_segment() #<1> \n",
    "     \n",
    "    keys = pygame.key.get_pressed() #<2> \n",
    "     if keys[pygame.K_SPACE]: \n",
    "         draw_segment(*laser) \n",
    " \n",
    "         for asteroid in asteroids: \n",
    "             if asteroid.does_intersect(laser): #<3> \n",
    "                 asteroids.remove(asteroid)"
   ]
  },
  {
   "source": [
    "### 7.1.4 Exercises"
   ],
   "cell_type": "markdown",
   "metadata": {}
  },
  {
   "source": [
    "**Exercise 7.1:** Implement a transformed() method on the PolygonModel that returns the points of the model translated by the object’s x and y attributes and rotated by its rotation_angle attribute."
   ],
   "cell_type": "markdown",
   "metadata": {}
  },
  {
   "cell_type": "code",
   "execution_count": 129,
   "metadata": {},
   "outputs": [],
   "source": [
    "class PolygonModel():\n",
    "    def __init__(self, points):\n",
    "        self.points = points\n",
    "        self.rotation_angle = 0\n",
    "        self.x = 0\n",
    "        self.y = 0\n",
    "\n",
    "    # Make sure to apply the rotation first; Order of operation\n",
    "    def transformed(self):\n",
    "        rot = [vectors.rotate2d(self.rotation_angle, point) for point in self.points]\n",
    "        return [vectors.add((self.x, self.y), point) for point in rot]\n",
    "    "
   ]
  },
  {
   "source": [
    "\n",
    "Exercise 7.2: Write a function to_pixels(x,y) that takes a pair of x- and y-coordinates in the square where -10 < x < 10 and -10 < y < 10 and maps them to the corresponding PyGame x and y pixel coordinates, each ranging from 0 to 400.\n"
   ],
   "cell_type": "markdown",
   "metadata": {}
  },
  {
   "cell_type": "code",
   "execution_count": 136,
   "metadata": {},
   "outputs": [],
   "source": [
    "# my implemetation \n",
    "def to_pixels(coord_range_x, coord_range_y, pix_range_x, pix_range_y, x, y):\n",
    "    coord_x_start, coord_x_stop = coord_range_x\n",
    "    coord_y_start, coord_y_stop = coord_range_y\n",
    "    pix_x_start, pix_x_stop = pix_range_x\n",
    "    pix_y_start, pix_y_stop = pix_range_y\n",
    "    \n",
    "    s_x = (coord_x_stop - x) / (coord_x_stop - coord_x_start)\n",
    "    s_y = 1 - ((coord_y_stop - y) / (coord_y_stop - coord_y_start))\n",
    "\n",
    "    x_pix = s_x * pix_x_start + (1 - s_x) * pix_x_stop\n",
    "    y_pix = s_y * pix_y_start + (1 - s_y) * pix_y_stop\n",
    "\n",
    "    return (x_pix, y_pix)"
   ]
  },
  {
   "cell_type": "code",
   "execution_count": 135,
   "metadata": {},
   "outputs": [
    {
     "output_type": "execute_result",
     "data": {
      "text/plain": [
       "(400.0, 400.0)"
      ]
     },
     "metadata": {},
     "execution_count": 135
    }
   ],
   "source": [
    "pixs = to_pixel((-10,10), (-10,10), (0,400), (0,400), 10, -10)\n",
    "pixs"
   ]
  },
  {
   "cell_type": "code",
   "execution_count": 138,
   "metadata": {},
   "outputs": [],
   "source": [
    "width, height = 400, 400\n",
    "def to_pixels(x,y):\n",
    "    return (width/2 + width * x / 20, height/2 - height * y / 20)"
   ]
  },
  {
   "source": [
    "## 7.2 Finding intersection points of lines"
   ],
   "cell_type": "markdown",
   "metadata": {}
  },
  {
   "source": [
    "### 7.2.1 Choosing the right formula for a line"
   ],
   "cell_type": "markdown",
   "metadata": {}
  },
  {
   "source": [
    "### 7.2.2 Finding the standard form equation for a line"
   ],
   "cell_type": "markdown",
   "metadata": {}
  },
  {
   "source": [
    "### 7.2.3 Linear equations in matrix notation"
   ],
   "cell_type": "markdown",
   "metadata": {}
  },
  {
   "source": [
    "TODO: go over chapter_5 again"
   ],
   "cell_type": "markdown",
   "metadata": {}
  },
  {
   "source": [
    "We’re talking about a bunch of different concepts at once here: linear equations, linear combinations, matrices, and linear transformations. The point is that this is a fundamental kind of problem in linear algebra; you can look at it from several different perspectives. In the next section, we’ll see how they all fit together, but for now, let’s focus on solving the problem at hand."
   ],
   "cell_type": "markdown",
   "metadata": {}
  },
  {
   "source": [
    "### 7.2.4 Solving linear equations with NumPy"
   ],
   "cell_type": "markdown",
   "metadata": {}
  },
  {
   "source": [
    "import numpy as np\n",
    "\n",
    "matrix = np.array(((-1,1), (1,2)))\n",
    "output = np.array((0,8))\n",
    "np.linalg.solve(matrix, output)"
   ],
   "cell_type": "code",
   "metadata": {},
   "execution_count": 3,
   "outputs": [
    {
     "output_type": "execute_result",
     "data": {
      "text/plain": [
       "array([2.66666667, 2.66666667])"
      ]
     },
     "metadata": {},
     "execution_count": 3
    }
   ]
  },
  {
   "source": [
    "This is perhaps the most important computational task in linear algebra: starting with a matrix `A`, and a vector `w`, and finding the vector `v` such that `Av` = w. Such a vector gives the solution to a system of linear equations represented by `A` and `w`."
   ],
   "cell_type": "markdown",
   "metadata": {}
  },
  {
   "source": [
    "### 7.2.5 Deciding whether the laser hits an asteroid"
   ],
   "cell_type": "markdown",
   "metadata": {}
  },
  {
   "source": [
    "First, we need to convert the given line segments from pairs of endpoint vectors to linear equations in standard form. (u1, u1) --> (ax + by = c)\n",
    "\n",
    "Next, given two segments, each represented by its pair of endpoint vectors, we want to find out where their lines intersect.\n",
    "\n"
   ],
   "cell_type": "markdown",
   "metadata": {}
  },
  {
   "cell_type": "code",
   "execution_count": null,
   "metadata": {},
   "outputs": [],
   "source": [
    "def intersection(u1,u2,v1,v2): \n",
    "     a1, b1, c1 = standard_form(u1,u2) \n",
    "     a2, b2, c2 = standard_form(v1,v2) \n",
    "     m = np.array(((a1,b1),(a2,b2))) \n",
    "     c = np.array((c1,c2)) \n",
    "     return np.linalg.solve(m,c)"
   ]
  },
  {
   "source": [
    "The output is the point where the two lines on which the segments lie intersect. But this point might not lie on either of the segments as shown in figure 7.17.\n",
    "\n",
    "To detect whether the two segments intersect, we need to check that the intersection point of their lines lies between the two pairs of endpoints. We can check that using distances."
   ],
   "cell_type": "markdown",
   "metadata": {}
  },
  {
   "cell_type": "code",
   "execution_count": null,
   "metadata": {},
   "outputs": [],
   "source": [
    "def do_segments_intersect(s1,s2): \n",
    "    u1,u2 = s1 \n",
    "    v1,v2 = s2 \n",
    "    d1, d2 = distance(*s1), distance(*s2) #<1> \n",
    "    x,y = intersection(u1,u2,v1,v2) #<2> \n",
    "    return (distance(u1, (x,y)) <= d1 and #<3> \n",
    "            distance(u2, (x,y)) <= d1 and \n",
    "            distance(v1, (x,y)) <= d2 and \n",
    "            distance(v2, (x,y)) <= d2)"
   ]
  },
  {
   "source": [
    "Finally, we can write the does_intersect method by checking whether do_segments_intersect returns True for the input segment and any of the edges of the (transformed) polygon:"
   ],
   "cell_type": "markdown",
   "metadata": {}
  },
  {
   "cell_type": "code",
   "execution_count": null,
   "metadata": {},
   "outputs": [],
   "source": [
    "class PolygonModel(): \n",
    "     ... \n",
    "     def does_intersect(self, other_segment):\n",
    "        for segment in self.segments():\n",
    "            if do_segments_intersect(other_segment,segment):\n",
    "                return True\n",
    "        return False"
   ]
  },
  {
   "source": [
    "### 7.2.6 Identifying unsolvable systems\n"
   ],
   "cell_type": "markdown",
   "metadata": {}
  },
  {
   "source": [
    "Let me leave you with one final admonition: not every system of linear equations in 2D can be solved!\n",
    "\n",
    "Where we run into trouble is when the lines are parallel, meaning the lines never intersect (or they’re the same line!) as shown in figure 7.19.\n",
    "\n"
   ],
   "cell_type": "markdown",
   "metadata": {}
  },
  {
   "source": [
    "In the first case, there are zero intersection points, while in the second, there are infinitely many intersection points—every point on the line is an intersection point. Both of these cases are problematic computationally because our code demands a single, unique result. If we try to solve either of these systems with NumPy, for instance, the system consisting of 2x + y = 6 and 4x + 2y = 8, we get an exception:"
   ],
   "cell_type": "markdown",
   "metadata": {}
  },
  {
   "cell_type": "code",
   "execution_count": 2,
   "metadata": {},
   "outputs": [
    {
     "output_type": "error",
     "ename": "LinAlgError",
     "evalue": "Singular matrix",
     "traceback": [
      "\u001b[0;31m---------------------------------------------------------------------------\u001b[0m",
      "\u001b[0;31mLinAlgError\u001b[0m                               Traceback (most recent call last)",
      "\u001b[0;32m<ipython-input-2-f3ec0821de89>\u001b[0m in \u001b[0;36m<module>\u001b[0;34m\u001b[0m\n\u001b[1;32m      2\u001b[0m \u001b[0mm\u001b[0m \u001b[0;34m=\u001b[0m \u001b[0mnp\u001b[0m\u001b[0;34m.\u001b[0m\u001b[0marray\u001b[0m\u001b[0;34m(\u001b[0m\u001b[0;34m(\u001b[0m\u001b[0;34m(\u001b[0m\u001b[0;36m2\u001b[0m\u001b[0;34m,\u001b[0m\u001b[0;36m1\u001b[0m\u001b[0;34m)\u001b[0m\u001b[0;34m,\u001b[0m\u001b[0;34m(\u001b[0m\u001b[0;36m4\u001b[0m\u001b[0;34m,\u001b[0m\u001b[0;36m2\u001b[0m\u001b[0;34m)\u001b[0m\u001b[0;34m)\u001b[0m\u001b[0;34m)\u001b[0m\u001b[0;34m\u001b[0m\u001b[0;34m\u001b[0m\u001b[0m\n\u001b[1;32m      3\u001b[0m \u001b[0mv\u001b[0m \u001b[0;34m=\u001b[0m \u001b[0mnp\u001b[0m\u001b[0;34m.\u001b[0m\u001b[0marray\u001b[0m\u001b[0;34m(\u001b[0m\u001b[0;34m(\u001b[0m\u001b[0;36m6\u001b[0m\u001b[0;34m,\u001b[0m\u001b[0;36m4\u001b[0m\u001b[0;34m)\u001b[0m\u001b[0;34m)\u001b[0m\u001b[0;34m\u001b[0m\u001b[0;34m\u001b[0m\u001b[0m\n\u001b[0;32m----> 4\u001b[0;31m \u001b[0mnp\u001b[0m\u001b[0;34m.\u001b[0m\u001b[0mlinalg\u001b[0m\u001b[0;34m.\u001b[0m\u001b[0msolve\u001b[0m\u001b[0;34m(\u001b[0m\u001b[0mm\u001b[0m\u001b[0;34m,\u001b[0m\u001b[0mv\u001b[0m\u001b[0;34m)\u001b[0m\u001b[0;34m\u001b[0m\u001b[0;34m\u001b[0m\u001b[0m\n\u001b[0m",
      "\u001b[0;32m<__array_function__ internals>\u001b[0m in \u001b[0;36msolve\u001b[0;34m(*args, **kwargs)\u001b[0m\n",
      "\u001b[0;32m~/anaconda3/envs/python37/lib/python3.7/site-packages/numpy/linalg/linalg.py\u001b[0m in \u001b[0;36msolve\u001b[0;34m(a, b)\u001b[0m\n\u001b[1;32m    401\u001b[0m     \u001b[0msignature\u001b[0m \u001b[0;34m=\u001b[0m \u001b[0;34m'DD->D'\u001b[0m \u001b[0;32mif\u001b[0m \u001b[0misComplexType\u001b[0m\u001b[0;34m(\u001b[0m\u001b[0mt\u001b[0m\u001b[0;34m)\u001b[0m \u001b[0;32melse\u001b[0m \u001b[0;34m'dd->d'\u001b[0m\u001b[0;34m\u001b[0m\u001b[0;34m\u001b[0m\u001b[0m\n\u001b[1;32m    402\u001b[0m     \u001b[0mextobj\u001b[0m \u001b[0;34m=\u001b[0m \u001b[0mget_linalg_error_extobj\u001b[0m\u001b[0;34m(\u001b[0m\u001b[0m_raise_linalgerror_singular\u001b[0m\u001b[0;34m)\u001b[0m\u001b[0;34m\u001b[0m\u001b[0;34m\u001b[0m\u001b[0m\n\u001b[0;32m--> 403\u001b[0;31m     \u001b[0mr\u001b[0m \u001b[0;34m=\u001b[0m \u001b[0mgufunc\u001b[0m\u001b[0;34m(\u001b[0m\u001b[0ma\u001b[0m\u001b[0;34m,\u001b[0m \u001b[0mb\u001b[0m\u001b[0;34m,\u001b[0m \u001b[0msignature\u001b[0m\u001b[0;34m=\u001b[0m\u001b[0msignature\u001b[0m\u001b[0;34m,\u001b[0m \u001b[0mextobj\u001b[0m\u001b[0;34m=\u001b[0m\u001b[0mextobj\u001b[0m\u001b[0;34m)\u001b[0m\u001b[0;34m\u001b[0m\u001b[0;34m\u001b[0m\u001b[0m\n\u001b[0m\u001b[1;32m    404\u001b[0m \u001b[0;34m\u001b[0m\u001b[0m\n\u001b[1;32m    405\u001b[0m     \u001b[0;32mreturn\u001b[0m \u001b[0mwrap\u001b[0m\u001b[0;34m(\u001b[0m\u001b[0mr\u001b[0m\u001b[0;34m.\u001b[0m\u001b[0mastype\u001b[0m\u001b[0;34m(\u001b[0m\u001b[0mresult_t\u001b[0m\u001b[0;34m,\u001b[0m \u001b[0mcopy\u001b[0m\u001b[0;34m=\u001b[0m\u001b[0;32mFalse\u001b[0m\u001b[0;34m)\u001b[0m\u001b[0;34m)\u001b[0m\u001b[0;34m\u001b[0m\u001b[0;34m\u001b[0m\u001b[0m\n",
      "\u001b[0;32m~/anaconda3/envs/python37/lib/python3.7/site-packages/numpy/linalg/linalg.py\u001b[0m in \u001b[0;36m_raise_linalgerror_singular\u001b[0;34m(err, flag)\u001b[0m\n\u001b[1;32m     95\u001b[0m \u001b[0;34m\u001b[0m\u001b[0m\n\u001b[1;32m     96\u001b[0m \u001b[0;32mdef\u001b[0m \u001b[0m_raise_linalgerror_singular\u001b[0m\u001b[0;34m(\u001b[0m\u001b[0merr\u001b[0m\u001b[0;34m,\u001b[0m \u001b[0mflag\u001b[0m\u001b[0;34m)\u001b[0m\u001b[0;34m:\u001b[0m\u001b[0;34m\u001b[0m\u001b[0;34m\u001b[0m\u001b[0m\n\u001b[0;32m---> 97\u001b[0;31m     \u001b[0;32mraise\u001b[0m \u001b[0mLinAlgError\u001b[0m\u001b[0;34m(\u001b[0m\u001b[0;34m\"Singular matrix\"\u001b[0m\u001b[0;34m)\u001b[0m\u001b[0;34m\u001b[0m\u001b[0;34m\u001b[0m\u001b[0m\n\u001b[0m\u001b[1;32m     98\u001b[0m \u001b[0;34m\u001b[0m\u001b[0m\n\u001b[1;32m     99\u001b[0m \u001b[0;32mdef\u001b[0m \u001b[0m_raise_linalgerror_nonposdef\u001b[0m\u001b[0;34m(\u001b[0m\u001b[0merr\u001b[0m\u001b[0;34m,\u001b[0m \u001b[0mflag\u001b[0m\u001b[0;34m)\u001b[0m\u001b[0;34m:\u001b[0m\u001b[0;34m\u001b[0m\u001b[0;34m\u001b[0m\u001b[0m\n",
      "\u001b[0;31mLinAlgError\u001b[0m: Singular matrix"
     ]
    }
   ],
   "source": [
    "import numpy as np \n",
    "m = np.array(((2,1),(4,2))) \n",
    "v = np.array((6,4)) \n",
    "np.linalg.solve(m,v) "
   ]
  },
  {
   "source": [
    "NumPy points to the matrix as the source of the error. The matrix is called a singular matrix, meaning there is no unique solution to the linear system.\n",
    "\n",
    "We’ll philosophize more about singular matrices later, but for now you can see that the rows (2, 1) and (4, 2) and the columns (2, 4) and (1, 2) are both parallel and, therefore, linearly dependent. This is the key clue that tells us the lines are parallel and that the system does not have a unique solution. Solvability of linear systems is one of the central concepts in linear algebra; it closely relates to the notions of linear independence and dimension. We discuss that in the last two sections of this chapter."
   ],
   "cell_type": "markdown",
   "metadata": {}
  },
  {
   "cell_type": "code",
   "execution_count": null,
   "metadata": {},
   "outputs": [],
   "source": [
    "def do_segments_intersect(s1,s2): \n",
    "     u1,u2 = s1 \n",
    "     v1,v2 = s2 \n",
    "     l1, l2 = distance(*s1), distance(*s2) \n",
    "     try: \n",
    "         x,y = intersection(u1,u2,v1,v2) \n",
    "         return (distance(u1, (x,y)) <= l1 and \n",
    "                 distance(u2, (x,y)) <= l1 and \n",
    "                 distance(v1, (x,y)) <= l2 and \n",
    "                 distance(v2, (x,y)) <= l2) \n",
    "     except np.linalg.linalg.LinAlgError: \n",
    "         return False"
   ]
  },
  {
   "source": [
    "### 7.2.7 Exercises"
   ],
   "cell_type": "markdown",
   "metadata": {}
  },
  {
   "source": [
    "**Exercise 7.11:** Write a Python function standard_form that takes two vectors v1 and v2 and finds the line ax + by = c passing through both of them. Specifically, it should output the tuple of constants (a, b, c).\n"
   ],
   "cell_type": "markdown",
   "metadata": {}
  },
  {
   "cell_type": "code",
   "execution_count": 21,
   "metadata": {},
   "outputs": [],
   "source": [
    "def standard_form(v1,v2):\n",
    "    x1, y1 = v1\n",
    "    x2, y2 = v2\n",
    "\n",
    "    a = y2 - y1\n",
    "    b = x1 - x2\n",
    "    c = x1 * y2 - x2 * y1\n",
    "\n",
    "    return (a,b,c)"
   ]
  },
  {
   "source": [
    "**Mini-project 7.12:** For each of the four distance checks in do_segments_intersect, find a pair of line segments that fail one of the checks but pass the other three checks."
   ],
   "cell_type": "markdown",
   "metadata": {}
  },
  {
   "cell_type": "code",
   "execution_count": null,
   "metadata": {},
   "outputs": [],
   "source": [
    "def segment_checks(s1,s2):\n",
    "    u1,u2 = s1\n",
    "    v1,v2 = s2\n",
    "    l1, l2 = distance(*s1), distance(*s2)\n",
    "    x,y = intersection(u1,u2,v1,v2)\n",
    "    return [\n",
    "        distance(u1, (x,y)) <= l1,\n",
    "        distance(u2, (x,y)) <= l1,\n",
    "        distance(v1, (x,y)) <= l2,\n",
    "        distance(v2, (x,y)) <= l2\n",
    "    ]"
   ]
  },
  {
   "source": [
    "**Exercise 7.13:** For the example laser line and asteroid, confirm the does_intersect function returns True. (Hint: use grid lines to find the vertices of the asteroid and build a PolygonModel object representing it.)"
   ],
   "cell_type": "markdown",
   "metadata": {}
  },
  {
   "cell_type": "code",
   "execution_count": 10,
   "metadata": {},
   "outputs": [
    {
     "output_type": "execute_result",
     "data": {
      "text/plain": [
       "True"
      ]
     },
     "metadata": {},
     "execution_count": 10
    }
   ],
   "source": [
    "from asteroids import PolygonModel\n",
    "\n",
    "asteroid1 = PolygonModel(([(2,7), (1,5), (2,3), (4,2), (6,2), (7,4), (6,6), (4,6)]))\n",
    "asteroid1.does_intersect([(0,0),(7,7)])"
   ]
  },
  {
   "cell_type": "code",
   "execution_count": 11,
   "metadata": {},
   "outputs": [
    {
     "output_type": "execute_result",
     "data": {
      "text/plain": [
       "False"
      ]
     },
     "metadata": {},
     "execution_count": 11
    }
   ],
   "source": [
    "asteroid1.does_intersect([(0,0),(0,7)])"
   ]
  },
  {
   "source": [
    "**Exercise 7.14:** Write a does_collide(other_polygon) method to decide whether the current PolygonModel object collides with another other_polygon by checking whether any of the segments that define the two are intersecting. This could help us decide whether an asteroid has hit the ship or another asteroid."
   ],
   "cell_type": "markdown",
   "metadata": {}
  },
  {
   "cell_type": "code",
   "execution_count": 19,
   "metadata": {},
   "outputs": [],
   "source": [
    "def segments(points):\n",
    "    return [(points[i], points[(i+1)%len(points)]) for i in range(0,len(points))]"
   ]
  },
  {
   "cell_type": "code",
   "execution_count": 20,
   "metadata": {},
   "outputs": [
    {
     "output_type": "execute_result",
     "data": {
      "text/plain": [
       "[((2, 7), (1, 5)),\n",
       " ((1, 5), (2, 3)),\n",
       " ((2, 3), (4, 2)),\n",
       " ((4, 2), (6, 2)),\n",
       " ((6, 2), (7, 4)),\n",
       " ((7, 4), (6, 6)),\n",
       " ((6, 6), (4, 6)),\n",
       " ((4, 6), (2, 7))]"
      ]
     },
     "metadata": {},
     "execution_count": 20
    }
   ],
   "source": [
    "p = [(2,7), (1,5), (2,3), (4,2), (6,2), (7,4), (6,6), (4,6)]\n",
    "segments(p)"
   ]
  },
  {
   "cell_type": "code",
   "execution_count": 22,
   "metadata": {},
   "outputs": [],
   "source": [
    "def standard_form(v1,v2):\n",
    "    x1, y1 = v1\n",
    "    x2, y2 = v2\n",
    "\n",
    "    a = y2 - y1\n",
    "    b = x1 - x2\n",
    "    c = x1 * y2 - x2 * y1\n",
    "\n",
    "    return (a,b,c)"
   ]
  },
  {
   "cell_type": "code",
   "execution_count": 24,
   "metadata": {},
   "outputs": [],
   "source": [
    "def intersection(s1, other_seg):\n",
    "    a1, b1, c1 = standard_form(s1)\n",
    "    a2, b2, c2 = standard_form(other_seg)\n",
    "    m = np.array(((a1,b1), (a2,b2)))\n",
    "    c = np.array((c1,c2))\n",
    "    return np.linalg.solve(m,c)"
   ]
  },
  {
   "cell_type": "code",
   "execution_count": null,
   "metadata": {},
   "outputs": [],
   "source": [
    "def does_collide(points, other_points):\n",
    "    seg = segments(points)\n",
    "    other_seg = segments(other_points)\n",
    "\n",
    "    for segment in seg:\n",
    "        for other_segment in other_seg:\n",
    "            pass\n",
    "            #TODO write the whole game from scratch!\n"
   ]
  },
  {
   "source": [
    "## TODO: REDO CHAPTER 5 -- MATRIX!"
   ],
   "cell_type": "markdown",
   "metadata": {}
  },
  {
   "source": [
    "## 7.3 Generalizing linear equations to higher dimensions"
   ],
   "cell_type": "markdown",
   "metadata": {}
  },
  {
   "source": [
    "### 7.3.1 Representing planes in 3D"
   ],
   "cell_type": "markdown",
   "metadata": {}
  },
  {
   "source": [
    "### 7.3.2 Solving linear equations in 3D"
   ],
   "cell_type": "markdown",
   "metadata": {}
  },
  {
   "source": [
    "### 7.3.3 Studying hyperplanes algebraically"
   ],
   "cell_type": "markdown",
   "metadata": {}
  },
  {
   "source": [
    "### 7.3.4 Counting dimensions, equations, and solutions"
   ],
   "cell_type": "markdown",
   "metadata": {}
  },
  {
   "source": [
    "### 7.3.5 Exercises\n"
   ],
   "cell_type": "markdown",
   "metadata": {}
  },
  {
   "source": [
    "**Mini-project 7.19:** Write a Python function that takes three 3D points as inputs and returns the standard form equation of the plane that they lie in. For instance, if the standard form equation is ax + by + cz = d, the function could return the tuple (a, b, c, d)."
   ],
   "cell_type": "markdown",
   "metadata": {}
  },
  {
   "cell_type": "code",
   "execution_count": 3,
   "metadata": {},
   "outputs": [],
   "source": [
    "from vectors import *\n",
    "\n",
    "def plane_equation(p1,p2,p3):\n",
    "    parallel1 = subtract(p2,p1)\n",
    "    parallel2 = subtract(p3,p1)\n",
    "    a,b,c = cross(parallel1, parallel2)\n",
    "    d = dot((a,b,c), p1)\n",
    "    return a,b,c,d"
   ]
  },
  {
   "cell_type": "code",
   "execution_count": 5,
   "metadata": {},
   "outputs": [
    {
     "output_type": "execute_result",
     "data": {
      "text/plain": [
       "(3, 3, 3, 9)"
      ]
     },
     "metadata": {},
     "execution_count": 5
    }
   ],
   "source": [
    "plane_equation((1,1,1), (3,0,0), (0,3,0))"
   ]
  },
  {
   "source": [
    "**Mini-project 7.26:** In any number of dimensions, there is an identity matrix that acts as the identity map. That is, when you multiply the n-dimensional identity matrix I by any vector v, you get the same vector v as a result; therefore, Iv = v.\n",
    "\n",
    "This means that Iv = w is an easy system of linear equations to solve: one possible answer for v is v = w. The idea of this mini-project is that you can start with a system of linear equations, Av = w, and multiply both sides by another matrix B such that (BA) = I. If that is the case, then you have (BA)v = Bw and Iv = Bw or v = Bw. In other words, if you have a system Av = w, and a suitable matrix B, then Bw is the solution to your system. This matrix B is called the inverse matrix of A.\n"
   ],
   "cell_type": "markdown",
   "metadata": {}
  },
  {
   "cell_type": "code",
   "execution_count": 5,
   "metadata": {},
   "outputs": [
    {
     "output_type": "execute_result",
     "data": {
      "text/plain": [
       "array([[1., 0., 0.],\n",
       "       [0., 1., 0.],\n",
       "       [0., 0., 1.]])"
      ]
     },
     "metadata": {},
     "execution_count": 5
    }
   ],
   "source": [
    "m = np.array(((2,0,0), (0,2,0), (0,0,2)))\n",
    "v = np.array((1,1,1))\n",
    "mi = np.linalg.inv(m)\n",
    "np.matmul(m, mi)"
   ]
  },
  {
   "cell_type": "code",
   "execution_count": 12,
   "metadata": {},
   "outputs": [
    {
     "output_type": "execute_result",
     "data": {
      "text/plain": [
       "array([[ 0.66666667, -0.33333333,  0.33333333],\n",
       "       [-0.33333333,  0.66666667,  0.33333333],\n",
       "       [-0.66666667,  0.33333333,  0.66666667]])"
      ]
     },
     "metadata": {},
     "execution_count": 12
    }
   ],
   "source": [
    "matrix = np.array(((1,1,-1),(0,2,-1),(1,0,1)))\n",
    "vector = np.array((-1,3,2))\n",
    "inverse = np.linalg.inv(matrix)\n",
    "inverse"
   ]
  },
  {
   "cell_type": "code",
   "execution_count": 13,
   "metadata": {},
   "outputs": [
    {
     "output_type": "execute_result",
     "data": {
      "text/plain": [
       "array([[ 1.00000000e+00,  1.11022302e-16, -1.11022302e-16],\n",
       "       [ 0.00000000e+00,  1.00000000e+00,  0.00000000e+00],\n",
       "       [ 0.00000000e+00,  0.00000000e+00,  1.00000000e+00]])"
      ]
     },
     "metadata": {},
     "execution_count": 13
    }
   ],
   "source": [
    "np.matmul(inverse, matrix)"
   ]
  },
  {
   "cell_type": "code",
   "execution_count": 14,
   "metadata": {},
   "outputs": [
    {
     "output_type": "execute_result",
     "data": {
      "text/plain": [
       "array([-1.,  3.,  3.])"
      ]
     },
     "metadata": {},
     "execution_count": 14
    }
   ],
   "source": [
    "np.matmul(inverse, vector)"
   ]
  },
  {
   "cell_type": "code",
   "execution_count": null,
   "metadata": {},
   "outputs": [],
   "source": []
  }
 ]
}